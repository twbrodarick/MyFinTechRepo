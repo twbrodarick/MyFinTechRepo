{
 "cells": [
  {
   "cell_type": "markdown",
   "metadata": {},
   "source": [
    "### Plotting a Visual Takeover\n",
    "\n",
    "The executive team has recently partnered up with a business intelligence company to create a BI platform rooted in digital dashboards. In order to help the initaitive, you need to convert all Pandas/Matplotlib visualizations referred to in this document to hvplot visualiations. "
   ]
  },
  {
   "cell_type": "code",
   "execution_count": 3,
   "metadata": {},
   "outputs": [],
   "source": [
    "# Import libraries and dependencies\n",
    "import pandas as pd\n",
    "from pathlib import Path"
   ]
  },
  {
   "cell_type": "code",
   "execution_count": 4,
   "metadata": {},
   "outputs": [],
   "source": [
    "# Import hvplot\n",
    "import hvplot.pandas"
   ]
  },
  {
   "cell_type": "markdown",
   "metadata": {},
   "source": [
    "### Prepare Data"
   ]
  },
  {
   "cell_type": "code",
   "execution_count": 5,
   "metadata": {},
   "outputs": [],
   "source": [
    "# Set the path\n",
    "file_path = Path('../../Resources/sp500_companies.csv')\n",
    "\n",
    "# Read in the CSV as a DataFrame\n",
    "sp500_companies_csv = pd.read_csv(file_path)\n",
    "\n",
    "# Count the frequency of each sector from the list of companies\n",
    "sector_count = sp500_companies_csv['Sector'].value_counts()\n",
    "\n",
    "# Grab the `Symbol` and `Market Cap` columns\n",
    "market_cap = sp500_companies_csv.loc[:, ['Symbol', 'Market Cap']]\n",
    "\n",
    "# Set the 'Symbol' as the index\n",
    "market_cap.set_index(market_cap['Symbol'], inplace=True)\n",
    "\n",
    "# Drop the extra 'Symbol' column\n",
    "market_cap.drop(columns=['Symbol'], inplace=True)\n",
    "\n",
    "# Filter down to 20 companies with the largest market caps\n",
    "top_20_market_cap = market_cap.nlargest(20, 'Market Cap')"
   ]
  },
  {
   "cell_type": "markdown",
   "metadata": {},
   "source": [
    "### Create Plot Using hvplot()"
   ]
  },
  {
   "cell_type": "code",
   "execution_count": 6,
   "metadata": {},
   "outputs": [
    {
     "data": {},
     "metadata": {},
     "output_type": "display_data"
    },
    {
     "data": {
      "application/vnd.holoviews_exec.v0+json": "",
      "text/html": [
       "<div id='1001'>\n",
       "\n",
       "\n",
       "\n",
       "\n",
       "\n",
       "  <div class=\"bk-root\" id=\"f2958056-60e2-4afa-9f8d-33ee87bfa0dd\" data-root-id=\"1001\"></div>\n",
       "</div>\n",
       "<script type=\"application/javascript\">(function(root) {\n",
       "  function embed_document(root) {\n",
       "  var docs_json = {\"0a7996b1-d1a9-486b-8750-15b2abfe6acf\":{\"roots\":{\"references\":[{\"attributes\":{\"end\":869608283227.1,\"reset_end\":869608283227.1,\"reset_start\":148405292741.9,\"start\":148405292741.9,\"tags\":[[[\"Market Cap\",\"Market Cap\",null]]]},\"id\":\"1004\",\"type\":\"Range1d\"},{\"attributes\":{},\"id\":\"1011\",\"type\":\"CategoricalScale\"},{\"attributes\":{\"callback\":null,\"renderers\":[{\"id\":\"1041\"}],\"tags\":[\"hv_created\"],\"tooltips\":[[\"Symbol\",\"@{Symbol}\"],[\"Market Cap\",\"@{Market_Cap}\"]]},\"id\":\"1005\",\"type\":\"HoverTool\"},{\"attributes\":{\"text\":\"\",\"text_color\":{\"value\":\"black\"},\"text_font_size\":{\"value\":\"12pt\"}},\"id\":\"1007\",\"type\":\"Title\"},{\"attributes\":{\"margin\":[5,5,5,5],\"name\":\"HSpacer01511\",\"sizing_mode\":\"stretch_width\"},\"id\":\"1055\",\"type\":\"Spacer\"},{\"attributes\":{},\"id\":\"1013\",\"type\":\"LinearScale\"},{\"attributes\":{\"line_alpha\":0.2,\"line_color\":\"#1f77b3\",\"line_width\":2,\"x\":{\"field\":\"Symbol\"},\"y\":{\"field\":\"Market Cap\"}},\"id\":\"1040\",\"type\":\"Line\"},{\"attributes\":{\"data\":{\"Market Cap\":[809508034020,733823966137,728535558140,689978437468,685873374731,523423036576,386613611000,353062464971,326148660000,321478200969,304680931618,281463620775,270038723213,261401203633,226713270000,223378633329,218978820159,218834811333,211536000000,208505541949],\"Market_Cap\":[809508034020,733823966137,728535558140,689978437468,685873374731,523423036576,386613611000,353062464971,326148660000,321478200969,304680931618,281463620775,270038723213,261401203633,226713270000,223378633329,218978820159,218834811333,211536000000,208505541949],\"Symbol\":[\"AAPL\",\"GOOGL\",\"GOOG\",\"MSFT\",\"AMZN\",\"FB\",\"JPM\",\"JNJ\",\"XOM\",\"BAC\",\"WMT\",\"WFC\",\"V\",\"BRK.B\",\"T\",\"HD\",\"CVX\",\"UNH\",\"INTC\",\"PFE\"]},\"selected\":{\"id\":\"1036\"},\"selection_policy\":{\"id\":\"1053\"}},\"id\":\"1035\",\"type\":\"ColumnDataSource\"},{\"attributes\":{\"align\":null,\"below\":[{\"id\":\"1015\"}],\"center\":[{\"id\":\"1017\"},{\"id\":\"1021\"}],\"left\":[{\"id\":\"1018\"}],\"margin\":null,\"min_border_bottom\":10,\"min_border_left\":10,\"min_border_right\":10,\"min_border_top\":10,\"plot_height\":300,\"plot_width\":700,\"renderers\":[{\"id\":\"1041\"}],\"sizing_mode\":\"fixed\",\"title\":{\"id\":\"1007\"},\"toolbar\":{\"id\":\"1028\"},\"x_range\":{\"id\":\"1003\"},\"x_scale\":{\"id\":\"1011\"},\"y_range\":{\"id\":\"1004\"},\"y_scale\":{\"id\":\"1013\"}},\"id\":\"1006\",\"subtype\":\"Figure\",\"type\":\"Plot\"},{\"attributes\":{\"data_source\":{\"id\":\"1035\"},\"glyph\":{\"id\":\"1038\"},\"hover_glyph\":null,\"muted_glyph\":{\"id\":\"1040\"},\"nonselection_glyph\":{\"id\":\"1039\"},\"selection_glyph\":null,\"view\":{\"id\":\"1042\"}},\"id\":\"1041\",\"type\":\"GlyphRenderer\"},{\"attributes\":{\"factors\":[\"AAPL\",\"GOOGL\",\"GOOG\",\"MSFT\",\"AMZN\",\"FB\",\"JPM\",\"JNJ\",\"XOM\",\"BAC\",\"WMT\",\"WFC\",\"V\",\"BRK.B\",\"T\",\"HD\",\"CVX\",\"UNH\",\"INTC\",\"PFE\"],\"tags\":[[[\"Symbol\",\"Symbol\",null]]]},\"id\":\"1003\",\"type\":\"FactorRange\"},{\"attributes\":{\"axis_label\":\"Symbol\",\"bounds\":\"auto\",\"formatter\":{\"id\":\"1043\"},\"major_label_orientation\":\"horizontal\",\"ticker\":{\"id\":\"1016\"}},\"id\":\"1015\",\"type\":\"CategoricalAxis\"},{\"attributes\":{},\"id\":\"1045\",\"type\":\"BasicTickFormatter\"},{\"attributes\":{\"axis\":{\"id\":\"1015\"},\"grid_line_color\":null,\"ticker\":null},\"id\":\"1017\",\"type\":\"Grid\"},{\"attributes\":{},\"id\":\"1024\",\"type\":\"WheelZoomTool\"},{\"attributes\":{},\"id\":\"1016\",\"type\":\"CategoricalTicker\"},{\"attributes\":{\"children\":[{\"id\":\"1002\"},{\"id\":\"1006\"},{\"id\":\"1055\"}],\"margin\":[0,0,0,0],\"name\":\"Row01506\",\"tags\":[\"embedded\"]},\"id\":\"1001\",\"type\":\"Row\"},{\"attributes\":{\"margin\":[5,5,5,5],\"name\":\"HSpacer01510\",\"sizing_mode\":\"stretch_width\"},\"id\":\"1002\",\"type\":\"Spacer\"},{\"attributes\":{\"axis_label\":\"Market Cap\",\"bounds\":\"auto\",\"formatter\":{\"id\":\"1045\"},\"major_label_orientation\":\"horizontal\",\"ticker\":{\"id\":\"1019\"}},\"id\":\"1018\",\"type\":\"LinearAxis\"},{\"attributes\":{\"line_color\":\"#1f77b3\",\"line_width\":2,\"x\":{\"field\":\"Symbol\"},\"y\":{\"field\":\"Market Cap\"}},\"id\":\"1038\",\"type\":\"Line\"},{\"attributes\":{},\"id\":\"1053\",\"type\":\"UnionRenderers\"},{\"attributes\":{},\"id\":\"1019\",\"type\":\"BasicTicker\"},{\"attributes\":{\"active_drag\":\"auto\",\"active_inspect\":\"auto\",\"active_multi\":null,\"active_scroll\":\"auto\",\"active_tap\":\"auto\",\"tools\":[{\"id\":\"1005\"},{\"id\":\"1022\"},{\"id\":\"1023\"},{\"id\":\"1024\"},{\"id\":\"1025\"},{\"id\":\"1026\"}]},\"id\":\"1028\",\"type\":\"Toolbar\"},{\"attributes\":{\"axis\":{\"id\":\"1018\"},\"dimension\":1,\"grid_line_color\":null,\"ticker\":null},\"id\":\"1021\",\"type\":\"Grid\"},{\"attributes\":{},\"id\":\"1043\",\"type\":\"CategoricalTickFormatter\"},{\"attributes\":{\"bottom_units\":\"screen\",\"fill_alpha\":0.5,\"fill_color\":\"lightgrey\",\"left_units\":\"screen\",\"level\":\"overlay\",\"line_alpha\":1.0,\"line_color\":\"black\",\"line_dash\":[4,4],\"line_width\":2,\"render_mode\":\"css\",\"right_units\":\"screen\",\"top_units\":\"screen\"},\"id\":\"1027\",\"type\":\"BoxAnnotation\"},{\"attributes\":{},\"id\":\"1036\",\"type\":\"Selection\"},{\"attributes\":{},\"id\":\"1026\",\"type\":\"ResetTool\"},{\"attributes\":{\"line_alpha\":0.1,\"line_color\":\"#1f77b3\",\"line_width\":2,\"x\":{\"field\":\"Symbol\"},\"y\":{\"field\":\"Market Cap\"}},\"id\":\"1039\",\"type\":\"Line\"},{\"attributes\":{},\"id\":\"1022\",\"type\":\"SaveTool\"},{\"attributes\":{\"source\":{\"id\":\"1035\"}},\"id\":\"1042\",\"type\":\"CDSView\"},{\"attributes\":{},\"id\":\"1023\",\"type\":\"PanTool\"},{\"attributes\":{\"overlay\":{\"id\":\"1027\"}},\"id\":\"1025\",\"type\":\"BoxZoomTool\"}],\"root_ids\":[\"1001\"]},\"title\":\"Bokeh Application\",\"version\":\"2.0.1\"}};\n",
       "  var render_items = [{\"docid\":\"0a7996b1-d1a9-486b-8750-15b2abfe6acf\",\"root_ids\":[\"1001\"],\"roots\":{\"1001\":\"f2958056-60e2-4afa-9f8d-33ee87bfa0dd\"}}];\n",
       "  root.Bokeh.embed.embed_items_notebook(docs_json, render_items);\n",
       "  }\n",
       "if (root.Bokeh !== undefined) {\n",
       "    embed_document(root);\n",
       "  } else {\n",
       "    var attempts = 0;\n",
       "    var timer = setInterval(function(root) {\n",
       "      if (root.Bokeh !== undefined) {\n",
       "        clearInterval(timer);\n",
       "        embed_document(root);\n",
       "      } else if (document.readyState == \"complete\") {\n",
       "        attempts++;\n",
       "        if (attempts > 100) {\n",
       "          clearInterval(timer);\n",
       "          console.log(\"Bokeh: ERROR: Unable to run BokehJS code because BokehJS library is missing\");\n",
       "        }\n",
       "      }\n",
       "    }, 10, root)\n",
       "  }\n",
       "})(window);</script>"
      ],
      "text/plain": [
       ":Curve   [Symbol]   (Market Cap)"
      ]
     },
     "execution_count": 6,
     "metadata": {
      "application/vnd.holoviews_exec.v0+json": {
       "id": "1001"
      }
     },
     "output_type": "execute_result"
    }
   ],
   "source": [
    "# Generate standard hvplot\n",
    "top_20_market_cap.hvplot()"
   ]
  },
  {
   "cell_type": "markdown",
   "metadata": {},
   "source": [
    "### Create Bar Plot Using hvplot.bar()"
   ]
  },
  {
   "cell_type": "code",
   "execution_count": 14,
   "metadata": {},
   "outputs": [
    {
     "name": "stderr",
     "output_type": "stream",
     "text": [
      "WARNING:param.BarPlot02511: title_format is deprecated. Please use title instead\n",
      "WARNING:param.BarPlot02511: title_format is deprecated. Please use title instead\n"
     ]
    },
    {
     "data": {},
     "metadata": {},
     "output_type": "display_data"
    },
    {
     "data": {
      "application/vnd.holoviews_exec.v0+json": "",
      "text/html": [
       "<div id='1673'>\n",
       "\n",
       "\n",
       "\n",
       "\n",
       "\n",
       "  <div class=\"bk-root\" id=\"d428ef2b-6c45-479f-886a-a6952dc39650\" data-root-id=\"1673\"></div>\n",
       "</div>\n",
       "<script type=\"application/javascript\">(function(root) {\n",
       "  function embed_document(root) {\n",
       "  var docs_json = {\"b6f53164-ae0c-437f-8cc7-da6f25808ab9\":{\"roots\":{\"references\":[{\"attributes\":{\"margin\":[5,5,5,5],\"name\":\"HSpacer02487\",\"sizing_mode\":\"stretch_width\"},\"id\":\"1727\",\"type\":\"Spacer\"},{\"attributes\":{},\"id\":\"1696\",\"type\":\"WheelZoomTool\"},{\"attributes\":{},\"id\":\"1717\",\"type\":\"BasicTickFormatter\"},{\"attributes\":{},\"id\":\"1715\",\"type\":\"CategoricalTickFormatter\"},{\"attributes\":{\"fill_alpha\":{\"value\":0.2},\"fill_color\":{\"value\":\"#1f77b3\"},\"line_alpha\":{\"value\":0.2},\"top\":{\"field\":\"Market_Cap\"},\"width\":{\"value\":0.8},\"x\":{\"field\":\"Symbol\"}},\"id\":\"1712\",\"type\":\"VBar\"},{\"attributes\":{\"source\":{\"id\":\"1707\"}},\"id\":\"1714\",\"type\":\"CDSView\"},{\"attributes\":{\"data_source\":{\"id\":\"1707\"},\"glyph\":{\"id\":\"1710\"},\"hover_glyph\":null,\"muted_glyph\":{\"id\":\"1712\"},\"nonselection_glyph\":{\"id\":\"1711\"},\"selection_glyph\":null,\"view\":{\"id\":\"1714\"}},\"id\":\"1713\",\"type\":\"GlyphRenderer\"},{\"attributes\":{},\"id\":\"1685\",\"type\":\"LinearScale\"},{\"attributes\":{},\"id\":\"1695\",\"type\":\"PanTool\"},{\"attributes\":{\"axis\":{\"id\":\"1690\"},\"dimension\":1,\"grid_line_color\":null,\"ticker\":null},\"id\":\"1693\",\"type\":\"Grid\"},{\"attributes\":{\"active_drag\":\"auto\",\"active_inspect\":\"auto\",\"active_multi\":null,\"active_scroll\":\"auto\",\"active_tap\":\"auto\",\"tools\":[{\"id\":\"1677\"},{\"id\":\"1694\"},{\"id\":\"1695\"},{\"id\":\"1696\"},{\"id\":\"1697\"},{\"id\":\"1698\"}]},\"id\":\"1700\",\"type\":\"Toolbar\"},{\"attributes\":{\"callback\":null,\"renderers\":[{\"id\":\"1713\"}],\"tags\":[\"hv_created\"],\"tooltips\":[[\"Symbol\",\"@{Symbol}\"],[\"Market Cap\",\"@{Market_Cap}\"]]},\"id\":\"1677\",\"type\":\"HoverTool\"},{\"attributes\":{\"overlay\":{\"id\":\"1699\"}},\"id\":\"1697\",\"type\":\"BoxZoomTool\"},{\"attributes\":{\"axis_label\":\"Symbol\",\"bounds\":\"auto\",\"formatter\":{\"id\":\"1715\"},\"major_label_orientation\":\"horizontal\",\"ticker\":{\"id\":\"1688\"}},\"id\":\"1687\",\"type\":\"CategoricalAxis\"},{\"attributes\":{\"margin\":[5,5,5,5],\"name\":\"HSpacer02486\",\"sizing_mode\":\"stretch_width\"},\"id\":\"1674\",\"type\":\"Spacer\"},{\"attributes\":{},\"id\":\"1698\",\"type\":\"ResetTool\"},{\"attributes\":{},\"id\":\"1725\",\"type\":\"UnionRenderers\"},{\"attributes\":{},\"id\":\"1694\",\"type\":\"SaveTool\"},{\"attributes\":{\"fill_color\":{\"value\":\"#1f77b3\"},\"top\":{\"field\":\"Market_Cap\"},\"width\":{\"value\":0.8},\"x\":{\"field\":\"Symbol\"}},\"id\":\"1710\",\"type\":\"VBar\"},{\"attributes\":{\"fill_alpha\":{\"value\":0.1},\"fill_color\":{\"value\":\"#1f77b3\"},\"line_alpha\":{\"value\":0.1},\"top\":{\"field\":\"Market_Cap\"},\"width\":{\"value\":0.8},\"x\":{\"field\":\"Symbol\"}},\"id\":\"1711\",\"type\":\"VBar\"},{\"attributes\":{},\"id\":\"1691\",\"type\":\"BasicTicker\"},{\"attributes\":{\"data\":{\"Market_Cap\":[809508034020,733823966137,728535558140,689978437468,685873374731,523423036576,386613611000,353062464971,326148660000,321478200969,304680931618,281463620775,270038723213,261401203633,226713270000,223378633329,218978820159,218834811333,211536000000,208505541949],\"Symbol\":[\"AAPL\",\"GOOGL\",\"GOOG\",\"MSFT\",\"AMZN\",\"FB\",\"JPM\",\"JNJ\",\"XOM\",\"BAC\",\"WMT\",\"WFC\",\"V\",\"BRK.B\",\"T\",\"HD\",\"CVX\",\"UNH\",\"INTC\",\"PFE\"]},\"selected\":{\"id\":\"1708\"},\"selection_policy\":{\"id\":\"1725\"}},\"id\":\"1707\",\"type\":\"ColumnDataSource\"},{\"attributes\":{\"text\":\"Top 20 Cos. by Market Cap ($ billions)\",\"text_color\":{\"value\":\"black\"},\"text_font_size\":{\"value\":\"12pt\"}},\"id\":\"1679\",\"type\":\"Title\"},{\"attributes\":{},\"id\":\"1708\",\"type\":\"Selection\"},{\"attributes\":{\"children\":[{\"id\":\"1674\"},{\"id\":\"1678\"},{\"id\":\"1727\"}],\"margin\":[0,0,0,0],\"name\":\"Row02482\",\"tags\":[\"embedded\"]},\"id\":\"1673\",\"type\":\"Row\"},{\"attributes\":{\"align\":null,\"below\":[{\"id\":\"1687\"}],\"center\":[{\"id\":\"1689\"},{\"id\":\"1693\"}],\"left\":[{\"id\":\"1690\"}],\"margin\":null,\"min_border_bottom\":10,\"min_border_left\":10,\"min_border_right\":10,\"min_border_top\":10,\"plot_height\":300,\"plot_width\":700,\"renderers\":[{\"id\":\"1713\"}],\"sizing_mode\":\"fixed\",\"title\":{\"id\":\"1679\"},\"toolbar\":{\"id\":\"1700\"},\"x_range\":{\"id\":\"1675\"},\"x_scale\":{\"id\":\"1683\"},\"y_range\":{\"id\":\"1676\"},\"y_scale\":{\"id\":\"1685\"}},\"id\":\"1678\",\"subtype\":\"Figure\",\"type\":\"Plot\"},{\"attributes\":{\"axis_label\":\"Market Cap\",\"bounds\":\"auto\",\"formatter\":{\"id\":\"1717\"},\"major_label_orientation\":\"horizontal\",\"ticker\":{\"id\":\"1691\"}},\"id\":\"1690\",\"type\":\"LinearAxis\"},{\"attributes\":{\"axis\":{\"id\":\"1687\"},\"grid_line_color\":null,\"ticker\":null},\"id\":\"1689\",\"type\":\"Grid\"},{\"attributes\":{},\"id\":\"1683\",\"type\":\"CategoricalScale\"},{\"attributes\":{},\"id\":\"1688\",\"type\":\"CategoricalTicker\"},{\"attributes\":{\"bottom_units\":\"screen\",\"fill_alpha\":0.5,\"fill_color\":\"lightgrey\",\"left_units\":\"screen\",\"level\":\"overlay\",\"line_alpha\":1.0,\"line_color\":\"black\",\"line_dash\":[4,4],\"line_width\":2,\"render_mode\":\"css\",\"right_units\":\"screen\",\"top_units\":\"screen\"},\"id\":\"1699\",\"type\":\"BoxAnnotation\"},{\"attributes\":{\"factors\":[\"AAPL\",\"GOOGL\",\"GOOG\",\"MSFT\",\"AMZN\",\"FB\",\"JPM\",\"JNJ\",\"XOM\",\"BAC\",\"WMT\",\"WFC\",\"V\",\"BRK.B\",\"T\",\"HD\",\"CVX\",\"UNH\",\"INTC\",\"PFE\"],\"tags\":[[[\"Symbol\",\"Symbol\",null]]]},\"id\":\"1675\",\"type\":\"FactorRange\"},{\"attributes\":{\"end\":869608283227.1,\"reset_end\":869608283227.1,\"reset_start\":0.0,\"tags\":[[[\"Market Cap\",\"Market Cap\",null]]]},\"id\":\"1676\",\"type\":\"Range1d\"}],\"root_ids\":[\"1673\"]},\"title\":\"Bokeh Application\",\"version\":\"2.0.1\"}};\n",
       "  var render_items = [{\"docid\":\"b6f53164-ae0c-437f-8cc7-da6f25808ab9\",\"root_ids\":[\"1673\"],\"roots\":{\"1673\":\"d428ef2b-6c45-479f-886a-a6952dc39650\"}}];\n",
       "  root.Bokeh.embed.embed_items_notebook(docs_json, render_items);\n",
       "  }\n",
       "if (root.Bokeh !== undefined) {\n",
       "    embed_document(root);\n",
       "  } else {\n",
       "    var attempts = 0;\n",
       "    var timer = setInterval(function(root) {\n",
       "      if (root.Bokeh !== undefined) {\n",
       "        clearInterval(timer);\n",
       "        embed_document(root);\n",
       "      } else if (document.readyState == \"complete\") {\n",
       "        attempts++;\n",
       "        if (attempts > 100) {\n",
       "          clearInterval(timer);\n",
       "          console.log(\"Bokeh: ERROR: Unable to run BokehJS code because BokehJS library is missing\");\n",
       "        }\n",
       "      }\n",
       "    }, 10, root)\n",
       "  }\n",
       "})(window);</script>"
      ],
      "text/plain": [
       ":Bars   [Symbol]   (Market Cap)"
      ]
     },
     "execution_count": 14,
     "metadata": {
      "application/vnd.holoviews_exec.v0+json": {
       "id": "1673"
      }
     },
     "output_type": "execute_result"
    }
   ],
   "source": [
    "# Plot a hvplot bar chart of the top 20 market cap companies\n",
    "top_20_market_cap.hvplot.bar(title='Top 20 Cos. by Market Cap ($ billions)')"
   ]
  },
  {
   "cell_type": "code",
   "execution_count": null,
   "metadata": {},
   "outputs": [],
   "source": []
  }
 ],
 "metadata": {
  "kernelspec": {
   "display_name": "Python (Viz)",
   "language": "python",
   "name": "viz"
  },
  "language_info": {
   "codemirror_mode": {
    "name": "ipython",
    "version": 3
   },
   "file_extension": ".py",
   "mimetype": "text/x-python",
   "name": "python",
   "nbconvert_exporter": "python",
   "pygments_lexer": "ipython3",
   "version": "3.7.7"
  }
 },
 "nbformat": 4,
 "nbformat_minor": 4
}
