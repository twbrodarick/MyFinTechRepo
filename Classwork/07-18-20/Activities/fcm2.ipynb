{
 "cells": [
  {
   "cell_type": "code",
   "execution_count": 64,
   "metadata": {},
   "outputs": [],
   "source": [
    "from bit import wif_to_key"
   ]
  },
  {
   "cell_type": "code",
   "execution_count": 65,
   "metadata": {},
   "outputs": [],
   "source": [
    "key = wif_to_key(\"cT47rTHUVJVMEQgX2GjhYrQbWy3CriRML35PuiWZHKjwThnn7ibp\")"
   ]
  },
  {
   "cell_type": "code",
   "execution_count": 66,
   "metadata": {},
   "outputs": [
    {
     "data": {
      "text/plain": [
       "'0.00966584'"
      ]
     },
     "execution_count": 66,
     "metadata": {},
     "output_type": "execute_result"
    }
   ],
   "source": [
    "key.get_balance(\"btc\")"
   ]
  },
  {
   "cell_type": "code",
   "execution_count": 67,
   "metadata": {},
   "outputs": [
    {
     "data": {
      "text/plain": [
       "'88.65'"
      ]
     },
     "execution_count": 67,
     "metadata": {},
     "output_type": "execute_result"
    }
   ],
   "source": [
    "key.balance_as(\"usd\")"
   ]
  },
  {
   "cell_type": "code",
   "execution_count": 68,
   "metadata": {},
   "outputs": [],
   "source": [
    "addresses = [\"mj6y5iYnDYM45bWic86Ht8AgB15BVnw6vE\"]\n"
   ]
  },
  {
   "cell_type": "code",
   "execution_count": 69,
   "metadata": {},
   "outputs": [
    {
     "name": "stdout",
     "output_type": "stream",
     "text": [
      "ca35927ea1c7980d7ed3214e96a71e5fe3d762a67f68ef6a70db954ec20cafc3\n"
     ]
    }
   ],
   "source": [
    "outputs = []\n",
    "for address in addresses:\n",
    "    outputs.append((address, 0.008, \"btc\"))\n",
    "    \n",
    "print(key.send(outputs))"
   ]
  },
  {
   "cell_type": "code",
   "execution_count": 70,
   "metadata": {},
   "outputs": [
    {
     "data": {
      "text/plain": [
       "['9ca496755365ba5d904a76bea0f920c0122249e1e942c71748da0b1569e22523',\n",
       " 'b964015206f1f5a5e5b72309dbc58aad6b5805e2e21ccc273843dc81260e05a9',\n",
       " '1809289385909fb90947f126253cb06b86717f153f18e54d691a09c81e1154ce',\n",
       " '9508f8b5a111667123e945d0130a044c0767d1602703d54e613546f486f6dded',\n",
       " '1840fb8f7aa177aad515a92dc32ac7f3291c93557c110744fac8cad151fab4a9',\n",
       " '3b5a22e00e24bb7a5cdabf452da4daa1168f4fecc31fdc1c2450df96faf589c8',\n",
       " 'bff2e4487bd5cee017622f04c7ddb1b8327363fa4952bb0bf2a649401d1a4ac3']"
      ]
     },
     "execution_count": 70,
     "metadata": {},
     "output_type": "execute_result"
    }
   ],
   "source": [
    "#tx history for the private key above\n",
    "key.get_transactions()"
   ]
  },
  {
   "cell_type": "code",
   "execution_count": 71,
   "metadata": {},
   "outputs": [
    {
     "data": {
      "text/plain": [
       "[Unspent(amount=966584, confirmations=1, script='76a914a42a419377dcde836d1e9a4e42e3e595cd076f9b88ac', txid='9ca496755365ba5d904a76bea0f920c0122249e1e942c71748da0b1569e22523', txindex=1, segwit=False)]"
      ]
     },
     "execution_count": 71,
     "metadata": {},
     "output_type": "execute_result"
    }
   ],
   "source": [
    "key.get_unspents()"
   ]
  },
  {
   "cell_type": "code",
   "execution_count": null,
   "metadata": {},
   "outputs": [],
   "source": []
  }
 ],
 "metadata": {
  "kernelspec": {
   "display_name": "Python PyViz",
   "language": "python",
   "name": "pyviz"
  },
  "language_info": {
   "codemirror_mode": {
    "name": "ipython",
    "version": 3
   },
   "file_extension": ".py",
   "mimetype": "text/x-python",
   "name": "python",
   "nbconvert_exporter": "python",
   "pygments_lexer": "ipython3",
   "version": "3.7.7"
  }
 },
 "nbformat": 4,
 "nbformat_minor": 4
}
