{
 "cells": [
  {
   "cell_type": "markdown",
   "metadata": {},
   "source": [
    "# Calculating Correlation Using Pandas DataFrames"
   ]
  },
  {
   "cell_type": "markdown",
   "metadata": {},
   "source": [
    "## 1. Import Libraries and Dependencies"
   ]
  },
  {
   "cell_type": "code",
   "execution_count": 21,
   "metadata": {},
   "outputs": [],
   "source": [
    "# Import libraries and dependencies\n",
    "import pandas as pd\n",
    "from pathlib import Path\n",
    "import seaborn as sns\n",
    "%matplotlib inline"
   ]
  },
  {
   "cell_type": "markdown",
   "metadata": {},
   "source": [
    "## 2. Create a Path to the File Using Pathlib."
   ]
  },
  {
   "cell_type": "code",
   "execution_count": 22,
   "metadata": {},
   "outputs": [],
   "source": [
    "# Set the file paths to the CSVs using the Path class from the pathlib library\n",
    "msft_csv_path = Path(\"../Resources/MSFT.csv\")\n",
    "sp500_csv_path = Path(\"../Resources/SP500.csv\")"
   ]
  },
  {
   "cell_type": "markdown",
   "metadata": {},
   "source": [
    "## 3. Read the CSV into a Pandas DataFrame."
   ]
  },
  {
   "cell_type": "code",
   "execution_count": 23,
   "metadata": {},
   "outputs": [],
   "source": [
    "# Read the ice cream sales data, set the `Month` as the index\n",
    "msft_df = pd.read_csv(msft_csv_path, index_col=\"date\", infer_datetime_format=True, parse_dates=True)\n",
    "sp500_df = pd.read_csv(sp500_csv_path, index_col=\"date\", infer_datetime_format=True, parse_dates=True)"
   ]
  },
  {
   "cell_type": "markdown",
   "metadata": {},
   "source": [
    "## 4. Combine the DataFrames"
   ]
  },
  {
   "cell_type": "code",
   "execution_count": 24,
   "metadata": {},
   "outputs": [
    {
     "data": {
      "text/html": [
       "<div>\n",
       "<style scoped>\n",
       "    .dataframe tbody tr th:only-of-type {\n",
       "        vertical-align: middle;\n",
       "    }\n",
       "\n",
       "    .dataframe tbody tr th {\n",
       "        vertical-align: top;\n",
       "    }\n",
       "\n",
       "    .dataframe thead th {\n",
       "        text-align: right;\n",
       "    }\n",
       "</style>\n",
       "<table border=\"1\" class=\"dataframe\">\n",
       "  <thead>\n",
       "    <tr style=\"text-align: right;\">\n",
       "      <th></th>\n",
       "      <th>close</th>\n",
       "      <th>volume</th>\n",
       "      <th>open</th>\n",
       "      <th>high</th>\n",
       "      <th>low</th>\n",
       "      <th>close</th>\n",
       "    </tr>\n",
       "    <tr>\n",
       "      <th>date</th>\n",
       "      <th></th>\n",
       "      <th></th>\n",
       "      <th></th>\n",
       "      <th></th>\n",
       "      <th></th>\n",
       "      <th></th>\n",
       "    </tr>\n",
       "  </thead>\n",
       "  <tbody>\n",
       "    <tr>\n",
       "      <td>2014-05-20</td>\n",
       "      <td>39.68</td>\n",
       "      <td>21318920</td>\n",
       "      <td>39.680</td>\n",
       "      <td>39.94</td>\n",
       "      <td>39.4600</td>\n",
       "      <td>1872.829956</td>\n",
       "    </tr>\n",
       "    <tr>\n",
       "      <td>2014-05-21</td>\n",
       "      <td>40.35</td>\n",
       "      <td>22377460</td>\n",
       "      <td>39.800</td>\n",
       "      <td>40.35</td>\n",
       "      <td>39.7399</td>\n",
       "      <td>1888.030029</td>\n",
       "    </tr>\n",
       "    <tr>\n",
       "      <td>2014-05-22</td>\n",
       "      <td>40.10</td>\n",
       "      <td>20201010</td>\n",
       "      <td>40.290</td>\n",
       "      <td>40.35</td>\n",
       "      <td>39.8500</td>\n",
       "      <td>1892.489990</td>\n",
       "    </tr>\n",
       "    <tr>\n",
       "      <td>2014-05-23</td>\n",
       "      <td>40.12</td>\n",
       "      <td>18013300</td>\n",
       "      <td>40.370</td>\n",
       "      <td>40.37</td>\n",
       "      <td>40.0000</td>\n",
       "      <td>1900.530029</td>\n",
       "    </tr>\n",
       "    <tr>\n",
       "      <td>2014-05-27</td>\n",
       "      <td>40.19</td>\n",
       "      <td>26160450</td>\n",
       "      <td>40.260</td>\n",
       "      <td>40.26</td>\n",
       "      <td>39.8100</td>\n",
       "      <td>1911.910034</td>\n",
       "    </tr>\n",
       "    <tr>\n",
       "      <td>...</td>\n",
       "      <td>...</td>\n",
       "      <td>...</td>\n",
       "      <td>...</td>\n",
       "      <td>...</td>\n",
       "      <td>...</td>\n",
       "      <td>...</td>\n",
       "    </tr>\n",
       "    <tr>\n",
       "      <td>2019-05-13</td>\n",
       "      <td>123.35</td>\n",
       "      <td>33944920</td>\n",
       "      <td>124.110</td>\n",
       "      <td>125.55</td>\n",
       "      <td>123.0400</td>\n",
       "      <td>2811.870117</td>\n",
       "    </tr>\n",
       "    <tr>\n",
       "      <td>2019-05-14</td>\n",
       "      <td>124.73</td>\n",
       "      <td>25266320</td>\n",
       "      <td>123.870</td>\n",
       "      <td>125.88</td>\n",
       "      <td>123.7000</td>\n",
       "      <td>2834.409912</td>\n",
       "    </tr>\n",
       "    <tr>\n",
       "      <td>2019-05-15</td>\n",
       "      <td>126.02</td>\n",
       "      <td>24722710</td>\n",
       "      <td>124.260</td>\n",
       "      <td>126.71</td>\n",
       "      <td>123.7000</td>\n",
       "      <td>2850.959961</td>\n",
       "    </tr>\n",
       "    <tr>\n",
       "      <td>2019-05-16</td>\n",
       "      <td>128.93</td>\n",
       "      <td>30112220</td>\n",
       "      <td>126.750</td>\n",
       "      <td>129.38</td>\n",
       "      <td>126.4600</td>\n",
       "      <td>2876.320068</td>\n",
       "    </tr>\n",
       "    <tr>\n",
       "      <td>2019-05-17</td>\n",
       "      <td>128.07</td>\n",
       "      <td>25770540</td>\n",
       "      <td>128.305</td>\n",
       "      <td>130.46</td>\n",
       "      <td>127.9200</td>\n",
       "      <td>2859.530029</td>\n",
       "    </tr>\n",
       "  </tbody>\n",
       "</table>\n",
       "<p>1258 rows × 6 columns</p>\n",
       "</div>"
      ],
      "text/plain": [
       "             close    volume     open    high       low        close\n",
       "date                                                                \n",
       "2014-05-20   39.68  21318920   39.680   39.94   39.4600  1872.829956\n",
       "2014-05-21   40.35  22377460   39.800   40.35   39.7399  1888.030029\n",
       "2014-05-22   40.10  20201010   40.290   40.35   39.8500  1892.489990\n",
       "2014-05-23   40.12  18013300   40.370   40.37   40.0000  1900.530029\n",
       "2014-05-27   40.19  26160450   40.260   40.26   39.8100  1911.910034\n",
       "...            ...       ...      ...     ...       ...          ...\n",
       "2019-05-13  123.35  33944920  124.110  125.55  123.0400  2811.870117\n",
       "2019-05-14  124.73  25266320  123.870  125.88  123.7000  2834.409912\n",
       "2019-05-15  126.02  24722710  124.260  126.71  123.7000  2850.959961\n",
       "2019-05-16  128.93  30112220  126.750  129.38  126.4600  2876.320068\n",
       "2019-05-17  128.07  25770540  128.305  130.46  127.9200  2859.530029\n",
       "\n",
       "[1258 rows x 6 columns]"
      ]
     },
     "execution_count": 24,
     "metadata": {},
     "output_type": "execute_result"
    }
   ],
   "source": [
    "# Use the `concat` function to combine the two DataFrames by matching indexes (or in this case `Month`)\n",
    "combined_df = pd.concat([msft_df, sp500_df], axis=\"columns\", join=\"inner\")\n",
    "combined_df"
   ]
  },
  {
   "cell_type": "markdown",
   "metadata": {},
   "source": [
    "## 5. Drop Extra Columns"
   ]
  },
  {
   "cell_type": "code",
   "execution_count": 25,
   "metadata": {},
   "outputs": [
    {
     "data": {
      "text/html": [
       "<div>\n",
       "<style scoped>\n",
       "    .dataframe tbody tr th:only-of-type {\n",
       "        vertical-align: middle;\n",
       "    }\n",
       "\n",
       "    .dataframe tbody tr th {\n",
       "        vertical-align: top;\n",
       "    }\n",
       "\n",
       "    .dataframe thead th {\n",
       "        text-align: right;\n",
       "    }\n",
       "</style>\n",
       "<table border=\"1\" class=\"dataframe\">\n",
       "  <thead>\n",
       "    <tr style=\"text-align: right;\">\n",
       "      <th></th>\n",
       "      <th>close</th>\n",
       "      <th>close</th>\n",
       "    </tr>\n",
       "    <tr>\n",
       "      <th>date</th>\n",
       "      <th></th>\n",
       "      <th></th>\n",
       "    </tr>\n",
       "  </thead>\n",
       "  <tbody>\n",
       "    <tr>\n",
       "      <td>2014-05-20</td>\n",
       "      <td>39.68</td>\n",
       "      <td>1872.829956</td>\n",
       "    </tr>\n",
       "    <tr>\n",
       "      <td>2014-05-21</td>\n",
       "      <td>40.35</td>\n",
       "      <td>1888.030029</td>\n",
       "    </tr>\n",
       "    <tr>\n",
       "      <td>2014-05-22</td>\n",
       "      <td>40.10</td>\n",
       "      <td>1892.489990</td>\n",
       "    </tr>\n",
       "    <tr>\n",
       "      <td>2014-05-23</td>\n",
       "      <td>40.12</td>\n",
       "      <td>1900.530029</td>\n",
       "    </tr>\n",
       "    <tr>\n",
       "      <td>2014-05-27</td>\n",
       "      <td>40.19</td>\n",
       "      <td>1911.910034</td>\n",
       "    </tr>\n",
       "    <tr>\n",
       "      <td>...</td>\n",
       "      <td>...</td>\n",
       "      <td>...</td>\n",
       "    </tr>\n",
       "    <tr>\n",
       "      <td>2019-05-13</td>\n",
       "      <td>123.35</td>\n",
       "      <td>2811.870117</td>\n",
       "    </tr>\n",
       "    <tr>\n",
       "      <td>2019-05-14</td>\n",
       "      <td>124.73</td>\n",
       "      <td>2834.409912</td>\n",
       "    </tr>\n",
       "    <tr>\n",
       "      <td>2019-05-15</td>\n",
       "      <td>126.02</td>\n",
       "      <td>2850.959961</td>\n",
       "    </tr>\n",
       "    <tr>\n",
       "      <td>2019-05-16</td>\n",
       "      <td>128.93</td>\n",
       "      <td>2876.320068</td>\n",
       "    </tr>\n",
       "    <tr>\n",
       "      <td>2019-05-17</td>\n",
       "      <td>128.07</td>\n",
       "      <td>2859.530029</td>\n",
       "    </tr>\n",
       "  </tbody>\n",
       "</table>\n",
       "<p>1258 rows × 2 columns</p>\n",
       "</div>"
      ],
      "text/plain": [
       "             close        close\n",
       "date                           \n",
       "2014-05-20   39.68  1872.829956\n",
       "2014-05-21   40.35  1888.030029\n",
       "2014-05-22   40.10  1892.489990\n",
       "2014-05-23   40.12  1900.530029\n",
       "2014-05-27   40.19  1911.910034\n",
       "...            ...          ...\n",
       "2019-05-13  123.35  2811.870117\n",
       "2019-05-14  124.73  2834.409912\n",
       "2019-05-15  126.02  2850.959961\n",
       "2019-05-16  128.93  2876.320068\n",
       "2019-05-17  128.07  2859.530029\n",
       "\n",
       "[1258 rows x 2 columns]"
      ]
     },
     "execution_count": 25,
     "metadata": {},
     "output_type": "execute_result"
    }
   ],
   "source": [
    "# Drop the extra columns from the DataFrame\n",
    "combined_df.drop(columns=[\"volume\", \"low\", \"high\", \"open\"], inplace=True)\n",
    "combined_df"
   ]
  },
  {
   "cell_type": "markdown",
   "metadata": {},
   "source": [
    "## 6. Rename Columns"
   ]
  },
  {
   "cell_type": "code",
   "execution_count": 31,
   "metadata": {},
   "outputs": [
    {
     "data": {
      "text/html": [
       "<div>\n",
       "<style scoped>\n",
       "    .dataframe tbody tr th:only-of-type {\n",
       "        vertical-align: middle;\n",
       "    }\n",
       "\n",
       "    .dataframe tbody tr th {\n",
       "        vertical-align: top;\n",
       "    }\n",
       "\n",
       "    .dataframe thead th {\n",
       "        text-align: right;\n",
       "    }\n",
       "</style>\n",
       "<table border=\"1\" class=\"dataframe\">\n",
       "  <thead>\n",
       "    <tr style=\"text-align: right;\">\n",
       "      <th></th>\n",
       "      <th>MSFT</th>\n",
       "      <th>SP500</th>\n",
       "    </tr>\n",
       "    <tr>\n",
       "      <th>date</th>\n",
       "      <th></th>\n",
       "      <th></th>\n",
       "    </tr>\n",
       "  </thead>\n",
       "  <tbody>\n",
       "    <tr>\n",
       "      <td>2014-05-20</td>\n",
       "      <td>39.68</td>\n",
       "      <td>1872.829956</td>\n",
       "    </tr>\n",
       "    <tr>\n",
       "      <td>2014-05-21</td>\n",
       "      <td>40.35</td>\n",
       "      <td>1888.030029</td>\n",
       "    </tr>\n",
       "    <tr>\n",
       "      <td>2014-05-22</td>\n",
       "      <td>40.10</td>\n",
       "      <td>1892.489990</td>\n",
       "    </tr>\n",
       "    <tr>\n",
       "      <td>2014-05-23</td>\n",
       "      <td>40.12</td>\n",
       "      <td>1900.530029</td>\n",
       "    </tr>\n",
       "    <tr>\n",
       "      <td>2014-05-27</td>\n",
       "      <td>40.19</td>\n",
       "      <td>1911.910034</td>\n",
       "    </tr>\n",
       "    <tr>\n",
       "      <td>...</td>\n",
       "      <td>...</td>\n",
       "      <td>...</td>\n",
       "    </tr>\n",
       "    <tr>\n",
       "      <td>2019-05-13</td>\n",
       "      <td>123.35</td>\n",
       "      <td>2811.870117</td>\n",
       "    </tr>\n",
       "    <tr>\n",
       "      <td>2019-05-14</td>\n",
       "      <td>124.73</td>\n",
       "      <td>2834.409912</td>\n",
       "    </tr>\n",
       "    <tr>\n",
       "      <td>2019-05-15</td>\n",
       "      <td>126.02</td>\n",
       "      <td>2850.959961</td>\n",
       "    </tr>\n",
       "    <tr>\n",
       "      <td>2019-05-16</td>\n",
       "      <td>128.93</td>\n",
       "      <td>2876.320068</td>\n",
       "    </tr>\n",
       "    <tr>\n",
       "      <td>2019-05-17</td>\n",
       "      <td>128.07</td>\n",
       "      <td>2859.530029</td>\n",
       "    </tr>\n",
       "  </tbody>\n",
       "</table>\n",
       "<p>1258 rows × 2 columns</p>\n",
       "</div>"
      ],
      "text/plain": [
       "              MSFT        SP500\n",
       "date                           \n",
       "2014-05-20   39.68  1872.829956\n",
       "2014-05-21   40.35  1888.030029\n",
       "2014-05-22   40.10  1892.489990\n",
       "2014-05-23   40.12  1900.530029\n",
       "2014-05-27   40.19  1911.910034\n",
       "...            ...          ...\n",
       "2019-05-13  123.35  2811.870117\n",
       "2019-05-14  124.73  2834.409912\n",
       "2019-05-15  126.02  2850.959961\n",
       "2019-05-16  128.93  2876.320068\n",
       "2019-05-17  128.07  2859.530029\n",
       "\n",
       "[1258 rows x 2 columns]"
      ]
     },
     "execution_count": 31,
     "metadata": {},
     "output_type": "execute_result"
    }
   ],
   "source": [
    "# Rename the columns by modifying the columns DataFrame attribute\n",
    "combined_df.columns = [\"MSFT\", \"SP500\"]\n",
    "combined_df"
   ]
  },
  {
   "cell_type": "markdown",
   "metadata": {},
   "source": [
    "## 7. Plot the Price Trends"
   ]
  },
  {
   "cell_type": "code",
   "execution_count": 32,
   "metadata": {},
   "outputs": [
    {
     "data": {
      "text/plain": [
       "<matplotlib.axes._subplots.AxesSubplot at 0x2ef963717c8>"
      ]
     },
     "execution_count": 32,
     "metadata": {},
     "output_type": "execute_result"
    },
    {
     "data": {
      "image/png": "[encoded data removed]",
      "text/plain": [
       "<Figure size 432x288 with 1 Axes>"
      ]
     },
     "metadata": {
      "needs_background": "light"
     },
     "output_type": "display_data"
    }
   ],
   "source": [
    "# Plot the data trends of the two variables over time\n",
    "combined_df.plot()"
   ]
  },
  {
   "cell_type": "markdown",
   "metadata": {},
   "source": [
    "## 8. Plot Price Relationships"
   ]
  },
  {
   "cell_type": "code",
   "execution_count": 34,
   "metadata": {},
   "outputs": [
    {
     "data": {
      "text/plain": [
       "<matplotlib.axes._subplots.AxesSubplot at 0x2ef96420448>"
      ]
     },
     "execution_count": 34,
     "metadata": {},
     "output_type": "execute_result"
    },
    {
     "data": {
      "image/png": "[encoded data removed]",
      "text/plain": [
       "<Figure size 432x288 with 1 Axes>"
      ]
     },
     "metadata": {
      "needs_background": "light"
     },
     "output_type": "display_data"
    }
   ],
   "source": [
    "# Plot the relationship between the two variables\n",
    "combined_df.plot(kind='scatter', x='MSFT', y='SP500')"
   ]
  },
  {
   "cell_type": "markdown",
   "metadata": {},
   "source": [
    "## 9. Calculate Correlation of Prices"
   ]
  },
  {
   "cell_type": "code",
   "execution_count": 39,
   "metadata": {},
   "outputs": [
    {
     "data": {
      "text/html": [
       "<div>\n",
       "<style scoped>\n",
       "    .dataframe tbody tr th:only-of-type {\n",
       "        vertical-align: middle;\n",
       "    }\n",
       "\n",
       "    .dataframe tbody tr th {\n",
       "        vertical-align: top;\n",
       "    }\n",
       "\n",
       "    .dataframe thead th {\n",
       "        text-align: right;\n",
       "    }\n",
       "</style>\n",
       "<table border=\"1\" class=\"dataframe\">\n",
       "  <thead>\n",
       "    <tr style=\"text-align: right;\">\n",
       "      <th></th>\n",
       "      <th>MSFT</th>\n",
       "      <th>SP500</th>\n",
       "    </tr>\n",
       "  </thead>\n",
       "  <tbody>\n",
       "    <tr>\n",
       "      <td>MSFT</td>\n",
       "      <td>1.000000</td>\n",
       "      <td>0.960995</td>\n",
       "    </tr>\n",
       "    <tr>\n",
       "      <td>SP500</td>\n",
       "      <td>0.960995</td>\n",
       "      <td>1.000000</td>\n",
       "    </tr>\n",
       "  </tbody>\n",
       "</table>\n",
       "</div>"
      ],
      "text/plain": [
       "           MSFT     SP500\n",
       "MSFT   1.000000  0.960995\n",
       "SP500  0.960995  1.000000"
      ]
     },
     "execution_count": 39,
     "metadata": {},
     "output_type": "execute_result"
    }
   ],
   "source": [
    "# Calculate the correlation of closing prices between MSFT and SP500\n",
    "correlation = combined_df.corr()\n",
    "correlation"
   ]
  },
  {
   "cell_type": "markdown",
   "metadata": {},
   "source": [
    "## 10. Plot Correlation of Prices"
   ]
  },
  {
   "cell_type": "code",
   "execution_count": 40,
   "metadata": {},
   "outputs": [
    {
     "data": {
      "text/plain": [
       "<matplotlib.axes._subplots.AxesSubplot at 0x2ef964ecfc8>"
      ]
     },
     "execution_count": 40,
     "metadata": {},
     "output_type": "execute_result"
    },
    {
     "data": {
      "image/png": "[encoded data removed]",
      "text/plain": [
       "<Figure size 432x288 with 2 Axes>"
      ]
     },
     "metadata": {
      "needs_background": "light"
     },
     "output_type": "display_data"
    }
   ],
   "source": [
    "# Use the `heatmap` function from the seaborn library to visualize correlations\n",
    "sns.heatmap(correlation, vmin=-1, vmax=1)"
   ]
  },
  {
   "cell_type": "markdown",
   "metadata": {},
   "source": [
    "## 11. Calculate Daily Returns"
   ]
  },
  {
   "cell_type": "code",
   "execution_count": 42,
   "metadata": {},
   "outputs": [],
   "source": [
    "# Use the `pct_change` function to calculate the daily returns for MSFT and SP500\n",
    "daily_returns = combined_df.pct_change()"
   ]
  },
  {
   "cell_type": "markdown",
   "metadata": {},
   "source": [
    "## 12. Calculate Daily Return Trends"
   ]
  },
  {
   "cell_type": "code",
   "execution_count": 43,
   "metadata": {},
   "outputs": [
    {
     "data": {
      "text/plain": [
       "<matplotlib.axes._subplots.AxesSubplot at 0x2ef9659aa08>"
      ]
     },
     "execution_count": 43,
     "metadata": {},
     "output_type": "execute_result"
    },
    {
     "data": {
      "image/png": "[encoded data removed]",
      "text/plain": [
       "<Figure size 432x288 with 1 Axes>"
      ]
     },
     "metadata": {
      "needs_background": "light"
     },
     "output_type": "display_data"
    }
   ],
   "source": [
    "# Plot the daily returns of MSFT and SP500\n",
    "daily_returns.plot()"
   ]
  },
  {
   "cell_type": "markdown",
   "metadata": {},
   "source": [
    "## 13. Calculate Daily Return Relationships"
   ]
  },
  {
   "cell_type": "code",
   "execution_count": 44,
   "metadata": {},
   "outputs": [
    {
     "data": {
      "text/plain": [
       "<matplotlib.axes._subplots.AxesSubplot at 0x2ef96603c08>"
      ]
     },
     "execution_count": 44,
     "metadata": {},
     "output_type": "execute_result"
    },
    {
     "data": {
      "image/png": "[encoded data removed]",
      "text/plain": [
       "<Figure size 432x288 with 1 Axes>"
      ]
     },
     "metadata": {
      "needs_background": "light"
     },
     "output_type": "display_data"
    }
   ],
   "source": [
    "# Plot the relationship between the two variables\n",
    "daily_returns.plot(kind='scatter', x='MSFT', y='SP500')"
   ]
  },
  {
   "cell_type": "markdown",
   "metadata": {},
   "source": [
    "## 14. Calculate Correlation of Daily Returns"
   ]
  },
  {
   "cell_type": "code",
   "execution_count": 45,
   "metadata": {},
   "outputs": [
    {
     "data": {
      "text/html": [
       "<div>\n",
       "<style scoped>\n",
       "    .dataframe tbody tr th:only-of-type {\n",
       "        vertical-align: middle;\n",
       "    }\n",
       "\n",
       "    .dataframe tbody tr th {\n",
       "        vertical-align: top;\n",
       "    }\n",
       "\n",
       "    .dataframe thead th {\n",
       "        text-align: right;\n",
       "    }\n",
       "</style>\n",
       "<table border=\"1\" class=\"dataframe\">\n",
       "  <thead>\n",
       "    <tr style=\"text-align: right;\">\n",
       "      <th></th>\n",
       "      <th>MSFT</th>\n",
       "      <th>SP500</th>\n",
       "    </tr>\n",
       "  </thead>\n",
       "  <tbody>\n",
       "    <tr>\n",
       "      <td>MSFT</td>\n",
       "      <td>1.000000</td>\n",
       "      <td>0.739661</td>\n",
       "    </tr>\n",
       "    <tr>\n",
       "      <td>SP500</td>\n",
       "      <td>0.739661</td>\n",
       "      <td>1.000000</td>\n",
       "    </tr>\n",
       "  </tbody>\n",
       "</table>\n",
       "</div>"
      ],
      "text/plain": [
       "           MSFT     SP500\n",
       "MSFT   1.000000  0.739661\n",
       "SP500  0.739661  1.000000"
      ]
     },
     "execution_count": 45,
     "metadata": {},
     "output_type": "execute_result"
    }
   ],
   "source": [
    "# Calculate the correlation between each column\n",
    "correlation = daily_returns.corr()\n",
    "correlation"
   ]
  },
  {
   "cell_type": "markdown",
   "metadata": {},
   "source": [
    "## 15. Plot Correlation of Daily Returns"
   ]
  },
  {
   "cell_type": "code",
   "execution_count": 46,
   "metadata": {},
   "outputs": [
    {
     "data": {
      "text/plain": [
       "<matplotlib.axes._subplots.AxesSubplot at 0x2ef966183c8>"
      ]
     },
     "execution_count": 46,
     "metadata": {},
     "output_type": "execute_result"
    },
    {
     "data": {
      "image/png": "[encoded data removed]",
      "text/plain": [
       "<Figure size 432x288 with 2 Axes>"
      ]
     },
     "metadata": {
      "needs_background": "light"
     },
     "output_type": "display_data"
    }
   ],
   "source": [
    "# Use the `heatmap` function from the seaborn library to visualize correlations\n",
    "sns.heatmap(correlation, vmin = -1, vmax = 1)"
   ]
  },
  {
   "cell_type": "code",
   "execution_count": null,
   "metadata": {},
   "outputs": [],
   "source": []
  }
 ],
 "metadata": {
  "kernelspec": {
   "display_name": "Python 3",
   "language": "python",
   "name": "python3"
  },
  "language_info": {
   "codemirror_mode": {
    "name": "ipython",
    "version": 3
   },
   "file_extension": ".py",
   "mimetype": "text/x-python",
   "name": "python",
   "nbconvert_exporter": "python",
   "pygments_lexer": "ipython3",
   "version": "3.7.4"
  }
 },
 "nbformat": 4,
 "nbformat_minor": 4
}
