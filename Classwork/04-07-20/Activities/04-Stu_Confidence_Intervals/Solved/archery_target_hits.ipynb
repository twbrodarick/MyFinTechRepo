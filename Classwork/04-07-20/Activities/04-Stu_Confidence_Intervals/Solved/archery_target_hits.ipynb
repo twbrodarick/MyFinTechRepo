{
 "cells": [
  {
   "cell_type": "markdown",
   "metadata": {},
   "source": [
    "### Student Activity: Archery Target Hits\n",
    "\n",
    "This program executes `1000` simulations of an archer shooting at a target `5` times. The archer is a beginner who has a `20%` chance of hitting the target. Results are then saved to a DataFrame to calculate the frequency distribution and corresponding probability distribution of made shots to determine its `95%` confidence interval of predicted values."
   ]
  },
  {
   "cell_type": "code",
   "execution_count": 1,
   "metadata": {},
   "outputs": [],
   "source": [
    "# Import libraries and dependencies\n",
    "import matplotlib.pyplot as plt\n",
    "from numpy import random\n",
    "import pandas as pd\n",
    "%matplotlib inline"
   ]
  },
  {
   "cell_type": "markdown",
   "metadata": {},
   "source": [
    "### Perform the Monte Carlo Simulation and Create Pandas DataFrame From Results"
   ]
  },
  {
   "cell_type": "code",
   "execution_count": 2,
   "metadata": {},
   "outputs": [
    {
     "data": {
      "text/html": [
       "<div>\n",
       "<style scoped>\n",
       "    .dataframe tbody tr th:only-of-type {\n",
       "        vertical-align: middle;\n",
       "    }\n",
       "\n",
       "    .dataframe tbody tr th {\n",
       "        vertical-align: top;\n",
       "    }\n",
       "\n",
       "    .dataframe thead th {\n",
       "        text-align: right;\n",
       "    }\n",
       "</style>\n",
       "<table border=\"1\" class=\"dataframe\">\n",
       "  <thead>\n",
       "    <tr style=\"text-align: right;\">\n",
       "      <th></th>\n",
       "      <th>Simulation 0</th>\n",
       "      <th>Simulation 1</th>\n",
       "      <th>Simulation 2</th>\n",
       "      <th>Simulation 3</th>\n",
       "      <th>Simulation 4</th>\n",
       "      <th>Simulation 5</th>\n",
       "      <th>Simulation 6</th>\n",
       "      <th>Simulation 7</th>\n",
       "      <th>Simulation 8</th>\n",
       "      <th>Simulation 9</th>\n",
       "      <th>...</th>\n",
       "      <th>Simulation 990</th>\n",
       "      <th>Simulation 991</th>\n",
       "      <th>Simulation 992</th>\n",
       "      <th>Simulation 993</th>\n",
       "      <th>Simulation 994</th>\n",
       "      <th>Simulation 995</th>\n",
       "      <th>Simulation 996</th>\n",
       "      <th>Simulation 997</th>\n",
       "      <th>Simulation 998</th>\n",
       "      <th>Simulation 999</th>\n",
       "    </tr>\n",
       "  </thead>\n",
       "  <tbody>\n",
       "    <tr>\n",
       "      <th>0</th>\n",
       "      <td>missed</td>\n",
       "      <td>missed</td>\n",
       "      <td>missed</td>\n",
       "      <td>missed</td>\n",
       "      <td>missed</td>\n",
       "      <td>missed</td>\n",
       "      <td>hit</td>\n",
       "      <td>missed</td>\n",
       "      <td>missed</td>\n",
       "      <td>missed</td>\n",
       "      <td>...</td>\n",
       "      <td>missed</td>\n",
       "      <td>missed</td>\n",
       "      <td>hit</td>\n",
       "      <td>missed</td>\n",
       "      <td>missed</td>\n",
       "      <td>missed</td>\n",
       "      <td>missed</td>\n",
       "      <td>missed</td>\n",
       "      <td>missed</td>\n",
       "      <td>missed</td>\n",
       "    </tr>\n",
       "    <tr>\n",
       "      <th>1</th>\n",
       "      <td>missed</td>\n",
       "      <td>missed</td>\n",
       "      <td>missed</td>\n",
       "      <td>missed</td>\n",
       "      <td>missed</td>\n",
       "      <td>missed</td>\n",
       "      <td>missed</td>\n",
       "      <td>missed</td>\n",
       "      <td>missed</td>\n",
       "      <td>missed</td>\n",
       "      <td>...</td>\n",
       "      <td>missed</td>\n",
       "      <td>hit</td>\n",
       "      <td>missed</td>\n",
       "      <td>missed</td>\n",
       "      <td>missed</td>\n",
       "      <td>missed</td>\n",
       "      <td>missed</td>\n",
       "      <td>hit</td>\n",
       "      <td>missed</td>\n",
       "      <td>hit</td>\n",
       "    </tr>\n",
       "    <tr>\n",
       "      <th>2</th>\n",
       "      <td>missed</td>\n",
       "      <td>missed</td>\n",
       "      <td>missed</td>\n",
       "      <td>missed</td>\n",
       "      <td>missed</td>\n",
       "      <td>missed</td>\n",
       "      <td>missed</td>\n",
       "      <td>missed</td>\n",
       "      <td>missed</td>\n",
       "      <td>missed</td>\n",
       "      <td>...</td>\n",
       "      <td>hit</td>\n",
       "      <td>hit</td>\n",
       "      <td>missed</td>\n",
       "      <td>missed</td>\n",
       "      <td>missed</td>\n",
       "      <td>missed</td>\n",
       "      <td>missed</td>\n",
       "      <td>missed</td>\n",
       "      <td>missed</td>\n",
       "      <td>missed</td>\n",
       "    </tr>\n",
       "    <tr>\n",
       "      <th>3</th>\n",
       "      <td>hit</td>\n",
       "      <td>hit</td>\n",
       "      <td>missed</td>\n",
       "      <td>missed</td>\n",
       "      <td>missed</td>\n",
       "      <td>hit</td>\n",
       "      <td>missed</td>\n",
       "      <td>missed</td>\n",
       "      <td>hit</td>\n",
       "      <td>missed</td>\n",
       "      <td>...</td>\n",
       "      <td>hit</td>\n",
       "      <td>hit</td>\n",
       "      <td>missed</td>\n",
       "      <td>missed</td>\n",
       "      <td>missed</td>\n",
       "      <td>missed</td>\n",
       "      <td>missed</td>\n",
       "      <td>missed</td>\n",
       "      <td>hit</td>\n",
       "      <td>missed</td>\n",
       "    </tr>\n",
       "    <tr>\n",
       "      <th>4</th>\n",
       "      <td>missed</td>\n",
       "      <td>missed</td>\n",
       "      <td>hit</td>\n",
       "      <td>missed</td>\n",
       "      <td>hit</td>\n",
       "      <td>hit</td>\n",
       "      <td>missed</td>\n",
       "      <td>missed</td>\n",
       "      <td>missed</td>\n",
       "      <td>missed</td>\n",
       "      <td>...</td>\n",
       "      <td>missed</td>\n",
       "      <td>hit</td>\n",
       "      <td>missed</td>\n",
       "      <td>missed</td>\n",
       "      <td>missed</td>\n",
       "      <td>missed</td>\n",
       "      <td>missed</td>\n",
       "      <td>missed</td>\n",
       "      <td>missed</td>\n",
       "      <td>missed</td>\n",
       "    </tr>\n",
       "  </tbody>\n",
       "</table>\n",
       "<p>5 rows × 1000 columns</p>\n",
       "</div>"
      ],
      "text/plain": [
       "  Simulation 0 Simulation 1 Simulation 2 Simulation 3 Simulation 4  \\\n",
       "0       missed       missed       missed       missed       missed   \n",
       "1       missed       missed       missed       missed       missed   \n",
       "2       missed       missed       missed       missed       missed   \n",
       "3          hit          hit       missed       missed       missed   \n",
       "4       missed       missed          hit       missed          hit   \n",
       "\n",
       "  Simulation 5 Simulation 6 Simulation 7 Simulation 8 Simulation 9  ...  \\\n",
       "0       missed          hit       missed       missed       missed  ...   \n",
       "1       missed       missed       missed       missed       missed  ...   \n",
       "2       missed       missed       missed       missed       missed  ...   \n",
       "3          hit       missed       missed          hit       missed  ...   \n",
       "4          hit       missed       missed       missed       missed  ...   \n",
       "\n",
       "  Simulation 990 Simulation 991 Simulation 992 Simulation 993 Simulation 994  \\\n",
       "0         missed         missed            hit         missed         missed   \n",
       "1         missed            hit         missed         missed         missed   \n",
       "2            hit            hit         missed         missed         missed   \n",
       "3            hit            hit         missed         missed         missed   \n",
       "4         missed            hit         missed         missed         missed   \n",
       "\n",
       "  Simulation 995 Simulation 996 Simulation 997 Simulation 998 Simulation 999  \n",
       "0         missed         missed         missed         missed         missed  \n",
       "1         missed         missed            hit         missed            hit  \n",
       "2         missed         missed         missed         missed         missed  \n",
       "3         missed         missed         missed            hit         missed  \n",
       "4         missed         missed         missed         missed         missed  \n",
       "\n",
       "[5 rows x 1000 columns]"
      ]
     },
     "execution_count": 2,
     "metadata": {},
     "output_type": "execute_result"
    }
   ],
   "source": [
    "# Set number of simulations and shots\n",
    "num_simulations = 1000\n",
    "num_shots = 5\n",
    "\n",
    "# Set a list object acting as a shot: hit or miss\n",
    "shot = [\"hit\", \"missed\"]\n",
    "\n",
    "# Set probability of events\n",
    "probability = [0.2, 0.8]\n",
    "\n",
    "# Create an empty DataFrame to hold simulation results\n",
    "monte_carlo = pd.DataFrame()\n",
    "\n",
    "# Run n number of simulations\n",
    "for n in range(num_simulations):\n",
    "\n",
    "    # Print simulation iteration\n",
    "    # print(f\"Running Simulation {n+1}...\")\n",
    "    \n",
    "    # Set an empty list to hold shot results\n",
    "    shots = []\n",
    "\n",
    "    # Shoot arrows `5` times\n",
    "    for i in range(num_shots):\n",
    "        \n",
    "        # Randomly choose between `hit` and `miss` with a `20%` chance to\n",
    "        # hit the target and a `80%` chance to miss the target\n",
    "        result = random.choice(shot, p=probability)\n",
    "        \n",
    "        # Print shot result\n",
    "        # print(f\"  Shot {i+1}: {result}\")\n",
    "\n",
    "        # Append shot result to list\n",
    "        shots.append(result)\n",
    "\n",
    "    # Append column for each simulation and shot results\n",
    "    monte_carlo[f\"Simulation {n}\"] = pd.Series(shots)\n",
    "\n",
    "# Print the DataFrame\n",
    "monte_carlo"
   ]
  },
  {
   "cell_type": "markdown",
   "metadata": {},
   "source": [
    "### Calculate Total Number of Hits for Each Simulation"
   ]
  },
  {
   "cell_type": "code",
   "execution_count": 3,
   "metadata": {},
   "outputs": [
    {
     "data": {
      "text/html": [
       "<div>\n",
       "<style scoped>\n",
       "    .dataframe tbody tr th:only-of-type {\n",
       "        vertical-align: middle;\n",
       "    }\n",
       "\n",
       "    .dataframe tbody tr th {\n",
       "        vertical-align: top;\n",
       "    }\n",
       "\n",
       "    .dataframe thead th {\n",
       "        text-align: right;\n",
       "    }\n",
       "</style>\n",
       "<table border=\"1\" class=\"dataframe\">\n",
       "  <thead>\n",
       "    <tr style=\"text-align: right;\">\n",
       "      <th></th>\n",
       "      <th>hit_targets</th>\n",
       "      <th>missed_targets</th>\n",
       "    </tr>\n",
       "  </thead>\n",
       "  <tbody>\n",
       "    <tr>\n",
       "      <th>0</th>\n",
       "      <td>1</td>\n",
       "      <td>4</td>\n",
       "    </tr>\n",
       "    <tr>\n",
       "      <th>1</th>\n",
       "      <td>1</td>\n",
       "      <td>4</td>\n",
       "    </tr>\n",
       "    <tr>\n",
       "      <th>2</th>\n",
       "      <td>1</td>\n",
       "      <td>4</td>\n",
       "    </tr>\n",
       "    <tr>\n",
       "      <th>3</th>\n",
       "      <td>0</td>\n",
       "      <td>5</td>\n",
       "    </tr>\n",
       "    <tr>\n",
       "      <th>4</th>\n",
       "      <td>1</td>\n",
       "      <td>4</td>\n",
       "    </tr>\n",
       "  </tbody>\n",
       "</table>\n",
       "</div>"
      ],
      "text/plain": [
       "   hit_targets  missed_targets\n",
       "0            1               4\n",
       "1            1               4\n",
       "2            1               4\n",
       "3            0               5\n",
       "4            1               4"
      ]
     },
     "execution_count": 3,
     "metadata": {},
     "output_type": "execute_result"
    }
   ],
   "source": [
    "# Set empty DataFrame to hold frequency distribution values\n",
    "freq_dist_df = pd.DataFrame()\n",
    "\n",
    "# Set empty lists to hold heads and tails results per simulation\n",
    "hit_target = []\n",
    "missed_target = []\n",
    "\n",
    "# Loop through the results of every simulation\n",
    "for col in monte_carlo.columns:\n",
    "    \n",
    "    # Use the `value_counts` function to calculate the frequency distribution \n",
    "    # of hit-to-missed targets for every simulation, returns Series object\n",
    "    value_count = monte_carlo[col].value_counts()\n",
    "    \n",
    "    # Append results of hit and missed targets to respective lists\n",
    "    # If `hit` and `missed key is present in the Series, append both results\n",
    "    if 'hit' in value_count.index and 'missed' in value_count.index:\n",
    "        hit_target.append(value_count['hit'])\n",
    "        missed_target.append(value_count['missed'])\n",
    "        \n",
    "    # If `hit` key is not present in the Series, append hit target list with 0\n",
    "    # And append missed target list with missed result (simulation must have returned all missed targets)\n",
    "    elif 'hit' not in value_count.index:\n",
    "        hit_target.append(0)\n",
    "        missed_target.append(value_count['missed'])\n",
    "        \n",
    "    # If `missed` key is not present in the Series, append tails list with 0\n",
    "    # And append hit target list with hit result (simulation must have returned all hit targets)\n",
    "    elif 'missed' not in value_count.index:\n",
    "        missed_target.append(0)\n",
    "        hit_target.append(value_count['hit'])\n",
    "        \n",
    "# Create columns from heads and tails lists\n",
    "freq_dist_df['hit_targets'] = hit_target\n",
    "freq_dist_df['missed_targets'] = missed_target\n",
    "freq_dist_df.head()"
   ]
  },
  {
   "cell_type": "markdown",
   "metadata": {},
   "source": [
    "### Plot Frequency Distribution of Hits for 1000 Simulations of 5 Shots"
   ]
  },
  {
   "cell_type": "code",
   "execution_count": 4,
   "metadata": {},
   "outputs": [
    {
     "data": {
      "text/plain": [
       "<matplotlib.axes._subplots.AxesSubplot at 0x114bb4198>"
      ]
     },
     "execution_count": 4,
     "metadata": {},
     "output_type": "execute_result"
    },
    {
     "data": {
      "image/png": "[encoded data removed]",
      "text/plain": [
       "<Figure size 432x288 with 1 Axes>"
      ]
     },
     "metadata": {
      "needs_background": "light"
     },
     "output_type": "display_data"
    }
   ],
   "source": [
    "# Plot the data as a histogram and manually set the bin ranges\n",
    "plot_title = f\"Frequency Distribution for Hits from {num_simulations} Simulations of 10 Shots\"\n",
    "freq_dist_df['hit_targets'].plot(kind='hist', title=plot_title, bins=[0, 1, 2, 3, 4, 5])"
   ]
  },
  {
   "cell_type": "markdown",
   "metadata": {},
   "source": [
    "### Plot Probability Distribution of Hits for 1000 Simulations of 5 Shots"
   ]
  },
  {
   "cell_type": "code",
   "execution_count": 5,
   "metadata": {},
   "outputs": [
    {
     "data": {
      "text/plain": [
       "<matplotlib.axes._subplots.AxesSubplot at 0x115182a58>"
      ]
     },
     "execution_count": 5,
     "metadata": {},
     "output_type": "execute_result"
    },
    {
     "data": {
      "image/png": "[encoded data removed]",
      "text/plain": [
       "<Figure size 432x288 with 1 Axes>"
      ]
     },
     "metadata": {
      "needs_background": "light"
     },
     "output_type": "display_data"
    }
   ],
   "source": [
    "# Plot the data as a histogram with probabilities of \n",
    "plot_title = f\"Probability Distribution for Hits from {num_simulations} Simulations of 5 Shots\"\n",
    "freq_dist_df['hit_targets'].plot.hist(density=True, title=plot_title, bins=[0, 1, 2, 3, 4, 5])"
   ]
  },
  {
   "cell_type": "markdown",
   "metadata": {},
   "source": [
    "### Create a `95%` Confidence Interval via Quantile Range"
   ]
  },
  {
   "cell_type": "code",
   "execution_count": 6,
   "metadata": {},
   "outputs": [
    {
     "data": {
      "text/plain": [
       "0.025    0.0\n",
       "0.975    3.0\n",
       "Name: hit_targets, dtype: float64"
      ]
     },
     "execution_count": 6,
     "metadata": {},
     "output_type": "execute_result"
    }
   ],
   "source": [
    "# Set the 2.5 and 97.5 quantiles/percentiles of the frequency distribution\n",
    "confidence_interval = freq_dist_df['hit_targets'].quantile(q=[0.025, 0.9750])\n",
    "confidence_interval"
   ]
  },
  {
   "cell_type": "markdown",
   "metadata": {},
   "source": [
    "### Plot Lower and Upper Bounds of `95%` Confidence Interval on Probability Distribution"
   ]
  },
  {
   "cell_type": "code",
   "execution_count": 7,
   "metadata": {},
   "outputs": [
    {
     "data": {
      "text/plain": [
       "<matplotlib.lines.Line2D at 0x115286e48>"
      ]
     },
     "execution_count": 7,
     "metadata": {},
     "output_type": "execute_result"
    },
    {
     "data": {
      "image/png": "[encoded data removed]",
      "text/plain": [
       "<Figure size 432x288 with 1 Axes>"
      ]
     },
     "metadata": {
      "needs_background": "light"
     },
     "output_type": "display_data"
    }
   ],
   "source": [
    "# Set boundaries for lower and upper bound of `95%` confidence interval\n",
    "# Set boundary lines to red\n",
    "plt.figure()\n",
    "freq_dist_df['hit_targets'].plot(kind='hist', density=True, bins=[0,1,2,3,4,5], title=\"95% Confidence Interval for Targets Hit out of 5 Shots\")\n",
    "plt.axvline(confidence_interval.iloc[0], color='r')\n",
    "plt.axvline(confidence_interval.iloc[1], color='r')"
   ]
  },
  {
   "cell_type": "markdown",
   "metadata": {},
   "source": [
    "### What does the `95%` Confidence Interval Mean in this Case?"
   ]
  },
  {
   "cell_type": "markdown",
   "metadata": {},
   "source": [
    "There is a 95% chance that the archer will hit the target `0-3` times out of `5` shots."
   ]
  }
 ],
 "metadata": {
  "kernelspec": {
   "display_name": "Python 3",
   "language": "python",
   "name": "python3"
  },
  "language_info": {
   "codemirror_mode": {
    "name": "ipython",
    "version": 3
   },
   "file_extension": ".py",
   "mimetype": "text/x-python",
   "name": "python",
   "nbconvert_exporter": "python",
   "pygments_lexer": "ipython3",
   "version": "3.7.3"
  }
 },
 "nbformat": 4,
 "nbformat_minor": 4
}
