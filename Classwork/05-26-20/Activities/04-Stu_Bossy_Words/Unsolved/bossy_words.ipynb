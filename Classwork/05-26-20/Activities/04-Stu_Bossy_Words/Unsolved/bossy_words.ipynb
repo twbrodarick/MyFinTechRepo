{
 "cells": [
  {
   "cell_type": "markdown",
   "metadata": {},
   "source": [
    " # Who are the Bossy Words?\n",
    "\n",
    " On this activity you will use TF-IDF to find the most relevant words on news articles that talk about money in the [Reuters Corpus](https://www.nltk.org/book/ch02.html#reuters-corpus) bundled in `NLTK`. Once you find the most relevant words, you should create a word cloud."
   ]
  },
  {
   "cell_type": "code",
   "execution_count": 1,
   "metadata": {},
   "outputs": [],
   "source": [
    "# initial imports\n",
    "import nltk\n",
    "from nltk.corpus import reuters\n",
    "import numpy as np\n",
    "import pandas as pd\n",
    "from wordcloud import WordCloud\n",
    "import matplotlib.pyplot as plt\n",
    "import matplotlib as mpl\n",
    "from sklearn.feature_extraction.text import CountVectorizer\n",
    "from sklearn.feature_extraction.text import TfidfVectorizer\n",
    "\n",
    "plt.style.use(\"seaborn-whitegrid\")\n",
    "mpl.rcParams[\"figure.figsize\"] = [20.0, 10.0]\n"
   ]
  },
  {
   "cell_type": "markdown",
   "metadata": {},
   "source": [
    " ## Loading the Reuters Corpus\n",
    "\n",
    " The first step is to load the Reuters Corpus."
   ]
  },
  {
   "cell_type": "code",
   "execution_count": 2,
   "metadata": {},
   "outputs": [
    {
     "name": "stderr",
     "output_type": "stream",
     "text": [
      "[nltk_data] Downloading package reuters to\n",
      "[nltk_data]     C:\\Users\\tbrod\\AppData\\Roaming\\nltk_data...\n",
      "[nltk_data]   Package reuters is already up-to-date!\n"
     ]
    },
    {
     "data": {
      "text/plain": [
       "True"
      ]
     },
     "execution_count": 2,
     "metadata": {},
     "output_type": "execute_result"
    }
   ],
   "source": [
    "# Download/update the Reuters dataset\n",
    "nltk.download(\"reuters\")\n"
   ]
  },
  {
   "cell_type": "markdown",
   "metadata": {},
   "source": [
    " ## Getting the News About Money\n",
    "\n",
    " You will analyze only news that talk about _money_. There are two categories on the Reuters Corpus that talk about money: `money-fx` and `money-supply`. In this section, you will filter the news by these categories.\n",
    "\n",
    " Take a look into the [Reuters Corpus documentation](https://www.nltk.org/book/ch02.html#reuters-corpus) and check how you can retrieve the categories of a document using the `reuters.categories()` method; write some lines of code to retrieve all the news articles that are under the `money-fx` or the `money-supply` categories.\n",
    "\n",
    " **Hint:**\n",
    " You can use a comprehension list or a for-loop to accomplish this task."
   ]
  },
  {
   "cell_type": "code",
   "execution_count": 4,
   "metadata": {},
   "outputs": [
    {
     "name": "stdout",
     "output_type": "stream",
     "text": [
      "Total articles about $: 883\n"
     ]
    }
   ],
   "source": [
    "# Getting all documents ids under the money-fx and money-supply categories\n",
    "categories = [\"money-fx\", \"money-supply\"]\n",
    "all_docs_id = reuters.fileids()\n",
    "money_news_ids = [\n",
    "    doc\n",
    "    for doc in all_docs_id\n",
    "    if categories[0] in reuters.categories(doc)\n",
    "    or categories[1] in reuters.categories(doc)\n",
    "]\n",
    "\n",
    "print(f\"Total articles about $: {len(money_news_ids)}\")\n"
   ]
  },
  {
   "cell_type": "code",
   "execution_count": 5,
   "metadata": {},
   "outputs": [
    {
     "name": "stdout",
     "output_type": "stream",
     "text": [
      "treasury's baker says system needs stability\n",
      "  treasury secretary james baker said\n",
      "  the floating exchange rate system has not been as effective as\n",
      "  had been hoped in promoting stability and preventing imbalances\n",
      "  from emerging in the global economy.\n",
      "      in remarks before the afternoon session of the\n",
      "  international monetary fund's interim committee, baker said he\n",
      "  was not suggesting that the system should be abandoned.\n",
      "      \"but i do suggest,\" he said, \"that we need something to give\n",
      "  it more stability and to keep it headed in the right direction\n",
      "  when the wind shifts.\"\n",
      "      he said that indicators can serve \"as a kind of compass\" but\n",
      "  added that structural indicators can help focus attention on\n",
      "  some policies.\n",
      "      baker, however, said the imf \"needs to move beyond\n",
      "  macroeconomic indicators and find structural indicators that\n",
      "  can help focus attention on some of the policies of specific\n",
      "  relevance to the imbalances we face today.\"\n",
      "      the treasury secretary said that indicators should be given\n",
      "  a more prominent role in the annual economic reviews -- article\n",
      "  iv consultations -- that the fund performs.\n",
      "      baker also told the policy making group that it was time\n",
      "  for the imf to adopt earlier recommendations making imf\n",
      "  surveillance more relevant to national policymakers and the\n",
      "  public.\n",
      "      \"in particular, we urge increased publicity for imf\n",
      "  appraisals developed in article iv consultations, the use of\n",
      "  follow-up reports on country actions to implement imf\n",
      "  recommendations, and greater use of special consultation\n",
      "  procedures,\" he said.\n",
      "      baker emphasized that indicators were a device \"for moving\n",
      "  beyond rhetoric to action.\"\n",
      "      he said they provide \"more structure to the system, and\n",
      "  induce more discipline and peer pressure into the process of\n",
      "  policy coordination.\"\n",
      "      he said the fund's procedures for surveillance need to be\n",
      "  reviewed and updated to reflect the use of indicators.\n",
      "      \"this should be matter of priority for the executive board,\"\n",
      "  he said.\n",
      "      baker also urged the fund to develop alternative\n",
      "  medium-term economic scenarios for countries that \"can help us\n",
      "  focus even more clearly on the most important imbalances, by\n",
      "  identifying options for addressing them and analyzing the\n",
      "  implications of these options.\"\n",
      "      he said also that further work should be done on finding\n",
      "  paths that lead toward possible medium-term objectives.\n",
      "      \"if we are to take effective remedial action when there are\n",
      "  significant deviations from an intended course, then we must\n",
      "  have more definitive ways of indentifying the right course for\n",
      "  key variables,\" he said.\n",
      "  \n",
      "\n",
      "\n"
     ]
    }
   ],
   "source": [
    "# Creating the working corpus containing the text from all the news articles about money\n",
    "money_news = [reuters.raw(doc).lower() for doc in money_news_ids]\n",
    "# Printing a sample article\n",
    "print(money_news[50])"
   ]
  },
  {
   "cell_type": "markdown",
   "metadata": {},
   "source": [
    " ## Calculating the TF-IDF Weights\n",
    "\n",
    " Calculate the TF-IDF weight for each word on the working corpus using the `TfidfVectorizer()` class. Remember to include the `stop_words='english'` parameter."
   ]
  },
  {
   "cell_type": "code",
   "execution_count": 6,
   "metadata": {},
   "outputs": [],
   "source": [
    "# Calculating TF-IDF for the working corpus.\n",
    "vectorizer = TfidfVectorizer(stop_words=\"english\")\n",
    "X = vectorizer.fit_transform(money_news)\n"
   ]
  },
  {
   "cell_type": "markdown",
   "metadata": {},
   "source": [
    " Create a DataFrame representation of the TF-IDF weights of each term in the working corpus. Use the `sum(axis=0)` method to calculate a measure similar to the term frequency based on the TF-IDF weight, this value will be used to rank the terms for the word cloud creation."
   ]
  },
  {
   "cell_type": "code",
   "execution_count": 7,
   "metadata": {},
   "outputs": [
    {
     "data": {
      "text/html": [
       "<div>\n",
       "<style scoped>\n",
       "    .dataframe tbody tr th:only-of-type {\n",
       "        vertical-align: middle;\n",
       "    }\n",
       "\n",
       "    .dataframe tbody tr th {\n",
       "        vertical-align: top;\n",
       "    }\n",
       "\n",
       "    .dataframe thead th {\n",
       "        text-align: right;\n",
       "    }\n",
       "</style>\n",
       "<table border=\"1\" class=\"dataframe\">\n",
       "  <thead>\n",
       "    <tr style=\"text-align: right;\">\n",
       "      <th></th>\n",
       "      <th>Word</th>\n",
       "      <th>Frequency</th>\n",
       "    </tr>\n",
       "  </thead>\n",
       "  <tbody>\n",
       "    <tr>\n",
       "      <th>5876</th>\n",
       "      <td>said</td>\n",
       "      <td>54.918051</td>\n",
       "    </tr>\n",
       "    <tr>\n",
       "      <th>4424</th>\n",
       "      <td>mln</td>\n",
       "      <td>51.533825</td>\n",
       "    </tr>\n",
       "    <tr>\n",
       "      <th>1252</th>\n",
       "      <td>bank</td>\n",
       "      <td>49.568996</td>\n",
       "    </tr>\n",
       "    <tr>\n",
       "      <th>6397</th>\n",
       "      <td>stg</td>\n",
       "      <td>47.236863</td>\n",
       "    </tr>\n",
       "    <tr>\n",
       "      <th>1353</th>\n",
       "      <td>billion</td>\n",
       "      <td>43.544274</td>\n",
       "    </tr>\n",
       "    <tr>\n",
       "      <th>4880</th>\n",
       "      <td>pct</td>\n",
       "      <td>41.917193</td>\n",
       "    </tr>\n",
       "    <tr>\n",
       "      <th>2461</th>\n",
       "      <td>dollar</td>\n",
       "      <td>37.178790</td>\n",
       "    </tr>\n",
       "    <tr>\n",
       "      <th>2939</th>\n",
       "      <td>fed</td>\n",
       "      <td>36.860352</td>\n",
       "    </tr>\n",
       "    <tr>\n",
       "      <th>2452</th>\n",
       "      <td>dlrs</td>\n",
       "      <td>36.273205</td>\n",
       "    </tr>\n",
       "    <tr>\n",
       "      <th>4265</th>\n",
       "      <td>market</td>\n",
       "      <td>35.086673</td>\n",
       "    </tr>\n",
       "  </tbody>\n",
       "</table>\n",
       "</div>"
      ],
      "text/plain": [
       "         Word  Frequency\n",
       "5876     said  54.918051\n",
       "4424      mln  51.533825\n",
       "1252     bank  49.568996\n",
       "6397      stg  47.236863\n",
       "1353  billion  43.544274\n",
       "4880      pct  41.917193\n",
       "2461   dollar  37.178790\n",
       "2939      fed  36.860352\n",
       "2452     dlrs  36.273205\n",
       "4265   market  35.086673"
      ]
     },
     "execution_count": 7,
     "metadata": {},
     "output_type": "execute_result"
    }
   ],
   "source": [
    "# Creating a DataFrame Representation of the TF-IDF results\n",
    "money_news_df = pd.DataFrame(\n",
    "    list(zip(vectorizer.get_feature_names(), np.ravel(X.sum(axis=0)))), columns=[\"Word\", \"Frequency\"])\n",
    "# Order the DataFrame by word frequency in descending order\n",
    "money_news_df = money_news_df.sort_values(by=[\"Frequency\"], ascending=False)\n",
    "# Print the top 10 words\n",
    "money_news_df.head(10)\n"
   ]
  },
  {
   "cell_type": "markdown",
   "metadata": {},
   "source": [
    " ## Retrieving the Top Words\n",
    "\n",
    " In order to create the word cloud you should get the top words, in this case we will use a thumb rule that has been empirically tested by some NLP experts that states that words with a frequency between 10 and 30 might be the most relevant in a corpus.\n",
    "\n",
    " Following this rule, create a new DataFrame containing only those words with the mentioned frequency."
   ]
  },
  {
   "cell_type": "code",
   "execution_count": 8,
   "metadata": {},
   "outputs": [
    {
     "data": {
      "text/html": [
       "<div>\n",
       "<style scoped>\n",
       "    .dataframe tbody tr th:only-of-type {\n",
       "        vertical-align: middle;\n",
       "    }\n",
       "\n",
       "    .dataframe tbody tr th {\n",
       "        vertical-align: top;\n",
       "    }\n",
       "\n",
       "    .dataframe thead th {\n",
       "        text-align: right;\n",
       "    }\n",
       "</style>\n",
       "<table border=\"1\" class=\"dataframe\">\n",
       "  <thead>\n",
       "    <tr style=\"text-align: right;\">\n",
       "      <th></th>\n",
       "      <th>Word</th>\n",
       "      <th>Frequency</th>\n",
       "    </tr>\n",
       "  </thead>\n",
       "  <tbody>\n",
       "    <tr>\n",
       "      <th>7324</th>\n",
       "      <td>yen</td>\n",
       "      <td>28.343276</td>\n",
       "    </tr>\n",
       "    <tr>\n",
       "      <th>5913</th>\n",
       "      <td>says</td>\n",
       "      <td>26.248262</td>\n",
       "    </tr>\n",
       "    <tr>\n",
       "      <th>3844</th>\n",
       "      <td>japan</td>\n",
       "      <td>23.927655</td>\n",
       "    </tr>\n",
       "    <tr>\n",
       "      <th>2783</th>\n",
       "      <td>exchange</td>\n",
       "      <td>22.504089</td>\n",
       "    </tr>\n",
       "    <tr>\n",
       "      <th>2158</th>\n",
       "      <td>dealers</td>\n",
       "      <td>22.503656</td>\n",
       "    </tr>\n",
       "    <tr>\n",
       "      <th>5365</th>\n",
       "      <td>rate</td>\n",
       "      <td>21.277388</td>\n",
       "    </tr>\n",
       "    <tr>\n",
       "      <th>7203</th>\n",
       "      <td>week</td>\n",
       "      <td>20.247803</td>\n",
       "    </tr>\n",
       "    <tr>\n",
       "      <th>5366</th>\n",
       "      <td>rates</td>\n",
       "      <td>19.969733</td>\n",
       "    </tr>\n",
       "    <tr>\n",
       "      <th>1620</th>\n",
       "      <td>central</td>\n",
       "      <td>18.079040</td>\n",
       "    </tr>\n",
       "    <tr>\n",
       "      <th>2105</th>\n",
       "      <td>currency</td>\n",
       "      <td>17.370210</td>\n",
       "    </tr>\n",
       "  </tbody>\n",
       "</table>\n",
       "</div>"
      ],
      "text/plain": [
       "          Word  Frequency\n",
       "7324       yen  28.343276\n",
       "5913      says  26.248262\n",
       "3844     japan  23.927655\n",
       "2783  exchange  22.504089\n",
       "2158   dealers  22.503656\n",
       "5365      rate  21.277388\n",
       "7203      week  20.247803\n",
       "5366     rates  19.969733\n",
       "1620   central  18.079040\n",
       "2105  currency  17.370210"
      ]
     },
     "execution_count": 8,
     "metadata": {},
     "output_type": "execute_result"
    }
   ],
   "source": [
    "# Top words will be those with a frequency between 10 ans 30 (thumb rule)\n",
    "top_words = money_news_df[(money_news_df[\"Frequency\"] >= 10) & (money_news_df[\"Frequency\"] <= 30)]\n",
    "\n",
    "top_words.head(10)\n"
   ]
  },
  {
   "cell_type": "markdown",
   "metadata": {},
   "source": [
    " ## Creating Word Cloud\n",
    "\n",
    " Now you have all the pieces needed to create a word cloud based on TF-IDF weights, so use the `WordCloud` library to create it."
   ]
  },
  {
   "cell_type": "code",
   "execution_count": 9,
   "metadata": {},
   "outputs": [
    {
     "data": {
      "text/plain": [
       "(-0.5, 399.5, 199.5, -0.5)"
      ]
     },
     "execution_count": 9,
     "metadata": {},
     "output_type": "execute_result"
    },
    {
     "data": {
      "image/png": "[encoded data removed]",
      "text/plain": [
       "<Figure size 432x288 with 1 Axes>"
      ]
     },
     "metadata": {
      "needs_background": "light"
     },
     "output_type": "display_data"
    }
   ],
   "source": [
    "# Create a string list of terms to generate the word cloud\n",
    "terms_list = str(top_words[\"Word\"].tolist())\n",
    "\n",
    "# Create the word cloud\n",
    "wordcloud = WordCloud(colormap=\"RdYlBu\").generate(terms_list)\n",
    "plt.imshow(wordcloud)\n",
    "plt.axis(\"off\")\n"
   ]
  },
  {
   "cell_type": "markdown",
   "metadata": {},
   "source": [
    " ## Challenge: Looking for Documents that Contains Top Words\n",
    "\n",
    " Finally you might find interesting to search those articles that contain the most relevant words. Create a function called `retrieve_docs(terms)` that receive a list of terms as parameter and extract from the working corpus all those news articles that contains the search terms. On this function you should use the `reuters.words()` method to retrieve the tokenized version of each article as can be seen on the [Reuters Corpus documentation](https://www.nltk.org/book/ch02.html#reuters-corpus).\n",
    "\n",
    " **Hint:** To find any occurrence of the search terms you might find quite useful [this post on StackOverflow](https://stackoverflow.com/a/25102099/4325668), also you should lower case all the words to ease your terms search."
   ]
  },
  {
   "cell_type": "code",
   "execution_count": 20,
   "metadata": {},
   "outputs": [],
   "source": [
    "def retrieve_docs(terms):\n",
    "    result_docs = []\n",
    "    for doc_id in money_news_ids:\n",
    "        found_terms = [\n",
    "        word\n",
    "        for word in reuters.words(doc_id)\n",
    "        if any(term in word.lower() for term in terms)\n",
    "    ]\n",
    "        if len(found_terms) > 0:\n",
    "            result_docs.append(doc_id)\n",
    "    return result_docs"
   ]
  },
  {
   "cell_type": "markdown",
   "metadata": {},
   "source": [
    " ### Question 1: How many articles talk about Yen?"
   ]
  },
  {
   "cell_type": "code",
   "execution_count": 21,
   "metadata": {},
   "outputs": [
    {
     "data": {
      "text/plain": [
       "182"
      ]
     },
     "execution_count": 21,
     "metadata": {},
     "output_type": "execute_result"
    }
   ],
   "source": [
    "len(retrieve_docs([\"yen\"]))\n"
   ]
  },
  {
   "cell_type": "markdown",
   "metadata": {},
   "source": [
    "### Question 2: How many articles talk about Japan or Banks?"
   ]
  },
  {
   "cell_type": "code",
   "execution_count": 22,
   "metadata": {},
   "outputs": [
    {
     "data": {
      "text/plain": [
       "326"
      ]
     },
     "execution_count": 22,
     "metadata": {},
     "output_type": "execute_result"
    }
   ],
   "source": [
    "len(retrieve_docs([\"japan\", \"banks\"]))\n"
   ]
  },
  {
   "cell_type": "markdown",
   "metadata": {},
   "source": [
    " ### Question 3: How many articles talk about England or Dealers?"
   ]
  },
  {
   "cell_type": "code",
   "execution_count": 23,
   "metadata": {},
   "outputs": [
    {
     "data": {
      "text/plain": [
       "299"
      ]
     },
     "execution_count": 23,
     "metadata": {},
     "output_type": "execute_result"
    }
   ],
   "source": [
    "len(retrieve_docs([\"england\", \"dealers\"]))\n"
   ]
  },
  {
   "cell_type": "code",
   "execution_count": null,
   "metadata": {},
   "outputs": [],
   "source": []
  }
 ],
 "metadata": {
  "file_extension": ".py",
  "kernelspec": {
   "display_name": "Python PyViz",
   "language": "python",
   "name": "pyviz"
  },
  "language_info": {
   "codemirror_mode": {
    "name": "ipython",
    "version": 3
   },
   "file_extension": ".py",
   "mimetype": "text/x-python",
   "name": "python",
   "nbconvert_exporter": "python",
   "pygments_lexer": "ipython3",
   "version": "3.7.7"
  },
  "mimetype": "text/x-python",
  "name": "python",
  "npconvert_exporter": "python",
  "pygments_lexer": "ipython3",
  "version": 3
 },
 "nbformat": 4,
 "nbformat_minor": 4
}
