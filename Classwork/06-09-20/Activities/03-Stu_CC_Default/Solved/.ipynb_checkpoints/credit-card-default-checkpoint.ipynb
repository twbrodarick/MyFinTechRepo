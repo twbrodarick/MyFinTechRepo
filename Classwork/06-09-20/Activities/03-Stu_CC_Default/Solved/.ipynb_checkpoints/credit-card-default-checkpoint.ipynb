{
 "cells": [
  {
   "cell_type": "markdown",
   "metadata": {},
   "source": [
    "# Students Do: Preventing credit card defaults with neural networks\n",
    "\n",
    "In this activity, you will train a neural network model to predict whether a credit card holder will default in the next month.\n",
    "\n",
    "The dataset provided contains `30,000` anonymous records of credit default status with `23` features columns and one binary target column entitled _DEFAULT_, where `1` represents a defaulted credit card.\n",
    "\n",
    "The `23` features include demographic info (age, gender, marital status, etc.), credit limit, past payment details, and other relevant information.\n",
    "\n",
    "You are tasked to create a neural network model to predict if a credit card holder will default."
   ]
  },
  {
   "cell_type": "code",
   "execution_count": 1,
   "metadata": {},
   "outputs": [],
   "source": [
    "# Initial imports\n",
    "from pathlib import Path\n",
    "import pandas as pd\n",
    "from tensorflow.keras.models import Sequential\n",
    "from tensorflow.keras.layers import Dense\n",
    "from sklearn.preprocessing import StandardScaler\n",
    "from sklearn.model_selection import train_test_split\n",
    "\n",
    "%matplotlib inline"
   ]
  },
  {
   "cell_type": "markdown",
   "metadata": {},
   "source": [
    "## Instructions\n",
    "\n",
    "1. Load the data in a Pandas DataFrame."
   ]
  },
  {
   "cell_type": "code",
   "execution_count": 2,
   "metadata": {},
   "outputs": [
    {
     "data": {
      "text/html": [
       "<div>\n",
       "<style scoped>\n",
       "    .dataframe tbody tr th:only-of-type {\n",
       "        vertical-align: middle;\n",
       "    }\n",
       "\n",
       "    .dataframe tbody tr th {\n",
       "        vertical-align: top;\n",
       "    }\n",
       "\n",
       "    .dataframe thead th {\n",
       "        text-align: right;\n",
       "    }\n",
       "</style>\n",
       "<table border=\"1\" class=\"dataframe\">\n",
       "  <thead>\n",
       "    <tr style=\"text-align: right;\">\n",
       "      <th></th>\n",
       "      <th>LIMIT_BAL</th>\n",
       "      <th>SEX</th>\n",
       "      <th>EDUCATION</th>\n",
       "      <th>MARRIAGE</th>\n",
       "      <th>AGE</th>\n",
       "      <th>PAY_0</th>\n",
       "      <th>PAY_2</th>\n",
       "      <th>PAY_3</th>\n",
       "      <th>PAY_4</th>\n",
       "      <th>PAY_5</th>\n",
       "      <th>...</th>\n",
       "      <th>\"BILL_AMT4\"</th>\n",
       "      <th>BILL_AMT5</th>\n",
       "      <th>BILL_AMT6</th>\n",
       "      <th>PAY_AMT1</th>\n",
       "      <th>PAY_AMT2</th>\n",
       "      <th>PAY_AMT3</th>\n",
       "      <th>PAY_AMT4</th>\n",
       "      <th>PAY_AMT5</th>\n",
       "      <th>PAY_AMT6</th>\n",
       "      <th>DEFAULT</th>\n",
       "    </tr>\n",
       "  </thead>\n",
       "  <tbody>\n",
       "    <tr>\n",
       "      <th>0</th>\n",
       "      <td>20000</td>\n",
       "      <td>2</td>\n",
       "      <td>2</td>\n",
       "      <td>1</td>\n",
       "      <td>24</td>\n",
       "      <td>2</td>\n",
       "      <td>2</td>\n",
       "      <td>-1</td>\n",
       "      <td>-1</td>\n",
       "      <td>-2</td>\n",
       "      <td>...</td>\n",
       "      <td>0</td>\n",
       "      <td>0</td>\n",
       "      <td>0</td>\n",
       "      <td>0</td>\n",
       "      <td>689</td>\n",
       "      <td>0</td>\n",
       "      <td>0</td>\n",
       "      <td>0</td>\n",
       "      <td>0</td>\n",
       "      <td>1</td>\n",
       "    </tr>\n",
       "    <tr>\n",
       "      <th>1</th>\n",
       "      <td>120000</td>\n",
       "      <td>2</td>\n",
       "      <td>2</td>\n",
       "      <td>2</td>\n",
       "      <td>26</td>\n",
       "      <td>-1</td>\n",
       "      <td>2</td>\n",
       "      <td>0</td>\n",
       "      <td>0</td>\n",
       "      <td>0</td>\n",
       "      <td>...</td>\n",
       "      <td>3272</td>\n",
       "      <td>3455</td>\n",
       "      <td>3261</td>\n",
       "      <td>0</td>\n",
       "      <td>1000</td>\n",
       "      <td>1000</td>\n",
       "      <td>1000</td>\n",
       "      <td>0</td>\n",
       "      <td>2000</td>\n",
       "      <td>1</td>\n",
       "    </tr>\n",
       "    <tr>\n",
       "      <th>2</th>\n",
       "      <td>90000</td>\n",
       "      <td>2</td>\n",
       "      <td>2</td>\n",
       "      <td>2</td>\n",
       "      <td>34</td>\n",
       "      <td>0</td>\n",
       "      <td>0</td>\n",
       "      <td>0</td>\n",
       "      <td>0</td>\n",
       "      <td>0</td>\n",
       "      <td>...</td>\n",
       "      <td>14331</td>\n",
       "      <td>14948</td>\n",
       "      <td>15549</td>\n",
       "      <td>1518</td>\n",
       "      <td>1500</td>\n",
       "      <td>1000</td>\n",
       "      <td>1000</td>\n",
       "      <td>1000</td>\n",
       "      <td>5000</td>\n",
       "      <td>0</td>\n",
       "    </tr>\n",
       "    <tr>\n",
       "      <th>3</th>\n",
       "      <td>50000</td>\n",
       "      <td>2</td>\n",
       "      <td>2</td>\n",
       "      <td>1</td>\n",
       "      <td>37</td>\n",
       "      <td>0</td>\n",
       "      <td>0</td>\n",
       "      <td>0</td>\n",
       "      <td>0</td>\n",
       "      <td>0</td>\n",
       "      <td>...</td>\n",
       "      <td>28314</td>\n",
       "      <td>28959</td>\n",
       "      <td>29547</td>\n",
       "      <td>2000</td>\n",
       "      <td>2019</td>\n",
       "      <td>1200</td>\n",
       "      <td>1100</td>\n",
       "      <td>1069</td>\n",
       "      <td>1000</td>\n",
       "      <td>0</td>\n",
       "    </tr>\n",
       "    <tr>\n",
       "      <th>4</th>\n",
       "      <td>50000</td>\n",
       "      <td>1</td>\n",
       "      <td>2</td>\n",
       "      <td>1</td>\n",
       "      <td>57</td>\n",
       "      <td>-1</td>\n",
       "      <td>0</td>\n",
       "      <td>-1</td>\n",
       "      <td>0</td>\n",
       "      <td>0</td>\n",
       "      <td>...</td>\n",
       "      <td>20940</td>\n",
       "      <td>19146</td>\n",
       "      <td>19131</td>\n",
       "      <td>2000</td>\n",
       "      <td>36681</td>\n",
       "      <td>10000</td>\n",
       "      <td>9000</td>\n",
       "      <td>689</td>\n",
       "      <td>679</td>\n",
       "      <td>0</td>\n",
       "    </tr>\n",
       "  </tbody>\n",
       "</table>\n",
       "<p>5 rows × 24 columns</p>\n",
       "</div>"
      ],
      "text/plain": [
       "   LIMIT_BAL  SEX  EDUCATION  MARRIAGE  AGE  PAY_0  PAY_2  PAY_3  PAY_4  \\\n",
       "0      20000    2          2         1   24      2      2     -1     -1   \n",
       "1     120000    2          2         2   26     -1      2      0      0   \n",
       "2      90000    2          2         2   34      0      0      0      0   \n",
       "3      50000    2          2         1   37      0      0      0      0   \n",
       "4      50000    1          2         1   57     -1      0     -1      0   \n",
       "\n",
       "   PAY_5  ...           \"BILL_AMT4\"  BILL_AMT5  BILL_AMT6  PAY_AMT1  PAY_AMT2  \\\n",
       "0     -2  ...                     0          0          0         0       689   \n",
       "1      0  ...                  3272       3455       3261         0      1000   \n",
       "2      0  ...                 14331      14948      15549      1518      1500   \n",
       "3      0  ...                 28314      28959      29547      2000      2019   \n",
       "4      0  ...                 20940      19146      19131      2000     36681   \n",
       "\n",
       "   PAY_AMT3  PAY_AMT4  PAY_AMT5  PAY_AMT6  DEFAULT  \n",
       "0         0         0         0         0        1  \n",
       "1      1000      1000         0      2000        1  \n",
       "2      1000      1000      1000      5000        0  \n",
       "3      1200      1100      1069      1000        0  \n",
       "4     10000      9000       689       679        0  \n",
       "\n",
       "[5 rows x 24 columns]"
      ]
     },
     "execution_count": 2,
     "metadata": {},
     "output_type": "execute_result"
    }
   ],
   "source": [
    "# Read in data\n",
    "file_path = Path(\"../Resources/cc_default.csv\")\n",
    "df = pd.read_csv(file_path)\n",
    "df.head()"
   ]
  },
  {
   "cell_type": "markdown",
   "metadata": {},
   "source": [
    "2. Define the features set `X` by including all the columns of the DataFrame except the `DEFAULT` column."
   ]
  },
  {
   "cell_type": "code",
   "execution_count": 3,
   "metadata": {},
   "outputs": [
    {
     "data": {
      "text/html": [
       "<div>\n",
       "<style scoped>\n",
       "    .dataframe tbody tr th:only-of-type {\n",
       "        vertical-align: middle;\n",
       "    }\n",
       "\n",
       "    .dataframe tbody tr th {\n",
       "        vertical-align: top;\n",
       "    }\n",
       "\n",
       "    .dataframe thead th {\n",
       "        text-align: right;\n",
       "    }\n",
       "</style>\n",
       "<table border=\"1\" class=\"dataframe\">\n",
       "  <thead>\n",
       "    <tr style=\"text-align: right;\">\n",
       "      <th></th>\n",
       "      <th>LIMIT_BAL</th>\n",
       "      <th>SEX</th>\n",
       "      <th>EDUCATION</th>\n",
       "      <th>MARRIAGE</th>\n",
       "      <th>AGE</th>\n",
       "      <th>PAY_0</th>\n",
       "      <th>PAY_2</th>\n",
       "      <th>PAY_3</th>\n",
       "      <th>PAY_4</th>\n",
       "      <th>PAY_5</th>\n",
       "      <th>...</th>\n",
       "      <th>BILL_AMT3</th>\n",
       "      <th>\"BILL_AMT4\"</th>\n",
       "      <th>BILL_AMT5</th>\n",
       "      <th>BILL_AMT6</th>\n",
       "      <th>PAY_AMT1</th>\n",
       "      <th>PAY_AMT2</th>\n",
       "      <th>PAY_AMT3</th>\n",
       "      <th>PAY_AMT4</th>\n",
       "      <th>PAY_AMT5</th>\n",
       "      <th>PAY_AMT6</th>\n",
       "    </tr>\n",
       "  </thead>\n",
       "  <tbody>\n",
       "    <tr>\n",
       "      <th>0</th>\n",
       "      <td>20000</td>\n",
       "      <td>2</td>\n",
       "      <td>2</td>\n",
       "      <td>1</td>\n",
       "      <td>24</td>\n",
       "      <td>2</td>\n",
       "      <td>2</td>\n",
       "      <td>-1</td>\n",
       "      <td>-1</td>\n",
       "      <td>-2</td>\n",
       "      <td>...</td>\n",
       "      <td>689</td>\n",
       "      <td>0</td>\n",
       "      <td>0</td>\n",
       "      <td>0</td>\n",
       "      <td>0</td>\n",
       "      <td>689</td>\n",
       "      <td>0</td>\n",
       "      <td>0</td>\n",
       "      <td>0</td>\n",
       "      <td>0</td>\n",
       "    </tr>\n",
       "    <tr>\n",
       "      <th>1</th>\n",
       "      <td>120000</td>\n",
       "      <td>2</td>\n",
       "      <td>2</td>\n",
       "      <td>2</td>\n",
       "      <td>26</td>\n",
       "      <td>-1</td>\n",
       "      <td>2</td>\n",
       "      <td>0</td>\n",
       "      <td>0</td>\n",
       "      <td>0</td>\n",
       "      <td>...</td>\n",
       "      <td>2682</td>\n",
       "      <td>3272</td>\n",
       "      <td>3455</td>\n",
       "      <td>3261</td>\n",
       "      <td>0</td>\n",
       "      <td>1000</td>\n",
       "      <td>1000</td>\n",
       "      <td>1000</td>\n",
       "      <td>0</td>\n",
       "      <td>2000</td>\n",
       "    </tr>\n",
       "    <tr>\n",
       "      <th>2</th>\n",
       "      <td>90000</td>\n",
       "      <td>2</td>\n",
       "      <td>2</td>\n",
       "      <td>2</td>\n",
       "      <td>34</td>\n",
       "      <td>0</td>\n",
       "      <td>0</td>\n",
       "      <td>0</td>\n",
       "      <td>0</td>\n",
       "      <td>0</td>\n",
       "      <td>...</td>\n",
       "      <td>13559</td>\n",
       "      <td>14331</td>\n",
       "      <td>14948</td>\n",
       "      <td>15549</td>\n",
       "      <td>1518</td>\n",
       "      <td>1500</td>\n",
       "      <td>1000</td>\n",
       "      <td>1000</td>\n",
       "      <td>1000</td>\n",
       "      <td>5000</td>\n",
       "    </tr>\n",
       "    <tr>\n",
       "      <th>3</th>\n",
       "      <td>50000</td>\n",
       "      <td>2</td>\n",
       "      <td>2</td>\n",
       "      <td>1</td>\n",
       "      <td>37</td>\n",
       "      <td>0</td>\n",
       "      <td>0</td>\n",
       "      <td>0</td>\n",
       "      <td>0</td>\n",
       "      <td>0</td>\n",
       "      <td>...</td>\n",
       "      <td>49291</td>\n",
       "      <td>28314</td>\n",
       "      <td>28959</td>\n",
       "      <td>29547</td>\n",
       "      <td>2000</td>\n",
       "      <td>2019</td>\n",
       "      <td>1200</td>\n",
       "      <td>1100</td>\n",
       "      <td>1069</td>\n",
       "      <td>1000</td>\n",
       "    </tr>\n",
       "    <tr>\n",
       "      <th>4</th>\n",
       "      <td>50000</td>\n",
       "      <td>1</td>\n",
       "      <td>2</td>\n",
       "      <td>1</td>\n",
       "      <td>57</td>\n",
       "      <td>-1</td>\n",
       "      <td>0</td>\n",
       "      <td>-1</td>\n",
       "      <td>0</td>\n",
       "      <td>0</td>\n",
       "      <td>...</td>\n",
       "      <td>35835</td>\n",
       "      <td>20940</td>\n",
       "      <td>19146</td>\n",
       "      <td>19131</td>\n",
       "      <td>2000</td>\n",
       "      <td>36681</td>\n",
       "      <td>10000</td>\n",
       "      <td>9000</td>\n",
       "      <td>689</td>\n",
       "      <td>679</td>\n",
       "    </tr>\n",
       "  </tbody>\n",
       "</table>\n",
       "<p>5 rows × 23 columns</p>\n",
       "</div>"
      ],
      "text/plain": [
       "   LIMIT_BAL  SEX  EDUCATION  MARRIAGE  AGE  PAY_0  PAY_2  PAY_3  PAY_4  \\\n",
       "0      20000    2          2         1   24      2      2     -1     -1   \n",
       "1     120000    2          2         2   26     -1      2      0      0   \n",
       "2      90000    2          2         2   34      0      0      0      0   \n",
       "3      50000    2          2         1   37      0      0      0      0   \n",
       "4      50000    1          2         1   57     -1      0     -1      0   \n",
       "\n",
       "   PAY_5  ...  BILL_AMT3           \"BILL_AMT4\"  BILL_AMT5  BILL_AMT6  \\\n",
       "0     -2  ...        689                     0          0          0   \n",
       "1      0  ...       2682                  3272       3455       3261   \n",
       "2      0  ...      13559                 14331      14948      15549   \n",
       "3      0  ...      49291                 28314      28959      29547   \n",
       "4      0  ...      35835                 20940      19146      19131   \n",
       "\n",
       "   PAY_AMT1  PAY_AMT2  PAY_AMT3  PAY_AMT4  PAY_AMT5  PAY_AMT6  \n",
       "0         0       689         0         0         0         0  \n",
       "1         0      1000      1000      1000         0      2000  \n",
       "2      1518      1500      1000      1000      1000      5000  \n",
       "3      2000      2019      1200      1100      1069      1000  \n",
       "4      2000     36681     10000      9000       689       679  \n",
       "\n",
       "[5 rows x 23 columns]"
      ]
     },
     "execution_count": 3,
     "metadata": {},
     "output_type": "execute_result"
    }
   ],
   "source": [
    "# Define features data\n",
    "X = df.copy()\n",
    "X = X.drop(columns=[\"DEFAULT\"])\n",
    "X.head()"
   ]
  },
  {
   "cell_type": "markdown",
   "metadata": {},
   "source": [
    "3. Create the target vector `y` by assigning the values of the `DEFAULT` column of the DataFrame."
   ]
  },
  {
   "cell_type": "code",
   "execution_count": 4,
   "metadata": {},
   "outputs": [
    {
     "data": {
      "text/plain": [
       "array([[1],\n",
       "       [1],\n",
       "       [0],\n",
       "       [0],\n",
       "       [0]], dtype=int64)"
      ]
     },
     "execution_count": 4,
     "metadata": {},
     "output_type": "execute_result"
    }
   ],
   "source": [
    "# Define target data\n",
    "y = df[\"DEFAULT\"].values\n",
    "y = y.reshape(-1, 1)\n",
    "y[:5]"
   ]
  },
  {
   "cell_type": "markdown",
   "metadata": {},
   "source": [
    "4. Create the training an testing sets using the `train_test_split` function from `sklearn`."
   ]
  },
  {
   "cell_type": "code",
   "execution_count": 5,
   "metadata": {},
   "outputs": [],
   "source": [
    "# Create training and testing datasets\n",
    "X_train, X_test, y_train, y_test = train_test_split(X, y, random_state=78)"
   ]
  },
  {
   "cell_type": "markdown",
   "metadata": {},
   "source": [
    "5. Scale the features data using the `StandardScaler` from `sklearn`."
   ]
  },
  {
   "cell_type": "code",
   "execution_count": 6,
   "metadata": {},
   "outputs": [],
   "source": [
    "# Create the scaler instance\n",
    "X_scaler = StandardScaler()"
   ]
  },
  {
   "cell_type": "code",
   "execution_count": 7,
   "metadata": {},
   "outputs": [
    {
     "data": {
      "text/plain": [
       "StandardScaler(copy=True, with_mean=True, with_std=True)"
      ]
     },
     "execution_count": 7,
     "metadata": {},
     "output_type": "execute_result"
    }
   ],
   "source": [
    "# Fit the scaler\n",
    "X_scaler.fit(X_train)"
   ]
  },
  {
   "cell_type": "code",
   "execution_count": 8,
   "metadata": {},
   "outputs": [],
   "source": [
    "# Scale the features data\n",
    "X_train_scaled = X_scaler.transform(X_train)\n",
    "X_test_scaled = X_scaler.transform(X_test)"
   ]
  },
  {
   "cell_type": "markdown",
   "metadata": {},
   "source": [
    "6. Create a neural network model with `23` inputs, one hidden layer with `69` units, and an output layer with a single output. Use the `relu` activation function for the first layer and `sigmoid` for the second layer."
   ]
  },
  {
   "cell_type": "code",
   "execution_count": 9,
   "metadata": {},
   "outputs": [],
   "source": [
    "# Define the model\n",
    "number_inputs = 23\n",
    "number_hidden_nodes = 69\n",
    "\n",
    "nn = Sequential()\n",
    "nn.add(Dense(units=number_hidden_nodes, input_dim=number_inputs, activation=\"relu\"))\n",
    "nn.add(Dense(1, activation=\"sigmoid\"))"
   ]
  },
  {
   "cell_type": "markdown",
   "metadata": {},
   "source": [
    "7. Compile the neural network model using the `binary_crossentropy` loss function, the `adam` optimizer, and `accuracy` as additional metric."
   ]
  },
  {
   "cell_type": "code",
   "execution_count": 10,
   "metadata": {},
   "outputs": [],
   "source": [
    "# Compile model\n",
    "nn.compile(loss=\"binary_crossentropy\", optimizer=\"adam\", metrics=[\"accuracy\"])"
   ]
  },
  {
   "cell_type": "markdown",
   "metadata": {},
   "source": [
    "8. Fit the model with `100` epochs."
   ]
  },
  {
   "cell_type": "code",
   "execution_count": 11,
   "metadata": {},
   "outputs": [
    {
     "name": "stdout",
     "output_type": "stream",
     "text": [
      "Train on 22500 samples\n",
      "Epoch 1/100\n",
      "22500/22500 [==============================] - 1s 34us/sample - loss: 0.4784 - accuracy: 0.8050\n",
      "Epoch 2/100\n",
      "22500/22500 [==============================] - 1s 24us/sample - loss: 0.4490 - accuracy: 0.8166\n",
      "Epoch 3/100\n",
      "22500/22500 [==============================] - 1s 24us/sample - loss: 0.4425 - accuracy: 0.8167\n",
      "Epoch 4/100\n",
      "22500/22500 [==============================] - 1s 24us/sample - loss: 0.4392 - accuracy: 0.8175\n",
      "Epoch 5/100\n",
      "22500/22500 [==============================] - 1s 23us/sample - loss: 0.4373 - accuracy: 0.8179\n",
      "Epoch 6/100\n",
      "22500/22500 [==============================] - 1s 24us/sample - loss: 0.4347 - accuracy: 0.8175\n",
      "Epoch 7/100\n",
      "22500/22500 [==============================] - 1s 24us/sample - loss: 0.4334 - accuracy: 0.8184\n",
      "Epoch 8/100\n",
      "22500/22500 [==============================] - 1s 27us/sample - loss: 0.4325 - accuracy: 0.8179\n",
      "Epoch 9/100\n",
      "22500/22500 [==============================] - 1s 30us/sample - loss: 0.4316 - accuracy: 0.8193\n",
      "Epoch 10/100\n",
      "22500/22500 [==============================] - 1s 31us/sample - loss: 0.4310 - accuracy: 0.8196\n",
      "Epoch 11/100\n",
      "22500/22500 [==============================] - 1s 28us/sample - loss: 0.4299 - accuracy: 0.8180\n",
      "Epoch 12/100\n",
      "22500/22500 [==============================] - 1s 25us/sample - loss: 0.4291 - accuracy: 0.8192\n",
      "Epoch 13/100\n",
      "22500/22500 [==============================] - 1s 23us/sample - loss: 0.4288 - accuracy: 0.8206\n",
      "Epoch 14/100\n",
      "22500/22500 [==============================] - 1s 23us/sample - loss: 0.4273 - accuracy: 0.8193\n",
      "Epoch 15/100\n",
      "22500/22500 [==============================] - 1s 25us/sample - loss: 0.4263 - accuracy: 0.8192\n",
      "Epoch 16/100\n",
      "22500/22500 [==============================] - 1s 24us/sample - loss: 0.4264 - accuracy: 0.8196\n",
      "Epoch 17/100\n",
      "22500/22500 [==============================] - 1s 25us/sample - loss: 0.4266 - accuracy: 0.8196\n",
      "Epoch 18/100\n",
      "22500/22500 [==============================] - 1s 24us/sample - loss: 0.4258 - accuracy: 0.8196\n",
      "Epoch 19/100\n",
      "22500/22500 [==============================] - 1s 24us/sample - loss: 0.4254 - accuracy: 0.8205\n",
      "Epoch 20/100\n",
      "22500/22500 [==============================] - 1s 24us/sample - loss: 0.4248 - accuracy: 0.8196\n",
      "Epoch 21/100\n",
      "22500/22500 [==============================] - 1s 24us/sample - loss: 0.4244 - accuracy: 0.8197\n",
      "Epoch 22/100\n",
      "22500/22500 [==============================] - 1s 23us/sample - loss: 0.4245 - accuracy: 0.8208\n",
      "Epoch 23/100\n",
      "22500/22500 [==============================] - 1s 26us/sample - loss: 0.4229 - accuracy: 0.8197\n",
      "Epoch 24/100\n",
      "22500/22500 [==============================] - 1s 24us/sample - loss: 0.4226 - accuracy: 0.8212\n",
      "Epoch 25/100\n",
      "22500/22500 [==============================] - 1s 25us/sample - loss: 0.4223 - accuracy: 0.8216\n",
      "Epoch 26/100\n",
      "22500/22500 [==============================] - 1s 25us/sample - loss: 0.4224 - accuracy: 0.8204\n",
      "Epoch 27/100\n",
      "22500/22500 [==============================] - 1s 24us/sample - loss: 0.4221 - accuracy: 0.8216\n",
      "Epoch 28/100\n",
      "22500/22500 [==============================] - 1s 23us/sample - loss: 0.4216 - accuracy: 0.8220\n",
      "Epoch 29/100\n",
      "22500/22500 [==============================] - 1s 24us/sample - loss: 0.4214 - accuracy: 0.8214\n",
      "Epoch 30/100\n",
      "22500/22500 [==============================] - 1s 25us/sample - loss: 0.4205 - accuracy: 0.8209\n",
      "Epoch 31/100\n",
      "22500/22500 [==============================] - 1s 24us/sample - loss: 0.4205 - accuracy: 0.8224\n",
      "Epoch 32/100\n",
      "22500/22500 [==============================] - 1s 24us/sample - loss: 0.4199 - accuracy: 0.8225\n",
      "Epoch 33/100\n",
      "22500/22500 [==============================] - 1s 23us/sample - loss: 0.4200 - accuracy: 0.8224\n",
      "Epoch 34/100\n",
      "22500/22500 [==============================] - 1s 24us/sample - loss: 0.4194 - accuracy: 0.8216\n",
      "Epoch 35/100\n",
      "22500/22500 [==============================] - 1s 25us/sample - loss: 0.4195 - accuracy: 0.8231\n",
      "Epoch 36/100\n",
      "22500/22500 [==============================] - 1s 25us/sample - loss: 0.4196 - accuracy: 0.8223\n",
      "Epoch 37/100\n",
      "22500/22500 [==============================] - 1s 23us/sample - loss: 0.4185 - accuracy: 0.8221\n",
      "Epoch 38/100\n",
      "22500/22500 [==============================] - 1s 30us/sample - loss: 0.4186 - accuracy: 0.8224\n",
      "Epoch 39/100\n",
      "22500/22500 [==============================] - 1s 31us/sample - loss: 0.4181 - accuracy: 0.8221\n",
      "Epoch 40/100\n",
      "22500/22500 [==============================] - 1s 30us/sample - loss: 0.4183 - accuracy: 0.8231\n",
      "Epoch 41/100\n",
      "22500/22500 [==============================] - 1s 26us/sample - loss: 0.4180 - accuracy: 0.8233\n",
      "Epoch 42/100\n",
      "22500/22500 [==============================] - 1s 24us/sample - loss: 0.4170 - accuracy: 0.8232\n",
      "Epoch 43/100\n",
      "22500/22500 [==============================] - 1s 25us/sample - loss: 0.4166 - accuracy: 0.8225\n",
      "Epoch 44/100\n",
      "22500/22500 [==============================] - 1s 24us/sample - loss: 0.4173 - accuracy: 0.8236\n",
      "Epoch 45/100\n",
      "22500/22500 [==============================] - 1s 24us/sample - loss: 0.4169 - accuracy: 0.8231\n",
      "Epoch 46/100\n",
      "22500/22500 [==============================] - 1s 24us/sample - loss: 0.4161 - accuracy: 0.8227\n",
      "Epoch 47/100\n",
      "22500/22500 [==============================] - 1s 24us/sample - loss: 0.4158 - accuracy: 0.8226\n",
      "Epoch 48/100\n",
      "22500/22500 [==============================] - 1s 23us/sample - loss: 0.4159 - accuracy: 0.8237\n",
      "Epoch 49/100\n",
      "22500/22500 [==============================] - 1s 25us/sample - loss: 0.4158 - accuracy: 0.8232\n",
      "Epoch 50/100\n",
      "22500/22500 [==============================] - 1s 24us/sample - loss: 0.4158 - accuracy: 0.8230\n",
      "Epoch 51/100\n",
      "22500/22500 [==============================] - 1s 27us/sample - loss: 0.4151 - accuracy: 0.8217\n",
      "Epoch 52/100\n",
      "22500/22500 [==============================] - 1s 25us/sample - loss: 0.4150 - accuracy: 0.8232\n",
      "Epoch 53/100\n",
      "22500/22500 [==============================] - 1s 24us/sample - loss: 0.4136 - accuracy: 0.8236\n",
      "Epoch 54/100\n",
      "22500/22500 [==============================] - 1s 24us/sample - loss: 0.4151 - accuracy: 0.8227\n",
      "Epoch 55/100\n",
      "22500/22500 [==============================] - 1s 23us/sample - loss: 0.4136 - accuracy: 0.8236\n",
      "Epoch 56/100\n",
      "22500/22500 [==============================] - 1s 24us/sample - loss: 0.4146 - accuracy: 0.8229\n",
      "Epoch 57/100\n",
      "22500/22500 [==============================] - 1s 24us/sample - loss: 0.4139 - accuracy: 0.8226\n",
      "Epoch 58/100\n",
      "22500/22500 [==============================] - 1s 24us/sample - loss: 0.4135 - accuracy: 0.8236\n",
      "Epoch 59/100\n",
      "22500/22500 [==============================] - 1s 23us/sample - loss: 0.4131 - accuracy: 0.8244\n",
      "Epoch 60/100\n",
      "22500/22500 [==============================] - 1s 24us/sample - loss: 0.4123 - accuracy: 0.8243\n",
      "Epoch 61/100\n",
      "22500/22500 [==============================] - 1s 24us/sample - loss: 0.4135 - accuracy: 0.8225\n",
      "Epoch 62/100\n",
      "22500/22500 [==============================] - 1s 24us/sample - loss: 0.4127 - accuracy: 0.8229\n",
      "Epoch 63/100\n",
      "22500/22500 [==============================] - 1s 23us/sample - loss: 0.4128 - accuracy: 0.8237\n",
      "Epoch 64/100\n",
      "22500/22500 [==============================] - 1s 25us/sample - loss: 0.4128 - accuracy: 0.8243\n",
      "Epoch 65/100\n",
      "22500/22500 [==============================] - 1s 29us/sample - loss: 0.4110 - accuracy: 0.8242\n",
      "Epoch 66/100\n",
      "22500/22500 [==============================] - 1s 30us/sample - loss: 0.4115 - accuracy: 0.8234\n",
      "Epoch 67/100\n",
      "22500/22500 [==============================] - 1s 25us/sample - loss: 0.4112 - accuracy: 0.8235\n",
      "Epoch 68/100\n",
      "22500/22500 [==============================] - 1s 24us/sample - loss: 0.4118 - accuracy: 0.8233\n",
      "Epoch 69/100\n",
      "22500/22500 [==============================] - 1s 24us/sample - loss: 0.4118 - accuracy: 0.8238\n",
      "Epoch 70/100\n",
      "22500/22500 [==============================] - 1s 25us/sample - loss: 0.4117 - accuracy: 0.8238\n",
      "Epoch 71/100\n",
      "22500/22500 [==============================] - 1s 24us/sample - loss: 0.4117 - accuracy: 0.8248\n",
      "Epoch 72/100\n",
      "22500/22500 [==============================] - 1s 24us/sample - loss: 0.4106 - accuracy: 0.8240\n",
      "Epoch 73/100\n",
      "22500/22500 [==============================] - 1s 24us/sample - loss: 0.4111 - accuracy: 0.8237\n",
      "Epoch 74/100\n",
      "22500/22500 [==============================] - 1s 23us/sample - loss: 0.4104 - accuracy: 0.8248\n",
      "Epoch 75/100\n",
      "22500/22500 [==============================] - 1s 24us/sample - loss: 0.4110 - accuracy: 0.8249\n",
      "Epoch 76/100\n"
     ]
    },
    {
     "name": "stdout",
     "output_type": "stream",
     "text": [
      "22500/22500 [==============================] - 1s 24us/sample - loss: 0.4100 - accuracy: 0.8245\n",
      "Epoch 77/100\n",
      "22500/22500 [==============================] - 1s 25us/sample - loss: 0.4100 - accuracy: 0.8253\n",
      "Epoch 78/100\n",
      "22500/22500 [==============================] - 1s 24us/sample - loss: 0.4096 - accuracy: 0.8232\n",
      "Epoch 79/100\n",
      "22500/22500 [==============================] - 1s 24us/sample - loss: 0.4099 - accuracy: 0.8246\n",
      "Epoch 80/100\n",
      "22500/22500 [==============================] - 1s 24us/sample - loss: 0.4095 - accuracy: 0.8249\n",
      "Epoch 81/100\n",
      "22500/22500 [==============================] - 1s 24us/sample - loss: 0.4098 - accuracy: 0.8229\n",
      "Epoch 82/100\n",
      "22500/22500 [==============================] - 1s 24us/sample - loss: 0.4092 - accuracy: 0.8250\n",
      "Epoch 83/100\n",
      "22500/22500 [==============================] - 1s 24us/sample - loss: 0.4090 - accuracy: 0.8257\n",
      "Epoch 84/100\n",
      "22500/22500 [==============================] - 1s 27us/sample - loss: 0.4094 - accuracy: 0.8260\n",
      "Epoch 85/100\n",
      "22500/22500 [==============================] - 1s 32us/sample - loss: 0.4087 - accuracy: 0.8236\n",
      "Epoch 86/100\n",
      "22500/22500 [==============================] - 1s 27us/sample - loss: 0.4082 - accuracy: 0.8252\n",
      "Epoch 87/100\n",
      "22500/22500 [==============================] - 1s 24us/sample - loss: 0.4083 - accuracy: 0.8244\n",
      "Epoch 88/100\n",
      "22500/22500 [==============================] - 1s 24us/sample - loss: 0.4086 - accuracy: 0.8252\n",
      "Epoch 89/100\n",
      "22500/22500 [==============================] - 1s 24us/sample - loss: 0.4076 - accuracy: 0.8246\n",
      "Epoch 90/100\n",
      "22500/22500 [==============================] - 1s 24us/sample - loss: 0.4079 - accuracy: 0.8259\n",
      "Epoch 91/100\n",
      "22500/22500 [==============================] - 1s 24us/sample - loss: 0.4083 - accuracy: 0.8247\n",
      "Epoch 92/100\n",
      "22500/22500 [==============================] - 1s 24us/sample - loss: 0.4080 - accuracy: 0.8245\n",
      "Epoch 93/100\n",
      "22500/22500 [==============================] - 1s 23us/sample - loss: 0.4077 - accuracy: 0.8246\n",
      "Epoch 94/100\n",
      "22500/22500 [==============================] - 1s 24us/sample - loss: 0.4082 - accuracy: 0.8240\n",
      "Epoch 95/100\n",
      "22500/22500 [==============================] - 1s 23us/sample - loss: 0.4068 - accuracy: 0.8269\n",
      "Epoch 96/100\n",
      "22500/22500 [==============================] - 1s 24us/sample - loss: 0.4075 - accuracy: 0.8253\n",
      "Epoch 97/100\n",
      "22500/22500 [==============================] - 1s 23us/sample - loss: 0.4071 - accuracy: 0.8252\n",
      "Epoch 98/100\n",
      "22500/22500 [==============================] - 1s 24us/sample - loss: 0.4070 - accuracy: 0.8258\n",
      "Epoch 99/100\n",
      "22500/22500 [==============================] - 1s 24us/sample - loss: 0.4072 - accuracy: 0.8254\n",
      "Epoch 100/100\n",
      "22500/22500 [==============================] - 1s 24us/sample - loss: 0.4067 - accuracy: 0.8262\n"
     ]
    }
   ],
   "source": [
    "# Fit the model\n",
    "model = nn.fit(X_train_scaled, y_train, epochs=100)"
   ]
  },
  {
   "cell_type": "markdown",
   "metadata": {},
   "source": [
    "9. Plot the loss function and accuracy."
   ]
  },
  {
   "cell_type": "code",
   "execution_count": 12,
   "metadata": {},
   "outputs": [
    {
     "data": {
      "text/plain": [
       "<matplotlib.axes._subplots.AxesSubplot at 0x2b22287d2b0>"
      ]
     },
     "execution_count": 12,
     "metadata": {},
     "output_type": "execute_result"
    },
    {
     "data": {
      "image/png": "[encoded data removed]",
      "text/plain": [
       "<Figure size 432x288 with 1 Axes>"
      ]
     },
     "metadata": {
      "needs_background": "light"
     },
     "output_type": "display_data"
    }
   ],
   "source": [
    "# Create a dataframe with the history dictionary\n",
    "df_plot = pd.DataFrame(model.history, index=range(1, len(model.history[\"loss\"]) + 1))\n",
    "\n",
    "# Plot the loss\n",
    "df_plot.plot(y=\"loss\")"
   ]
  },
  {
   "cell_type": "code",
   "execution_count": 13,
   "metadata": {},
   "outputs": [
    {
     "data": {
      "text/plain": [
       "<matplotlib.axes._subplots.AxesSubplot at 0x2b22294ec50>"
      ]
     },
     "execution_count": 13,
     "metadata": {},
     "output_type": "execute_result"
    },
    {
     "data": {
      "image/png": "[encoded data removed]",
      "text/plain": [
       "<Figure size 432x288 with 1 Axes>"
      ]
     },
     "metadata": {
      "needs_background": "light"
     },
     "output_type": "display_data"
    }
   ],
   "source": [
    "# Plot the accuracy\n",
    "df_plot.plot(y=\"accuracy\")\n"
   ]
  },
  {
   "cell_type": "markdown",
   "metadata": {},
   "source": [
    "10. Evaluate the model using testing data and the `evaluate` method."
   ]
  },
  {
   "cell_type": "code",
   "execution_count": 14,
   "metadata": {},
   "outputs": [
    {
     "name": "stdout",
     "output_type": "stream",
     "text": [
      "7500/7500 - 0s - loss: 0.4411 - accuracy: 0.8176\n",
      "Loss: 0.44106829686164856, Accuracy: 0.8176000118255615\n"
     ]
    }
   ],
   "source": [
    "# Evaluate the model fit with linear dummy data\n",
    "model_loss, model_accuracy = nn.evaluate(X_test_scaled, y_test, verbose=2)\n",
    "print(f\"Loss: {model_loss}, Accuracy: {model_accuracy}\")\n"
   ]
  },
  {
   "cell_type": "markdown",
   "metadata": {},
   "source": [
    "## Challenge\n",
    "\n",
    "For this challenge section, you have to figure out how the model you created could be modified to improve the accuracy.\n",
    "\n",
    "1. Review the Keras documentation about activation functions, and decide if there is anyone that could be used instead of `sigmoid`.\n",
    "\n",
    "2. Change any other parameter that you believe could improve the model's accuracy.\n",
    "\n",
    "3. Evaluate the model's accuracy and loss and write down your conclusions."
   ]
  },
  {
   "cell_type": "code",
   "execution_count": 15,
   "metadata": {},
   "outputs": [],
   "source": [
    "# Define the model\n",
    "number_inputs = 23\n",
    "number_hidden_nodes = 120\n",
    "\n",
    "nn_2 = Sequential()\n",
    "nn_2.add(Dense(units=number_hidden_nodes, input_dim=number_inputs, activation=\"relu\"))\n",
    "nn_2.add(Dense(units=1, activation=\"tanh\"))\n",
    "\n"
   ]
  },
  {
   "cell_type": "code",
   "execution_count": 16,
   "metadata": {},
   "outputs": [],
   "source": [
    "# Compile model\n",
    "nn_2.compile(loss=\"binary_crossentropy\", optimizer=\"adam\", metrics=[\"accuracy\"])\n",
    "\n"
   ]
  },
  {
   "cell_type": "code",
   "execution_count": 17,
   "metadata": {},
   "outputs": [
    {
     "name": "stdout",
     "output_type": "stream",
     "text": [
      "Train on 22500 samples\n",
      "Epoch 1/50\n",
      "22500/22500 [==============================] - 1s 36us/sample - loss: 0.7691 - accuracy: 0.7597\n",
      "Epoch 2/50\n",
      "22500/22500 [==============================] - 1s 25us/sample - loss: 0.6315 - accuracy: 0.7629\n",
      "Epoch 3/50\n",
      "22500/22500 [==============================] - 1s 25us/sample - loss: 0.5698 - accuracy: 0.7956\n",
      "Epoch 4/50\n",
      "22500/22500 [==============================] - 1s 25us/sample - loss: 0.6360 - accuracy: 0.7702\n",
      "Epoch 5/50\n",
      "22500/22500 [==============================] - 1s 24us/sample - loss: 0.6487 - accuracy: 0.7228\n",
      "Epoch 6/50\n",
      "22500/22500 [==============================] - 1s 24us/sample - loss: 0.5725 - accuracy: 0.7599\n",
      "Epoch 7/50\n",
      "22500/22500 [==============================] - 1s 25us/sample - loss: 0.5458 - accuracy: 0.7898\n",
      "Epoch 8/50\n",
      "22500/22500 [==============================] - 1s 25us/sample - loss: 0.5761 - accuracy: 0.7798\n",
      "Epoch 9/50\n",
      "22500/22500 [==============================] - 1s 24us/sample - loss: 0.5396 - accuracy: 0.8046\n",
      "Epoch 10/50\n",
      "22500/22500 [==============================] - 1s 24us/sample - loss: 0.5461 - accuracy: 0.7872\n",
      "Epoch 11/50\n",
      "22500/22500 [==============================] - 1s 24us/sample - loss: 0.5193 - accuracy: 0.7928\n",
      "Epoch 12/50\n",
      "22500/22500 [==============================] - 1s 25us/sample - loss: 0.4875 - accuracy: 0.8125\n",
      "Epoch 13/50\n",
      "22500/22500 [==============================] - 1s 26us/sample - loss: 0.4942 - accuracy: 0.8005\n",
      "Epoch 14/50\n",
      "22500/22500 [==============================] - 1s 27us/sample - loss: 0.5649 - accuracy: 0.7732\n",
      "Epoch 15/50\n",
      "22500/22500 [==============================] - 1s 26us/sample - loss: 0.5652 - accuracy: 0.7734\n",
      "Epoch 16/50\n",
      "22500/22500 [==============================] - 1s 24us/sample - loss: 0.5410 - accuracy: 0.7984\n",
      "Epoch 17/50\n",
      "22500/22500 [==============================] - 1s 26us/sample - loss: 0.4879 - accuracy: 0.7999\n",
      "Epoch 18/50\n",
      "22500/22500 [==============================] - 1s 26us/sample - loss: 0.4851 - accuracy: 0.8148\n",
      "Epoch 19/50\n",
      "22500/22500 [==============================] - 1s 25us/sample - loss: 0.4743 - accuracy: 0.8143\n",
      "Epoch 20/50\n",
      "22500/22500 [==============================] - 1s 26us/sample - loss: 0.4646 - accuracy: 0.8120\n",
      "Epoch 21/50\n",
      "22500/22500 [==============================] - 1s 26us/sample - loss: 0.4893 - accuracy: 0.8025\n",
      "Epoch 22/50\n",
      "22500/22500 [==============================] - 1s 24us/sample - loss: 0.4655 - accuracy: 0.8142\n",
      "Epoch 23/50\n",
      "22500/22500 [==============================] - 1s 25us/sample - loss: 0.4706 - accuracy: 0.8129\n",
      "Epoch 24/50\n",
      "22500/22500 [==============================] - 1s 26us/sample - loss: 0.6520 - accuracy: 0.7186\n",
      "Epoch 25/50\n",
      "22500/22500 [==============================] - 1s 26us/sample - loss: 0.4829 - accuracy: 0.8173\n",
      "Epoch 26/50\n",
      "22500/22500 [==============================] - 1s 25us/sample - loss: 0.4772 - accuracy: 0.8148\n",
      "Epoch 27/50\n",
      "22500/22500 [==============================] - 1s 24us/sample - loss: 0.4921 - accuracy: 0.8079\n",
      "Epoch 28/50\n",
      "22500/22500 [==============================] - 1s 25us/sample - loss: 0.4738 - accuracy: 0.8126\n",
      "Epoch 29/50\n",
      "22500/22500 [==============================] - 1s 25us/sample - loss: 0.5400 - accuracy: 0.7786\n",
      "Epoch 30/50\n",
      "22500/22500 [==============================] - 1s 25us/sample - loss: 0.4702 - accuracy: 0.8154\n",
      "Epoch 31/50\n",
      "22500/22500 [==============================] - 1s 25us/sample - loss: 0.4869 - accuracy: 0.8056\n",
      "Epoch 32/50\n",
      "22500/22500 [==============================] - 1s 25us/sample - loss: 0.5320 - accuracy: 0.7821\n",
      "Epoch 33/50\n",
      "22500/22500 [==============================] - 1s 26us/sample - loss: 0.5212 - accuracy: 0.7978\n",
      "Epoch 34/50\n",
      "22500/22500 [==============================] - 1s 25us/sample - loss: 0.4672 - accuracy: 0.8155\n",
      "Epoch 35/50\n",
      "22500/22500 [==============================] - 1s 25us/sample - loss: 0.4675 - accuracy: 0.8124\n",
      "Epoch 36/50\n",
      "22500/22500 [==============================] - 1s 25us/sample - loss: 0.4859 - accuracy: 0.7994\n",
      "Epoch 37/50\n",
      "22500/22500 [==============================] - 1s 26us/sample - loss: 0.4749 - accuracy: 0.8127\n",
      "Epoch 38/50\n",
      "22500/22500 [==============================] - 1s 24us/sample - loss: 0.4747 - accuracy: 0.8099\n",
      "Epoch 39/50\n",
      "22500/22500 [==============================] - 1s 25us/sample - loss: 0.4846 - accuracy: 0.8068\n",
      "Epoch 40/50\n",
      "22500/22500 [==============================] - 1s 24us/sample - loss: 0.5146 - accuracy: 0.7924\n",
      "Epoch 41/50\n",
      "22500/22500 [==============================] - 1s 24us/sample - loss: 0.4936 - accuracy: 0.8100\n",
      "Epoch 42/50\n",
      "22500/22500 [==============================] - 1s 24us/sample - loss: 0.4868 - accuracy: 0.8063\n",
      "Epoch 43/50\n",
      "22500/22500 [==============================] - 1s 25us/sample - loss: 0.4629 - accuracy: 0.8176\n",
      "Epoch 44/50\n",
      "22500/22500 [==============================] - 1s 25us/sample - loss: 0.4778 - accuracy: 0.8144\n",
      "Epoch 45/50\n",
      "22500/22500 [==============================] - 1s 25us/sample - loss: 0.4698 - accuracy: 0.8171\n",
      "Epoch 46/50\n",
      "22500/22500 [==============================] - 1s 25us/sample - loss: 0.4649 - accuracy: 0.8131\n",
      "Epoch 47/50\n",
      "22500/22500 [==============================] - 1s 24us/sample - loss: 0.4891 - accuracy: 0.8102\n",
      "Epoch 48/50\n",
      "22500/22500 [==============================] - 1s 25us/sample - loss: 0.5188 - accuracy: 0.7963\n",
      "Epoch 49/50\n",
      "22500/22500 [==============================] - 1s 26us/sample - loss: 0.4631 - accuracy: 0.8185\n",
      "Epoch 50/50\n",
      "22500/22500 [==============================] - 1s 25us/sample - loss: 0.4638 - accuracy: 0.8182\n"
     ]
    }
   ],
   "source": [
    "# Fit the model\n",
    "model_2 = nn_2.fit(X_train_scaled, y_train, epochs=50)\n",
    "\n"
   ]
  },
  {
   "cell_type": "code",
   "execution_count": 18,
   "metadata": {},
   "outputs": [
    {
     "name": "stdout",
     "output_type": "stream",
     "text": [
      "7500/7500 - 0s - loss: 0.4779 - accuracy: 0.8241\n",
      "Loss: 0.47793450665473936, Accuracy: 0.8241333365440369\n"
     ]
    }
   ],
   "source": [
    "# Evaluate the model fit with linear dummy data\n",
    "model_loss, model_accuracy = nn_2.evaluate(X_test_scaled, y_test, verbose=2)\n",
    "print(f\"Loss: {model_loss}, Accuracy: {model_accuracy}\")\n"
   ]
  },
  {
   "cell_type": "markdown",
   "metadata": {},
   "source": [
    "### Conclusions\n",
    "\n",
    "**Sample Answer:** After reviewing the activation functions documentation, I decided to use the `tanh` function in both hidden layers. There is an improvement in the model's accuracy, but it's not as good as expected.\n",
    "\n",
    "We may test with different functions or even perform PCA as part of the possible optimizations."
   ]
  }
 ],
 "metadata": {
  "file_extension": ".py",
  "kernelspec": {
   "display_name": "Python 3",
   "language": "python",
   "name": "python3"
  },
  "language_info": {
   "codemirror_mode": {
    "name": "ipython",
    "version": 3
   },
   "file_extension": ".py",
   "mimetype": "text/x-python",
   "name": "python",
   "nbconvert_exporter": "python",
   "pygments_lexer": "ipython3",
   "version": "3.7.3"
  },
  "mimetype": "text/x-python",
  "name": "python",
  "npconvert_exporter": "python",
  "pygments_lexer": "ipython3",
  "version": 3
 },
 "nbformat": 4,
 "nbformat_minor": 4
}
