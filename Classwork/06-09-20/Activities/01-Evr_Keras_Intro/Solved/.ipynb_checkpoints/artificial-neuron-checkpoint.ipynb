{
 "cells": [
  {
   "cell_type": "markdown",
   "metadata": {},
   "source": [
    "# Activating Your First Artificial Neuron"
   ]
  },
  {
   "cell_type": "code",
   "execution_count": 1,
   "metadata": {},
   "outputs": [],
   "source": [
    "# Initial imports\n",
    "import pandas as pd\n",
    "import numpy as np\n",
    "from sklearn.datasets.samples_generator import make_blobs, make_moons\n",
    "from sklearn.model_selection import train_test_split\n",
    "from sklearn.preprocessing import StandardScaler\n",
    "from tensorflow.keras.models import Sequential\n",
    "from tensorflow.keras.layers import Dense\n",
    "\n",
    "%matplotlib inline"
   ]
  },
  {
   "cell_type": "markdown",
   "metadata": {},
   "source": [
    "## Using a Single Neuron for Binary Classification\n",
    "\n",
    "### Creating Dummy Data"
   ]
  },
  {
   "cell_type": "code",
   "execution_count": 2,
   "metadata": {},
   "outputs": [],
   "source": [
    "# Generate 1000 demo data samples with 2 features and two centers\n",
    "X, y = make_blobs(n_samples=1000, centers=2, n_features=2, random_state=78)"
   ]
  },
  {
   "cell_type": "code",
   "execution_count": 3,
   "metadata": {},
   "outputs": [
    {
     "data": {
      "text/plain": [
       "(1000, 1)"
      ]
     },
     "execution_count": 3,
     "metadata": {},
     "output_type": "execute_result"
    }
   ],
   "source": [
    "# Transforming y to a vertical vector\n",
    "y = y.reshape(-1, 1)\n",
    "y.shape"
   ]
  },
  {
   "cell_type": "code",
   "execution_count": 4,
   "metadata": {},
   "outputs": [
    {
     "data": {
      "text/html": [
       "<div>\n",
       "<style scoped>\n",
       "    .dataframe tbody tr th:only-of-type {\n",
       "        vertical-align: middle;\n",
       "    }\n",
       "\n",
       "    .dataframe tbody tr th {\n",
       "        vertical-align: top;\n",
       "    }\n",
       "\n",
       "    .dataframe thead th {\n",
       "        text-align: right;\n",
       "    }\n",
       "</style>\n",
       "<table border=\"1\" class=\"dataframe\">\n",
       "  <thead>\n",
       "    <tr style=\"text-align: right;\">\n",
       "      <th></th>\n",
       "      <th>Feature 1</th>\n",
       "      <th>Feature 2</th>\n",
       "      <th>Target</th>\n",
       "    </tr>\n",
       "  </thead>\n",
       "  <tbody>\n",
       "    <tr>\n",
       "      <th>0</th>\n",
       "      <td>5.478098</td>\n",
       "      <td>7.203714</td>\n",
       "      <td>1</td>\n",
       "    </tr>\n",
       "    <tr>\n",
       "      <th>1</th>\n",
       "      <td>-8.428483</td>\n",
       "      <td>4.121889</td>\n",
       "      <td>0</td>\n",
       "    </tr>\n",
       "    <tr>\n",
       "      <th>2</th>\n",
       "      <td>-7.905447</td>\n",
       "      <td>3.323639</td>\n",
       "      <td>0</td>\n",
       "    </tr>\n",
       "    <tr>\n",
       "      <th>3</th>\n",
       "      <td>6.411041</td>\n",
       "      <td>5.523013</td>\n",
       "      <td>1</td>\n",
       "    </tr>\n",
       "    <tr>\n",
       "      <th>4</th>\n",
       "      <td>7.288599</td>\n",
       "      <td>6.171226</td>\n",
       "      <td>1</td>\n",
       "    </tr>\n",
       "  </tbody>\n",
       "</table>\n",
       "</div>"
      ],
      "text/plain": [
       "   Feature 1  Feature 2  Target\n",
       "0   5.478098   7.203714       1\n",
       "1  -8.428483   4.121889       0\n",
       "2  -7.905447   3.323639       0\n",
       "3   6.411041   5.523013       1\n",
       "4   7.288599   6.171226       1"
      ]
     },
     "execution_count": 4,
     "metadata": {},
     "output_type": "execute_result"
    }
   ],
   "source": [
    "# Creating a DataFrame with the dummy data\n",
    "df = pd.DataFrame(X, columns=[\"Feature 1\", \"Feature 2\"])\n",
    "df[\"Target\"] = y\n",
    "df.head()"
   ]
  },
  {
   "cell_type": "code",
   "execution_count": 5,
   "metadata": {},
   "outputs": [
    {
     "data": {
      "text/plain": [
       "<matplotlib.axes._subplots.AxesSubplot at 0x1d4e5785c88>"
      ]
     },
     "execution_count": 5,
     "metadata": {},
     "output_type": "execute_result"
    },
    {
     "data": {
      "image/png": "[encoded data removed]",
      "text/plain": [
       "<Figure size 432x288 with 2 Axes>"
      ]
     },
     "metadata": {
      "needs_background": "light"
     },
     "output_type": "display_data"
    }
   ],
   "source": [
    "# Plotting the dummy data\n",
    "df.plot.scatter(x=\"Feature 1\", y=\"Feature 2\", c=\"Target\", colormap=\"winter\")"
   ]
  },
  {
   "cell_type": "markdown",
   "metadata": {},
   "source": [
    " ### Data Preprocessing\n",
    "\n",
    " Use `train_test_split` to create training and testing data."
   ]
  },
  {
   "cell_type": "code",
   "execution_count": 6,
   "metadata": {},
   "outputs": [],
   "source": [
    "# Create training and testing datasets\n",
    "X_train, X_test, y_train, y_test = train_test_split(X, y, random_state=78)"
   ]
  },
  {
   "cell_type": "markdown",
   "metadata": {},
   "source": [
    " Scale the data using the `StandarScaler`."
   ]
  },
  {
   "cell_type": "code",
   "execution_count": 7,
   "metadata": {},
   "outputs": [],
   "source": [
    "# Create scaler instance\n",
    "X_scaler = StandardScaler()"
   ]
  },
  {
   "cell_type": "code",
   "execution_count": 8,
   "metadata": {},
   "outputs": [
    {
     "data": {
      "text/plain": [
       "StandardScaler(copy=True, with_mean=True, with_std=True)"
      ]
     },
     "execution_count": 8,
     "metadata": {},
     "output_type": "execute_result"
    }
   ],
   "source": [
    "# Fit the scaler\n",
    "X_scaler.fit(X_train)"
   ]
  },
  {
   "cell_type": "code",
   "execution_count": 9,
   "metadata": {},
   "outputs": [],
   "source": [
    "# Scale the data\n",
    "X_train_scaled = X_scaler.transform(X_train)\n",
    "X_test_scaled = X_scaler.transform(X_test)"
   ]
  },
  {
   "cell_type": "markdown",
   "metadata": {},
   "source": [
    " ### Neural Network Model Creation"
   ]
  },
  {
   "cell_type": "code",
   "execution_count": 10,
   "metadata": {},
   "outputs": [],
   "source": [
    "# Create a sequential model\n",
    "neuron = Sequential()"
   ]
  },
  {
   "cell_type": "markdown",
   "metadata": {},
   "source": [
    "The initial step is to add the first layer of our neural network.\n",
    "\n",
    "![First Layer](../Images/tensorflow-neuron-layer-1.png)"
   ]
  },
  {
   "cell_type": "code",
   "execution_count": 11,
   "metadata": {},
   "outputs": [],
   "source": [
    "# First layer\n",
    "number_inputs = 2\n",
    "number_hidden_nodes = 1\n",
    "\n",
    "neuron.add(Dense(units=number_hidden_nodes, activation=\"relu\", input_dim=number_inputs))"
   ]
  },
  {
   "cell_type": "markdown",
   "metadata": {},
   "source": [
    "We finish creating our neural network by adding the output layer.\n",
    "\n",
    "![Output layer](../Images/tensorflow-neuron-output-layer.png)"
   ]
  },
  {
   "cell_type": "code",
   "execution_count": 12,
   "metadata": {},
   "outputs": [],
   "source": [
    "# Output layer\n",
    "number_classes = 1\n",
    "\n",
    "neuron.add(Dense(units=number_classes, activation=\"sigmoid\"))"
   ]
  },
  {
   "cell_type": "code",
   "execution_count": 13,
   "metadata": {},
   "outputs": [
    {
     "name": "stdout",
     "output_type": "stream",
     "text": [
      "Model: \"sequential\"\n",
      "_________________________________________________________________\n",
      "Layer (type)                 Output Shape              Param #   \n",
      "=================================================================\n",
      "dense (Dense)                (None, 1)                 3         \n",
      "_________________________________________________________________\n",
      "dense_1 (Dense)              (None, 1)                 2         \n",
      "=================================================================\n",
      "Total params: 5\n",
      "Trainable params: 5\n",
      "Non-trainable params: 0\n",
      "_________________________________________________________________\n"
     ]
    }
   ],
   "source": [
    "# Model summary\n",
    "neuron.summary()"
   ]
  },
  {
   "cell_type": "markdown",
   "metadata": {},
   "source": [
    " ### Compile the Model"
   ]
  },
  {
   "cell_type": "code",
   "execution_count": 14,
   "metadata": {},
   "outputs": [],
   "source": [
    "# Compile model\n",
    "neuron.compile(loss=\"binary_crossentropy\", optimizer=\"adam\", metrics=[\"accuracy\"])"
   ]
  },
  {
   "cell_type": "markdown",
   "metadata": {},
   "source": [
    " ### Fit the Model"
   ]
  },
  {
   "cell_type": "code",
   "execution_count": 15,
   "metadata": {},
   "outputs": [
    {
     "name": "stdout",
     "output_type": "stream",
     "text": [
      "Train on 750 samples\n",
      "Epoch 1/100\n",
      "750/750 [==============================] - 1s 1ms/sample - loss: 0.7627 - accuracy: 0.4133\n",
      "Epoch 2/100\n",
      "750/750 [==============================] - 0s 69us/sample - loss: 0.7434 - accuracy: 0.4093\n",
      "Epoch 3/100\n",
      "750/750 [==============================] - 0s 44us/sample - loss: 0.7270 - accuracy: 0.4453\n",
      "Epoch 4/100\n",
      "750/750 [==============================] - 0s 40us/sample - loss: 0.7131 - accuracy: 0.4787\n",
      "Epoch 5/100\n",
      "750/750 [==============================] - 0s 53us/sample - loss: 0.7014 - accuracy: 0.5080\n",
      "Epoch 6/100\n",
      "750/750 [==============================] - 0s 60us/sample - loss: 0.6909 - accuracy: 0.5560\n",
      "Epoch 7/100\n",
      "750/750 [==============================] - 0s 64us/sample - loss: 0.6817 - accuracy: 0.5867\n",
      "Epoch 8/100\n",
      "750/750 [==============================] - 0s 80us/sample - loss: 0.6726 - accuracy: 0.6213\n",
      "Epoch 9/100\n",
      "750/750 [==============================] - 0s 84us/sample - loss: 0.6630 - accuracy: 0.6453\n",
      "Epoch 10/100\n",
      "750/750 [==============================] - 0s 84us/sample - loss: 0.6515 - accuracy: 0.6933\n",
      "Epoch 11/100\n",
      "750/750 [==============================] - 0s 80us/sample - loss: 0.6378 - accuracy: 0.7307\n",
      "Epoch 12/100\n",
      "750/750 [==============================] - 0s 78us/sample - loss: 0.6210 - accuracy: 0.7987\n",
      "Epoch 13/100\n",
      "750/750 [==============================] - 0s 84us/sample - loss: 0.6013 - accuracy: 0.8467\n",
      "Epoch 14/100\n",
      "750/750 [==============================] - 0s 76us/sample - loss: 0.5783 - accuracy: 0.9053\n",
      "Epoch 15/100\n",
      "750/750 [==============================] - 0s 73us/sample - loss: 0.5538 - accuracy: 0.9413\n",
      "Epoch 16/100\n",
      "750/750 [==============================] - 0s 74us/sample - loss: 0.5296 - accuracy: 0.9640\n",
      "Epoch 17/100\n",
      "750/750 [==============================] - 0s 75us/sample - loss: 0.5058 - accuracy: 0.9787\n",
      "Epoch 18/100\n",
      "750/750 [==============================] - 0s 78us/sample - loss: 0.4836 - accuracy: 0.9840\n",
      "Epoch 19/100\n",
      "750/750 [==============================] - 0s 80us/sample - loss: 0.4627 - accuracy: 0.9920\n",
      "Epoch 20/100\n",
      "750/750 [==============================] - 0s 78us/sample - loss: 0.4433 - accuracy: 0.9960\n",
      "Epoch 21/100\n",
      "750/750 [==============================] - 0s 75us/sample - loss: 0.4252 - accuracy: 0.9973\n",
      "Epoch 22/100\n",
      "750/750 [==============================] - 0s 73us/sample - loss: 0.4082 - accuracy: 0.9973\n",
      "Epoch 23/100\n",
      "750/750 [==============================] - 0s 72us/sample - loss: 0.3925 - accuracy: 0.9987\n",
      "Epoch 24/100\n",
      "750/750 [==============================] - 0s 73us/sample - loss: 0.3777 - accuracy: 1.0000\n",
      "Epoch 25/100\n",
      "750/750 [==============================] - 0s 74us/sample - loss: 0.3638 - accuracy: 1.0000\n",
      "Epoch 26/100\n",
      "750/750 [==============================] - 0s 66us/sample - loss: 0.3507 - accuracy: 1.0000\n",
      "Epoch 27/100\n",
      "750/750 [==============================] - 0s 49us/sample - loss: 0.3385 - accuracy: 1.0000\n",
      "Epoch 28/100\n",
      "750/750 [==============================] - 0s 61us/sample - loss: 0.3270 - accuracy: 1.0000\n",
      "Epoch 29/100\n",
      "750/750 [==============================] - 0s 63us/sample - loss: 0.3161 - accuracy: 1.0000\n",
      "Epoch 30/100\n",
      "750/750 [==============================] - 0s 65us/sample - loss: 0.3059 - accuracy: 1.0000\n",
      "Epoch 31/100\n",
      "750/750 [==============================] - 0s 75us/sample - loss: 0.2963 - accuracy: 1.0000\n",
      "Epoch 32/100\n",
      "750/750 [==============================] - 0s 68us/sample - loss: 0.2871 - accuracy: 1.0000\n",
      "Epoch 33/100\n",
      "750/750 [==============================] - 0s 69us/sample - loss: 0.2784 - accuracy: 1.0000\n",
      "Epoch 34/100\n",
      "750/750 [==============================] - 0s 56us/sample - loss: 0.2702 - accuracy: 1.0000\n",
      "Epoch 35/100\n",
      "750/750 [==============================] - 0s 64us/sample - loss: 0.2623 - accuracy: 1.0000\n",
      "Epoch 36/100\n",
      "750/750 [==============================] - 0s 63us/sample - loss: 0.2549 - accuracy: 1.0000\n",
      "Epoch 37/100\n",
      "750/750 [==============================] - 0s 56us/sample - loss: 0.2479 - accuracy: 1.0000\n",
      "Epoch 38/100\n",
      "750/750 [==============================] - 0s 79us/sample - loss: 0.2411 - accuracy: 1.0000\n",
      "Epoch 39/100\n",
      "750/750 [==============================] - 0s 75us/sample - loss: 0.2347 - accuracy: 1.0000\n",
      "Epoch 40/100\n",
      "750/750 [==============================] - 0s 80us/sample - loss: 0.2285 - accuracy: 1.0000\n",
      "Epoch 41/100\n",
      "750/750 [==============================] - 0s 72us/sample - loss: 0.2227 - accuracy: 1.0000\n",
      "Epoch 42/100\n",
      "750/750 [==============================] - 0s 72us/sample - loss: 0.2170 - accuracy: 1.0000\n",
      "Epoch 43/100\n",
      "750/750 [==============================] - 0s 72us/sample - loss: 0.2116 - accuracy: 1.0000\n",
      "Epoch 44/100\n",
      "750/750 [==============================] - 0s 72us/sample - loss: 0.2064 - accuracy: 1.0000\n",
      "Epoch 45/100\n",
      "750/750 [==============================] - 0s 73us/sample - loss: 0.2015 - accuracy: 1.0000\n",
      "Epoch 46/100\n",
      "750/750 [==============================] - 0s 69us/sample - loss: 0.1967 - accuracy: 1.0000\n",
      "Epoch 47/100\n",
      "750/750 [==============================] - 0s 72us/sample - loss: 0.1921 - accuracy: 1.0000\n",
      "Epoch 48/100\n",
      "750/750 [==============================] - 0s 72us/sample - loss: 0.1877 - accuracy: 1.0000\n",
      "Epoch 49/100\n",
      "750/750 [==============================] - 0s 61us/sample - loss: 0.1835 - accuracy: 1.0000\n",
      "Epoch 50/100\n",
      "750/750 [==============================] - 0s 74us/sample - loss: 0.1794 - accuracy: 1.0000\n",
      "Epoch 51/100\n",
      "750/750 [==============================] - 0s 70us/sample - loss: 0.1754 - accuracy: 1.0000\n",
      "Epoch 52/100\n",
      "750/750 [==============================] - 0s 72us/sample - loss: 0.1716 - accuracy: 1.0000\n",
      "Epoch 53/100\n",
      "750/750 [==============================] - 0s 73us/sample - loss: 0.1679 - accuracy: 1.0000\n",
      "Epoch 54/100\n",
      "750/750 [==============================] - 0s 75us/sample - loss: 0.1643 - accuracy: 1.0000\n",
      "Epoch 55/100\n",
      "750/750 [==============================] - 0s 76us/sample - loss: 0.1608 - accuracy: 1.0000\n",
      "Epoch 56/100\n",
      "750/750 [==============================] - 0s 74us/sample - loss: 0.1575 - accuracy: 1.0000\n",
      "Epoch 57/100\n",
      "750/750 [==============================] - 0s 67us/sample - loss: 0.1542 - accuracy: 1.0000\n",
      "Epoch 58/100\n",
      "750/750 [==============================] - 0s 77us/sample - loss: 0.1511 - accuracy: 1.0000\n",
      "Epoch 59/100\n",
      "750/750 [==============================] - 0s 77us/sample - loss: 0.1480 - accuracy: 1.0000\n",
      "Epoch 60/100\n",
      "750/750 [==============================] - 0s 76us/sample - loss: 0.1451 - accuracy: 1.0000\n",
      "Epoch 61/100\n",
      "750/750 [==============================] - 0s 76us/sample - loss: 0.1422 - accuracy: 1.0000\n",
      "Epoch 62/100\n",
      "750/750 [==============================] - 0s 73us/sample - loss: 0.1394 - accuracy: 1.0000\n",
      "Epoch 63/100\n",
      "750/750 [==============================] - 0s 75us/sample - loss: 0.1367 - accuracy: 1.0000\n",
      "Epoch 64/100\n",
      "750/750 [==============================] - 0s 84us/sample - loss: 0.1341 - accuracy: 1.0000\n",
      "Epoch 65/100\n",
      "750/750 [==============================] - 0s 76us/sample - loss: 0.1315 - accuracy: 1.0000\n",
      "Epoch 66/100\n",
      "750/750 [==============================] - 0s 76us/sample - loss: 0.1291 - accuracy: 1.0000\n",
      "Epoch 67/100\n",
      "750/750 [==============================] - 0s 73us/sample - loss: 0.1267 - accuracy: 1.0000\n",
      "Epoch 68/100\n",
      "750/750 [==============================] - 0s 72us/sample - loss: 0.1243 - accuracy: 1.0000\n",
      "Epoch 69/100\n",
      "750/750 [==============================] - 0s 71us/sample - loss: 0.1220 - accuracy: 1.0000\n",
      "Epoch 70/100\n",
      "750/750 [==============================] - 0s 65us/sample - loss: 0.1198 - accuracy: 1.0000\n",
      "Epoch 71/100\n",
      "750/750 [==============================] - 0s 69us/sample - loss: 0.1177 - accuracy: 1.0000\n",
      "Epoch 72/100\n",
      "750/750 [==============================] - 0s 61us/sample - loss: 0.1155 - accuracy: 1.0000\n",
      "Epoch 73/100\n",
      "750/750 [==============================] - 0s 68us/sample - loss: 0.1135 - accuracy: 1.0000\n",
      "Epoch 74/100\n",
      "750/750 [==============================] - 0s 72us/sample - loss: 0.1115 - accuracy: 1.0000\n",
      "Epoch 75/100\n",
      "750/750 [==============================] - 0s 55us/sample - loss: 0.1096 - accuracy: 1.0000\n",
      "Epoch 76/100\n",
      "750/750 [==============================] - 0s 76us/sample - loss: 0.1077 - accuracy: 1.0000\n",
      "Epoch 77/100\n",
      "750/750 [==============================] - 0s 70us/sample - loss: 0.1058 - accuracy: 1.0000\n",
      "Epoch 78/100\n"
     ]
    },
    {
     "name": "stdout",
     "output_type": "stream",
     "text": [
      "750/750 [==============================] - 0s 56us/sample - loss: 0.1040 - accuracy: 1.0000\n",
      "Epoch 79/100\n",
      "750/750 [==============================] - 0s 59us/sample - loss: 0.1023 - accuracy: 1.0000\n",
      "Epoch 80/100\n",
      "750/750 [==============================] - 0s 66us/sample - loss: 0.1006 - accuracy: 1.0000\n",
      "Epoch 81/100\n",
      "750/750 [==============================] - 0s 71us/sample - loss: 0.0989 - accuracy: 1.0000\n",
      "Epoch 82/100\n",
      "750/750 [==============================] - 0s 66us/sample - loss: 0.0973 - accuracy: 1.0000\n",
      "Epoch 83/100\n",
      "750/750 [==============================] - 0s 70us/sample - loss: 0.0957 - accuracy: 1.0000\n",
      "Epoch 84/100\n",
      "750/750 [==============================] - 0s 67us/sample - loss: 0.0941 - accuracy: 1.0000\n",
      "Epoch 85/100\n",
      "750/750 [==============================] - 0s 72us/sample - loss: 0.0926 - accuracy: 1.0000\n",
      "Epoch 86/100\n",
      "750/750 [==============================] - 0s 66us/sample - loss: 0.0911 - accuracy: 1.0000\n",
      "Epoch 87/100\n",
      "750/750 [==============================] - 0s 58us/sample - loss: 0.0896 - accuracy: 1.0000\n",
      "Epoch 88/100\n",
      "750/750 [==============================] - 0s 70us/sample - loss: 0.0882 - accuracy: 1.0000\n",
      "Epoch 89/100\n",
      "750/750 [==============================] - 0s 68us/sample - loss: 0.0868 - accuracy: 1.0000\n",
      "Epoch 90/100\n",
      "750/750 [==============================] - 0s 67us/sample - loss: 0.0854 - accuracy: 1.0000\n",
      "Epoch 91/100\n",
      "750/750 [==============================] - 0s 70us/sample - loss: 0.0841 - accuracy: 1.0000\n",
      "Epoch 92/100\n",
      "750/750 [==============================] - 0s 69us/sample - loss: 0.0828 - accuracy: 1.0000\n",
      "Epoch 93/100\n",
      "750/750 [==============================] - 0s 76us/sample - loss: 0.0815 - accuracy: 1.0000\n",
      "Epoch 94/100\n",
      "750/750 [==============================] - 0s 72us/sample - loss: 0.0802 - accuracy: 1.0000\n",
      "Epoch 95/100\n",
      "750/750 [==============================] - 0s 73us/sample - loss: 0.0790 - accuracy: 1.0000\n",
      "Epoch 96/100\n",
      "750/750 [==============================] - 0s 55us/sample - loss: 0.0778 - accuracy: 1.0000\n",
      "Epoch 97/100\n",
      "750/750 [==============================] - 0s 51us/sample - loss: 0.0766 - accuracy: 1.0000\n",
      "Epoch 98/100\n",
      "750/750 [==============================] - 0s 70us/sample - loss: 0.0755 - accuracy: 1.0000\n",
      "Epoch 99/100\n",
      "750/750 [==============================] - 0s 72us/sample - loss: 0.0743 - accuracy: 1.0000\n",
      "Epoch 100/100\n",
      "750/750 [==============================] - 0s 70us/sample - loss: 0.0732 - accuracy: 1.0000\n"
     ]
    }
   ],
   "source": [
    "# Fitting the model with linear dummy data\n",
    "model = neuron.fit(X_train_scaled, y_train, epochs=100)"
   ]
  },
  {
   "cell_type": "markdown",
   "metadata": {},
   "source": [
    " ### Evaluate the Model\n",
    "\n",
    " #### Plotting the Loss Function and Accuracy"
   ]
  },
  {
   "cell_type": "code",
   "execution_count": 16,
   "metadata": {},
   "outputs": [
    {
     "data": {
      "text/plain": [
       "<matplotlib.axes._subplots.AxesSubplot at 0x1d4ed2762e8>"
      ]
     },
     "execution_count": 16,
     "metadata": {},
     "output_type": "execute_result"
    },
    {
     "data": {
      "image/png": "[encoded data removed]",
      "text/plain": [
       "<Figure size 432x288 with 1 Axes>"
      ]
     },
     "metadata": {
      "needs_background": "light"
     },
     "output_type": "display_data"
    }
   ],
   "source": [
    "# Create a DataFrame with the history dictionary\n",
    "df = pd.DataFrame(model.history, index=range(1, len(model.history[\"loss\"]) + 1))\n",
    "\n",
    "# Plot the loss\n",
    "df.plot(y=\"loss\")"
   ]
  },
  {
   "cell_type": "code",
   "execution_count": 17,
   "metadata": {},
   "outputs": [
    {
     "data": {
      "text/plain": [
       "<matplotlib.axes._subplots.AxesSubplot at 0x1d4ed2f4da0>"
      ]
     },
     "execution_count": 17,
     "metadata": {},
     "output_type": "execute_result"
    },
    {
     "data": {
      "image/png": "[encoded data removed]",
      "text/plain": [
       "<Figure size 432x288 with 1 Axes>"
      ]
     },
     "metadata": {
      "needs_background": "light"
     },
     "output_type": "display_data"
    }
   ],
   "source": [
    "# Plot the accuracy\n",
    "df.plot(y=\"accuracy\")"
   ]
  },
  {
   "cell_type": "markdown",
   "metadata": {},
   "source": [
    " #### Evaluating the Model Using Testing Data"
   ]
  },
  {
   "cell_type": "code",
   "execution_count": 18,
   "metadata": {},
   "outputs": [
    {
     "name": "stdout",
     "output_type": "stream",
     "text": [
      "250/250 - 0s - loss: 0.0756 - accuracy: 1.0000\n",
      "Loss: 0.07562789964675903, Accuracy: 1.0\n"
     ]
    }
   ],
   "source": [
    "# Evaluate the model fit with linear dummy data\n",
    "model_loss, model_accuracy = neuron.evaluate(X_test_scaled, y_test, verbose=2)\n",
    "print(f\"Loss: {model_loss}, Accuracy: {model_accuracy}\")"
   ]
  },
  {
   "cell_type": "markdown",
   "metadata": {},
   "source": [
    " ### Making Predictions with New Data"
   ]
  },
  {
   "cell_type": "code",
   "execution_count": 19,
   "metadata": {},
   "outputs": [],
   "source": [
    "# Create 10 new samples of dummy data\n",
    "new_X, new_y = make_blobs(n_samples=10, centers=2, n_features=2, random_state=78)"
   ]
  },
  {
   "cell_type": "code",
   "execution_count": 20,
   "metadata": {},
   "outputs": [
    {
     "data": {
      "text/html": [
       "<div>\n",
       "<style scoped>\n",
       "    .dataframe tbody tr th:only-of-type {\n",
       "        vertical-align: middle;\n",
       "    }\n",
       "\n",
       "    .dataframe tbody tr th {\n",
       "        vertical-align: top;\n",
       "    }\n",
       "\n",
       "    .dataframe thead th {\n",
       "        text-align: right;\n",
       "    }\n",
       "</style>\n",
       "<table border=\"1\" class=\"dataframe\">\n",
       "  <thead>\n",
       "    <tr style=\"text-align: right;\">\n",
       "      <th></th>\n",
       "      <th>predictions</th>\n",
       "      <th>actual</th>\n",
       "    </tr>\n",
       "  </thead>\n",
       "  <tbody>\n",
       "    <tr>\n",
       "      <th>0</th>\n",
       "      <td>0</td>\n",
       "      <td>0</td>\n",
       "    </tr>\n",
       "    <tr>\n",
       "      <th>1</th>\n",
       "      <td>1</td>\n",
       "      <td>1</td>\n",
       "    </tr>\n",
       "    <tr>\n",
       "      <th>2</th>\n",
       "      <td>0</td>\n",
       "      <td>0</td>\n",
       "    </tr>\n",
       "    <tr>\n",
       "      <th>3</th>\n",
       "      <td>1</td>\n",
       "      <td>1</td>\n",
       "    </tr>\n",
       "    <tr>\n",
       "      <th>4</th>\n",
       "      <td>0</td>\n",
       "      <td>0</td>\n",
       "    </tr>\n",
       "    <tr>\n",
       "      <th>5</th>\n",
       "      <td>0</td>\n",
       "      <td>0</td>\n",
       "    </tr>\n",
       "    <tr>\n",
       "      <th>6</th>\n",
       "      <td>1</td>\n",
       "      <td>1</td>\n",
       "    </tr>\n",
       "    <tr>\n",
       "      <th>7</th>\n",
       "      <td>1</td>\n",
       "      <td>1</td>\n",
       "    </tr>\n",
       "    <tr>\n",
       "      <th>8</th>\n",
       "      <td>1</td>\n",
       "      <td>1</td>\n",
       "    </tr>\n",
       "    <tr>\n",
       "      <th>9</th>\n",
       "      <td>0</td>\n",
       "      <td>0</td>\n",
       "    </tr>\n",
       "  </tbody>\n",
       "</table>\n",
       "</div>"
      ],
      "text/plain": [
       "   predictions  actual\n",
       "0            0       0\n",
       "1            1       1\n",
       "2            0       0\n",
       "3            1       1\n",
       "4            0       0\n",
       "5            0       0\n",
       "6            1       1\n",
       "7            1       1\n",
       "8            1       1\n",
       "9            0       0"
      ]
     },
     "execution_count": 20,
     "metadata": {},
     "output_type": "execute_result"
    }
   ],
   "source": [
    "# Making predictions\n",
    "predictions = neuron.predict_classes(new_X)\n",
    "results = pd.DataFrame({\"predictions\": predictions.ravel(), \"actual\": new_y})\n",
    "results.head(10)"
   ]
  },
  {
   "cell_type": "markdown",
   "metadata": {},
   "source": [
    "---"
   ]
  },
  {
   "cell_type": "markdown",
   "metadata": {},
   "source": [
    "# Using a Single Neuron for Non-Linear Data\n",
    "\n",
    "### Creating Demo Data:"
   ]
  },
  {
   "cell_type": "code",
   "execution_count": 21,
   "metadata": {},
   "outputs": [],
   "source": [
    "# Creating dummy non-linear data\n",
    "X_moons, y_moons = make_moons(n_samples=1000, noise=0.08, random_state=78)"
   ]
  },
  {
   "cell_type": "code",
   "execution_count": 22,
   "metadata": {},
   "outputs": [],
   "source": [
    "# Transforming y_moons to a vertical vector\n",
    "y_moons = y_moons.reshape(-1, 1)"
   ]
  },
  {
   "cell_type": "code",
   "execution_count": 23,
   "metadata": {},
   "outputs": [
    {
     "data": {
      "text/html": [
       "<div>\n",
       "<style scoped>\n",
       "    .dataframe tbody tr th:only-of-type {\n",
       "        vertical-align: middle;\n",
       "    }\n",
       "\n",
       "    .dataframe tbody tr th {\n",
       "        vertical-align: top;\n",
       "    }\n",
       "\n",
       "    .dataframe thead th {\n",
       "        text-align: right;\n",
       "    }\n",
       "</style>\n",
       "<table border=\"1\" class=\"dataframe\">\n",
       "  <thead>\n",
       "    <tr style=\"text-align: right;\">\n",
       "      <th></th>\n",
       "      <th>Feature 1</th>\n",
       "      <th>Feature 2</th>\n",
       "      <th>Target</th>\n",
       "    </tr>\n",
       "  </thead>\n",
       "  <tbody>\n",
       "    <tr>\n",
       "      <th>0</th>\n",
       "      <td>0.676217</td>\n",
       "      <td>0.815220</td>\n",
       "      <td>0</td>\n",
       "    </tr>\n",
       "    <tr>\n",
       "      <th>1</th>\n",
       "      <td>1.487143</td>\n",
       "      <td>-0.210519</td>\n",
       "      <td>1</td>\n",
       "    </tr>\n",
       "    <tr>\n",
       "      <th>2</th>\n",
       "      <td>-1.027709</td>\n",
       "      <td>0.354966</td>\n",
       "      <td>0</td>\n",
       "    </tr>\n",
       "    <tr>\n",
       "      <th>3</th>\n",
       "      <td>0.236012</td>\n",
       "      <td>1.025531</td>\n",
       "      <td>0</td>\n",
       "    </tr>\n",
       "    <tr>\n",
       "      <th>4</th>\n",
       "      <td>1.856695</td>\n",
       "      <td>-0.042783</td>\n",
       "      <td>1</td>\n",
       "    </tr>\n",
       "  </tbody>\n",
       "</table>\n",
       "</div>"
      ],
      "text/plain": [
       "   Feature 1  Feature 2  Target\n",
       "0   0.676217   0.815220       0\n",
       "1   1.487143  -0.210519       1\n",
       "2  -1.027709   0.354966       0\n",
       "3   0.236012   1.025531       0\n",
       "4   1.856695  -0.042783       1"
      ]
     },
     "execution_count": 23,
     "metadata": {},
     "output_type": "execute_result"
    }
   ],
   "source": [
    "# Creating a DataFrame to plot the non-linear dummy data\n",
    "df_moons = pd.DataFrame(X_moons, columns=[\"Feature 1\", \"Feature 2\"])\n",
    "df_moons[\"Target\"] = y_moons\n",
    "df_moons.head()"
   ]
  },
  {
   "cell_type": "code",
   "execution_count": 24,
   "metadata": {},
   "outputs": [
    {
     "data": {
      "text/plain": [
       "<matplotlib.axes._subplots.AxesSubplot at 0x1d4ee3b7198>"
      ]
     },
     "execution_count": 24,
     "metadata": {},
     "output_type": "execute_result"
    },
    {
     "data": {
      "image/png": "[encoded data removed]",
      "text/plain": [
       "<Figure size 432x288 with 2 Axes>"
      ]
     },
     "metadata": {
      "needs_background": "light"
     },
     "output_type": "display_data"
    }
   ],
   "source": [
    "# Plotting the non-linear dummy data\n",
    "df_moons.plot.scatter(x=\"Feature 1\", y=\"Feature 2\", c=\"Target\", colormap=\"winter\")"
   ]
  },
  {
   "cell_type": "markdown",
   "metadata": {},
   "source": [
    "### Data Preprocessing\n",
    "\n",
    "Use `train_test_split` to create training and testing data."
   ]
  },
  {
   "cell_type": "code",
   "execution_count": 25,
   "metadata": {},
   "outputs": [],
   "source": [
    "# Create training and testing sets\n",
    "X_moon_train, X_moon_test, y_moon_train, y_moon_test = train_test_split(\n",
    "    X_moons, y_moons, random_state=78\n",
    ")"
   ]
  },
  {
   "cell_type": "markdown",
   "metadata": {},
   "source": [
    " Scale the data"
   ]
  },
  {
   "cell_type": "code",
   "execution_count": 26,
   "metadata": {},
   "outputs": [],
   "source": [
    "# Create the scaler instance\n",
    "X_moon_scaler = StandardScaler()"
   ]
  },
  {
   "cell_type": "code",
   "execution_count": 27,
   "metadata": {},
   "outputs": [
    {
     "data": {
      "text/plain": [
       "StandardScaler(copy=True, with_mean=True, with_std=True)"
      ]
     },
     "execution_count": 27,
     "metadata": {},
     "output_type": "execute_result"
    }
   ],
   "source": [
    "# Fit the scaler\n",
    "X_moon_scaler.fit(X_moon_train)"
   ]
  },
  {
   "cell_type": "code",
   "execution_count": 28,
   "metadata": {},
   "outputs": [],
   "source": [
    "# Scale the data\n",
    "X_moon_train_scaled = X_moon_scaler.transform(X_moon_train)\n",
    "X_moon_test_scaled = X_moon_scaler.transform(X_moon_test)"
   ]
  },
  {
   "cell_type": "markdown",
   "metadata": {},
   "source": [
    " ### Fit the Model"
   ]
  },
  {
   "cell_type": "code",
   "execution_count": 29,
   "metadata": {},
   "outputs": [
    {
     "name": "stdout",
     "output_type": "stream",
     "text": [
      "Train on 750 samples\n",
      "Epoch 1/100\n",
      "750/750 [==============================] - 0s 524us/sample - loss: 0.7237 - accuracy: 0.6427\n",
      "Epoch 2/100\n",
      "750/750 [==============================] - 0s 69us/sample - loss: 0.6395 - accuracy: 0.6653\n",
      "Epoch 3/100\n",
      "750/750 [==============================] - 0s 62us/sample - loss: 0.5782 - accuracy: 0.6867\n",
      "Epoch 4/100\n",
      "750/750 [==============================] - 0s 53us/sample - loss: 0.5345 - accuracy: 0.7027\n",
      "Epoch 5/100\n",
      "750/750 [==============================] - 0s 64us/sample - loss: 0.5020 - accuracy: 0.7200\n",
      "Epoch 6/100\n",
      "750/750 [==============================] - 0s 39us/sample - loss: 0.4754 - accuracy: 0.7387\n",
      "Epoch 7/100\n",
      "750/750 [==============================] - 0s 49us/sample - loss: 0.4530 - accuracy: 0.7493\n",
      "Epoch 8/100\n",
      "750/750 [==============================] - 0s 59us/sample - loss: 0.4342 - accuracy: 0.7653\n",
      "Epoch 9/100\n",
      "750/750 [==============================] - 0s 49us/sample - loss: 0.4175 - accuracy: 0.7800\n",
      "Epoch 10/100\n",
      "750/750 [==============================] - 0s 61us/sample - loss: 0.4033 - accuracy: 0.7827\n",
      "Epoch 11/100\n",
      "750/750 [==============================] - 0s 73us/sample - loss: 0.3902 - accuracy: 0.7880\n",
      "Epoch 12/100\n",
      "750/750 [==============================] - 0s 72us/sample - loss: 0.3786 - accuracy: 0.7920\n",
      "Epoch 13/100\n",
      "750/750 [==============================] - 0s 74us/sample - loss: 0.3680 - accuracy: 0.7960\n",
      "Epoch 14/100\n",
      "750/750 [==============================] - 0s 78us/sample - loss: 0.3584 - accuracy: 0.8080\n",
      "Epoch 15/100\n",
      "750/750 [==============================] - 0s 73us/sample - loss: 0.3497 - accuracy: 0.8133\n",
      "Epoch 16/100\n",
      "750/750 [==============================] - 0s 72us/sample - loss: 0.3414 - accuracy: 0.8187\n",
      "Epoch 17/100\n",
      "750/750 [==============================] - 0s 73us/sample - loss: 0.3341 - accuracy: 0.8240\n",
      "Epoch 18/100\n",
      "750/750 [==============================] - 0s 80us/sample - loss: 0.3272 - accuracy: 0.8280\n",
      "Epoch 19/100\n",
      "750/750 [==============================] - 0s 80us/sample - loss: 0.3211 - accuracy: 0.8333\n",
      "Epoch 20/100\n",
      "750/750 [==============================] - 0s 74us/sample - loss: 0.3157 - accuracy: 0.8387\n",
      "Epoch 21/100\n",
      "750/750 [==============================] - 0s 73us/sample - loss: 0.3107 - accuracy: 0.8400\n",
      "Epoch 22/100\n",
      "750/750 [==============================] - 0s 74us/sample - loss: 0.3064 - accuracy: 0.8400\n",
      "Epoch 23/100\n",
      "750/750 [==============================] - 0s 78us/sample - loss: 0.3024 - accuracy: 0.8440\n",
      "Epoch 24/100\n",
      "750/750 [==============================] - 0s 76us/sample - loss: 0.2989 - accuracy: 0.8480\n",
      "Epoch 25/100\n",
      "750/750 [==============================] - 0s 81us/sample - loss: 0.2958 - accuracy: 0.8533\n",
      "Epoch 26/100\n",
      "750/750 [==============================] - 0s 74us/sample - loss: 0.2929 - accuracy: 0.8573\n",
      "Epoch 27/100\n",
      "750/750 [==============================] - 0s 73us/sample - loss: 0.2903 - accuracy: 0.8613\n",
      "Epoch 28/100\n",
      "750/750 [==============================] - 0s 73us/sample - loss: 0.2880 - accuracy: 0.8640\n",
      "Epoch 29/100\n",
      "750/750 [==============================] - 0s 72us/sample - loss: 0.2860 - accuracy: 0.8667\n",
      "Epoch 30/100\n",
      "750/750 [==============================] - 0s 73us/sample - loss: 0.2841 - accuracy: 0.8680\n",
      "Epoch 31/100\n",
      "750/750 [==============================] - 0s 72us/sample - loss: 0.2824 - accuracy: 0.8707\n",
      "Epoch 32/100\n",
      "750/750 [==============================] - 0s 50us/sample - loss: 0.2807 - accuracy: 0.8747\n",
      "Epoch 33/100\n",
      "750/750 [==============================] - 0s 65us/sample - loss: 0.2793 - accuracy: 0.8760\n",
      "Epoch 34/100\n",
      "750/750 [==============================] - 0s 57us/sample - loss: 0.2780 - accuracy: 0.8773\n",
      "Epoch 35/100\n",
      "750/750 [==============================] - 0s 81us/sample - loss: 0.2768 - accuracy: 0.8787s - loss: 0.2792 - accuracy: 0.87\n",
      "Epoch 36/100\n",
      "750/750 [==============================] - 0s 71us/sample - loss: 0.2756 - accuracy: 0.8800\n",
      "Epoch 37/100\n",
      "750/750 [==============================] - 0s 72us/sample - loss: 0.2745 - accuracy: 0.8800\n",
      "Epoch 38/100\n",
      "750/750 [==============================] - 0s 76us/sample - loss: 0.2735 - accuracy: 0.8813\n",
      "Epoch 39/100\n",
      "750/750 [==============================] - 0s 78us/sample - loss: 0.2727 - accuracy: 0.8827\n",
      "Epoch 40/100\n",
      "750/750 [==============================] - 0s 74us/sample - loss: 0.2719 - accuracy: 0.8827\n",
      "Epoch 41/100\n",
      "750/750 [==============================] - 0s 74us/sample - loss: 0.2710 - accuracy: 0.8827\n",
      "Epoch 42/100\n",
      "750/750 [==============================] - 0s 73us/sample - loss: 0.2703 - accuracy: 0.8840\n",
      "Epoch 43/100\n",
      "750/750 [==============================] - 0s 73us/sample - loss: 0.2696 - accuracy: 0.8853\n",
      "Epoch 44/100\n",
      "750/750 [==============================] - 0s 72us/sample - loss: 0.2690 - accuracy: 0.8853\n",
      "Epoch 45/100\n",
      "750/750 [==============================] - 0s 78us/sample - loss: 0.2684 - accuracy: 0.8853\n",
      "Epoch 46/100\n",
      "750/750 [==============================] - 0s 77us/sample - loss: 0.2678 - accuracy: 0.8853\n",
      "Epoch 47/100\n",
      "750/750 [==============================] - 0s 79us/sample - loss: 0.2673 - accuracy: 0.8853\n",
      "Epoch 48/100\n",
      "750/750 [==============================] - 0s 72us/sample - loss: 0.2668 - accuracy: 0.8840\n",
      "Epoch 49/100\n",
      "750/750 [==============================] - 0s 73us/sample - loss: 0.2662 - accuracy: 0.8853\n",
      "Epoch 50/100\n",
      "750/750 [==============================] - 0s 73us/sample - loss: 0.2658 - accuracy: 0.8853\n",
      "Epoch 51/100\n",
      "750/750 [==============================] - 0s 73us/sample - loss: 0.2653 - accuracy: 0.8880\n",
      "Epoch 52/100\n",
      "750/750 [==============================] - 0s 64us/sample - loss: 0.2649 - accuracy: 0.8867\n",
      "Epoch 53/100\n",
      "750/750 [==============================] - 0s 63us/sample - loss: 0.2645 - accuracy: 0.8880\n",
      "Epoch 54/100\n",
      "750/750 [==============================] - 0s 50us/sample - loss: 0.2641 - accuracy: 0.8880\n",
      "Epoch 55/100\n",
      "750/750 [==============================] - 0s 77us/sample - loss: 0.2637 - accuracy: 0.8880\n",
      "Epoch 56/100\n",
      "750/750 [==============================] - 0s 73us/sample - loss: 0.2634 - accuracy: 0.8893\n",
      "Epoch 57/100\n",
      "750/750 [==============================] - 0s 66us/sample - loss: 0.2630 - accuracy: 0.8893\n",
      "Epoch 58/100\n",
      "750/750 [==============================] - 0s 72us/sample - loss: 0.2627 - accuracy: 0.8893\n",
      "Epoch 59/100\n",
      "750/750 [==============================] - 0s 61us/sample - loss: 0.2624 - accuracy: 0.8893\n",
      "Epoch 60/100\n",
      "750/750 [==============================] - 0s 66us/sample - loss: 0.2620 - accuracy: 0.8893\n",
      "Epoch 61/100\n",
      "750/750 [==============================] - 0s 56us/sample - loss: 0.2617 - accuracy: 0.8893\n",
      "Epoch 62/100\n",
      "750/750 [==============================] - 0s 60us/sample - loss: 0.2615 - accuracy: 0.8893\n",
      "Epoch 63/100\n",
      "750/750 [==============================] - 0s 65us/sample - loss: 0.2612 - accuracy: 0.8893\n",
      "Epoch 64/100\n",
      "750/750 [==============================] - 0s 54us/sample - loss: 0.2609 - accuracy: 0.8893\n",
      "Epoch 65/100\n",
      "750/750 [==============================] - 0s 72us/sample - loss: 0.2607 - accuracy: 0.8893\n",
      "Epoch 66/100\n",
      "750/750 [==============================] - 0s 69us/sample - loss: 0.2607 - accuracy: 0.8893\n",
      "Epoch 67/100\n",
      "750/750 [==============================] - 0s 62us/sample - loss: 0.2602 - accuracy: 0.8920\n",
      "Epoch 68/100\n",
      "750/750 [==============================] - 0s 72us/sample - loss: 0.2600 - accuracy: 0.8920\n",
      "Epoch 69/100\n",
      "750/750 [==============================] - 0s 70us/sample - loss: 0.2598 - accuracy: 0.8933\n",
      "Epoch 70/100\n",
      "750/750 [==============================] - 0s 69us/sample - loss: 0.2596 - accuracy: 0.8920\n",
      "Epoch 71/100\n",
      "750/750 [==============================] - 0s 72us/sample - loss: 0.2594 - accuracy: 0.8933\n",
      "Epoch 72/100\n",
      "750/750 [==============================] - 0s 68us/sample - loss: 0.2592 - accuracy: 0.8933\n",
      "Epoch 73/100\n",
      "750/750 [==============================] - 0s 73us/sample - loss: 0.2590 - accuracy: 0.8933\n",
      "Epoch 74/100\n",
      "750/750 [==============================] - 0s 65us/sample - loss: 0.2587 - accuracy: 0.8933\n",
      "Epoch 75/100\n",
      "750/750 [==============================] - 0s 66us/sample - loss: 0.2586 - accuracy: 0.8933\n",
      "Epoch 76/100\n",
      "750/750 [==============================] - 0s 61us/sample - loss: 0.2584 - accuracy: 0.8920\n",
      "Epoch 77/100\n",
      "750/750 [==============================] - 0s 64us/sample - loss: 0.2583 - accuracy: 0.8920\n",
      "Epoch 78/100\n"
     ]
    },
    {
     "name": "stdout",
     "output_type": "stream",
     "text": [
      "750/750 [==============================] - 0s 79us/sample - loss: 0.2580 - accuracy: 0.8920\n",
      "Epoch 79/100\n",
      "750/750 [==============================] - 0s 72us/sample - loss: 0.2579 - accuracy: 0.8933\n",
      "Epoch 80/100\n",
      "750/750 [==============================] - 0s 72us/sample - loss: 0.2578 - accuracy: 0.8920\n",
      "Epoch 81/100\n",
      "750/750 [==============================] - 0s 69us/sample - loss: 0.2576 - accuracy: 0.8933\n",
      "Epoch 82/100\n",
      "750/750 [==============================] - 0s 73us/sample - loss: 0.2576 - accuracy: 0.8933\n",
      "Epoch 83/100\n",
      "750/750 [==============================] - 0s 70us/sample - loss: 0.2574 - accuracy: 0.8933\n",
      "Epoch 84/100\n",
      "750/750 [==============================] - 0s 71us/sample - loss: 0.2571 - accuracy: 0.8933\n",
      "Epoch 85/100\n",
      "750/750 [==============================] - 0s 65us/sample - loss: 0.2569 - accuracy: 0.8933\n",
      "Epoch 86/100\n",
      "750/750 [==============================] - 0s 68us/sample - loss: 0.2569 - accuracy: 0.8920\n",
      "Epoch 87/100\n",
      "750/750 [==============================] - 0s 69us/sample - loss: 0.2568 - accuracy: 0.8933\n",
      "Epoch 88/100\n",
      "750/750 [==============================] - 0s 70us/sample - loss: 0.2565 - accuracy: 0.8920\n",
      "Epoch 89/100\n",
      "750/750 [==============================] - 0s 69us/sample - loss: 0.2564 - accuracy: 0.8920\n",
      "Epoch 90/100\n",
      "750/750 [==============================] - 0s 72us/sample - loss: 0.2563 - accuracy: 0.8920\n",
      "Epoch 91/100\n",
      "750/750 [==============================] - 0s 69us/sample - loss: 0.2562 - accuracy: 0.8920\n",
      "Epoch 92/100\n",
      "750/750 [==============================] - 0s 69us/sample - loss: 0.2561 - accuracy: 0.8920\n",
      "Epoch 93/100\n",
      "750/750 [==============================] - 0s 69us/sample - loss: 0.2560 - accuracy: 0.8920\n",
      "Epoch 94/100\n",
      "750/750 [==============================] - 0s 70us/sample - loss: 0.2559 - accuracy: 0.8920\n",
      "Epoch 95/100\n",
      "750/750 [==============================] - 0s 69us/sample - loss: 0.2557 - accuracy: 0.8920\n",
      "Epoch 96/100\n",
      "750/750 [==============================] - 0s 69us/sample - loss: 0.2556 - accuracy: 0.8920\n",
      "Epoch 97/100\n",
      "750/750 [==============================] - 0s 71us/sample - loss: 0.2556 - accuracy: 0.8920\n",
      "Epoch 98/100\n",
      "750/750 [==============================] - 0s 69us/sample - loss: 0.2554 - accuracy: 0.8920\n",
      "Epoch 99/100\n",
      "750/750 [==============================] - 0s 68us/sample - loss: 0.2553 - accuracy: 0.8920\n",
      "Epoch 100/100\n",
      "750/750 [==============================] - 0s 69us/sample - loss: 0.2552 - accuracy: 0.8920\n"
     ]
    }
   ],
   "source": [
    "# Training the model with the non-linear data\n",
    "model_moon = neuron.fit(X_moon_train_scaled, y_moon_train, epochs=100)"
   ]
  },
  {
   "cell_type": "markdown",
   "metadata": {},
   "source": [
    " ### Evaluate the Model\n",
    "\n",
    " #### Plotting the Loss Function and Accuracy"
   ]
  },
  {
   "cell_type": "code",
   "execution_count": 30,
   "metadata": {},
   "outputs": [
    {
     "data": {
      "text/plain": [
       "<matplotlib.axes._subplots.AxesSubplot at 0x1d4ed3519b0>"
      ]
     },
     "execution_count": 30,
     "metadata": {},
     "output_type": "execute_result"
    },
    {
     "data": {
      "image/png": "[encoded data removed]",
      "text/plain": [
       "<Figure size 432x288 with 1 Axes>"
      ]
     },
     "metadata": {
      "needs_background": "light"
     },
     "output_type": "display_data"
    }
   ],
   "source": [
    "# Create a DataFrame with the history dictionary\n",
    "df_moon = pd.DataFrame(\n",
    "    model_moon.history, index=range(1, len(model_moon.history[\"loss\"]) + 1)\n",
    ")\n",
    "\n",
    "# Plot the loss\n",
    "df_moon.plot(y=\"loss\")"
   ]
  },
  {
   "cell_type": "code",
   "execution_count": 31,
   "metadata": {},
   "outputs": [
    {
     "data": {
      "text/plain": [
       "<matplotlib.axes._subplots.AxesSubplot at 0x1d4ee43ce80>"
      ]
     },
     "execution_count": 31,
     "metadata": {},
     "output_type": "execute_result"
    },
    {
     "data": {
      "image/png": "[encoded data removed]",
      "text/plain": [
       "<Figure size 432x288 with 1 Axes>"
      ]
     },
     "metadata": {
      "needs_background": "light"
     },
     "output_type": "display_data"
    }
   ],
   "source": [
    "# Plot the accuracy\n",
    "df_moon.plot(y=\"accuracy\")"
   ]
  },
  {
   "cell_type": "markdown",
   "metadata": {},
   "source": [
    " #### Evaluating the Model Using Testing Data"
   ]
  },
  {
   "cell_type": "code",
   "execution_count": 32,
   "metadata": {},
   "outputs": [
    {
     "name": "stdout",
     "output_type": "stream",
     "text": [
      "250/250 - 0s - loss: 0.2720 - accuracy: 0.8640\n",
      "Loss: 0.27202606761455533, Accuracy: 0.8640000224113464\n"
     ]
    }
   ],
   "source": [
    "# Evaluate the model using non-linear data\n",
    "model_moon_loss, model_moon_accuracy = neuron.evaluate(\n",
    "    X_moon_test_scaled, y_moon_test, verbose=2\n",
    ")\n",
    "print(f\"Loss: {model_moon_loss}, Accuracy: {model_moon_accuracy}\")"
   ]
  },
  {
   "cell_type": "markdown",
   "metadata": {},
   "source": [
    " ### Making Predictions"
   ]
  },
  {
   "cell_type": "code",
   "execution_count": 33,
   "metadata": {},
   "outputs": [],
   "source": [
    "# Create demo data\n",
    "X_new_moons, y_new_moons = make_moons(n_samples=10, noise=0.08, random_state=78)"
   ]
  },
  {
   "cell_type": "code",
   "execution_count": 34,
   "metadata": {},
   "outputs": [
    {
     "data": {
      "text/html": [
       "<div>\n",
       "<style scoped>\n",
       "    .dataframe tbody tr th:only-of-type {\n",
       "        vertical-align: middle;\n",
       "    }\n",
       "\n",
       "    .dataframe tbody tr th {\n",
       "        vertical-align: top;\n",
       "    }\n",
       "\n",
       "    .dataframe thead th {\n",
       "        text-align: right;\n",
       "    }\n",
       "</style>\n",
       "<table border=\"1\" class=\"dataframe\">\n",
       "  <thead>\n",
       "    <tr style=\"text-align: right;\">\n",
       "      <th></th>\n",
       "      <th>predictions</th>\n",
       "      <th>actual</th>\n",
       "    </tr>\n",
       "  </thead>\n",
       "  <tbody>\n",
       "    <tr>\n",
       "      <th>0</th>\n",
       "      <td>0</td>\n",
       "      <td>0</td>\n",
       "    </tr>\n",
       "    <tr>\n",
       "      <th>1</th>\n",
       "      <td>0</td>\n",
       "      <td>0</td>\n",
       "    </tr>\n",
       "    <tr>\n",
       "      <th>2</th>\n",
       "      <td>0</td>\n",
       "      <td>0</td>\n",
       "    </tr>\n",
       "    <tr>\n",
       "      <th>3</th>\n",
       "      <td>1</td>\n",
       "      <td>1</td>\n",
       "    </tr>\n",
       "    <tr>\n",
       "      <th>4</th>\n",
       "      <td>1</td>\n",
       "      <td>1</td>\n",
       "    </tr>\n",
       "    <tr>\n",
       "      <th>5</th>\n",
       "      <td>0</td>\n",
       "      <td>0</td>\n",
       "    </tr>\n",
       "    <tr>\n",
       "      <th>6</th>\n",
       "      <td>1</td>\n",
       "      <td>0</td>\n",
       "    </tr>\n",
       "    <tr>\n",
       "      <th>7</th>\n",
       "      <td>1</td>\n",
       "      <td>1</td>\n",
       "    </tr>\n",
       "    <tr>\n",
       "      <th>8</th>\n",
       "      <td>1</td>\n",
       "      <td>1</td>\n",
       "    </tr>\n",
       "    <tr>\n",
       "      <th>9</th>\n",
       "      <td>0</td>\n",
       "      <td>1</td>\n",
       "    </tr>\n",
       "  </tbody>\n",
       "</table>\n",
       "</div>"
      ],
      "text/plain": [
       "   predictions  actual\n",
       "0            0       0\n",
       "1            0       0\n",
       "2            0       0\n",
       "3            1       1\n",
       "4            1       1\n",
       "5            0       0\n",
       "6            1       0\n",
       "7            1       1\n",
       "8            1       1\n",
       "9            0       1"
      ]
     },
     "execution_count": 34,
     "metadata": {},
     "output_type": "execute_result"
    }
   ],
   "source": [
    "# Making predictions\n",
    "predictions_moon = neuron.predict_classes(X_new_moons)\n",
    "results = pd.DataFrame({\"predictions\": predictions_moon.ravel(), \"actual\": y_new_moons})\n",
    "results.head(10)"
   ]
  }
 ],
 "metadata": {
  "file_extension": ".py",
  "kernelspec": {
   "display_name": "testgv",
   "language": "python",
   "name": "testgv"
  },
  "language_info": {
   "codemirror_mode": {
    "name": "ipython",
    "version": 3
   },
   "file_extension": ".py",
   "mimetype": "text/x-python",
   "name": "python",
   "nbconvert_exporter": "python",
   "pygments_lexer": "ipython3",
   "version": "3.7.3"
  },
  "mimetype": "text/x-python",
  "name": "python",
  "npconvert_exporter": "python",
  "pygments_lexer": "ipython3",
  "version": 3
 },
 "nbformat": 4,
 "nbformat_minor": 4
}
