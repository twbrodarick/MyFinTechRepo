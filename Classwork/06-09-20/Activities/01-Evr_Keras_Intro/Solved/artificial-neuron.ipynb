{
 "cells": [
  {
   "cell_type": "markdown",
   "metadata": {},
   "source": [
    "# Activating Your First Artificial Neuron"
   ]
  },
  {
   "cell_type": "code",
   "execution_count": 1,
   "metadata": {},
   "outputs": [
    {
     "name": "stderr",
     "output_type": "stream",
     "text": [
      "C:\\Users\\tbrod\\Anaconda3\\envs\\PyViz\\lib\\site-packages\\sklearn\\utils\\deprecation.py:144: FutureWarning: The sklearn.datasets.samples_generator module is  deprecated in version 0.22 and will be removed in version 0.24. The corresponding classes / functions should instead be imported from sklearn.datasets. Anything that cannot be imported from sklearn.datasets is now part of the private API.\n",
      "  warnings.warn(message, FutureWarning)\n"
     ]
    }
   ],
   "source": [
    "# Initial imports\n",
    "import pandas as pd\n",
    "import numpy as np\n",
    "from sklearn.datasets.samples_generator import make_blobs, make_moons\n",
    "from sklearn.model_selection import train_test_split\n",
    "from sklearn.preprocessing import StandardScaler\n",
    "from tensorflow.keras.models import Sequential\n",
    "from tensorflow.keras.layers import Dense\n",
    "\n",
    "%matplotlib inline"
   ]
  },
  {
   "cell_type": "markdown",
   "metadata": {},
   "source": [
    "## Using a Single Neuron for Binary Classification\n",
    "\n",
    "### Creating Dummy Data"
   ]
  },
  {
   "cell_type": "code",
   "execution_count": 2,
   "metadata": {},
   "outputs": [],
   "source": [
    "# Generate 1000 demo data samples with 2 features and two centers\n",
    "X, y = make_blobs(n_samples=1000, centers=2, n_features=2, random_state=78)"
   ]
  },
  {
   "cell_type": "code",
   "execution_count": 3,
   "metadata": {},
   "outputs": [
    {
     "data": {
      "text/plain": [
       "(1000, 1)"
      ]
     },
     "execution_count": 3,
     "metadata": {},
     "output_type": "execute_result"
    }
   ],
   "source": [
    "# Transforming y to a vertical vector\n",
    "y = y.reshape(-1, 1)\n",
    "y.shape"
   ]
  },
  {
   "cell_type": "code",
   "execution_count": 4,
   "metadata": {},
   "outputs": [
    {
     "data": {
      "text/html": [
       "<div>\n",
       "<style scoped>\n",
       "    .dataframe tbody tr th:only-of-type {\n",
       "        vertical-align: middle;\n",
       "    }\n",
       "\n",
       "    .dataframe tbody tr th {\n",
       "        vertical-align: top;\n",
       "    }\n",
       "\n",
       "    .dataframe thead th {\n",
       "        text-align: right;\n",
       "    }\n",
       "</style>\n",
       "<table border=\"1\" class=\"dataframe\">\n",
       "  <thead>\n",
       "    <tr style=\"text-align: right;\">\n",
       "      <th></th>\n",
       "      <th>Feature 1</th>\n",
       "      <th>Feature 2</th>\n",
       "      <th>Target</th>\n",
       "    </tr>\n",
       "  </thead>\n",
       "  <tbody>\n",
       "    <tr>\n",
       "      <th>0</th>\n",
       "      <td>5.478098</td>\n",
       "      <td>7.203714</td>\n",
       "      <td>1</td>\n",
       "    </tr>\n",
       "    <tr>\n",
       "      <th>1</th>\n",
       "      <td>-8.428483</td>\n",
       "      <td>4.121889</td>\n",
       "      <td>0</td>\n",
       "    </tr>\n",
       "    <tr>\n",
       "      <th>2</th>\n",
       "      <td>-7.905447</td>\n",
       "      <td>3.323639</td>\n",
       "      <td>0</td>\n",
       "    </tr>\n",
       "    <tr>\n",
       "      <th>3</th>\n",
       "      <td>6.411041</td>\n",
       "      <td>5.523013</td>\n",
       "      <td>1</td>\n",
       "    </tr>\n",
       "    <tr>\n",
       "      <th>4</th>\n",
       "      <td>7.288599</td>\n",
       "      <td>6.171226</td>\n",
       "      <td>1</td>\n",
       "    </tr>\n",
       "  </tbody>\n",
       "</table>\n",
       "</div>"
      ],
      "text/plain": [
       "   Feature 1  Feature 2  Target\n",
       "0   5.478098   7.203714       1\n",
       "1  -8.428483   4.121889       0\n",
       "2  -7.905447   3.323639       0\n",
       "3   6.411041   5.523013       1\n",
       "4   7.288599   6.171226       1"
      ]
     },
     "execution_count": 4,
     "metadata": {},
     "output_type": "execute_result"
    }
   ],
   "source": [
    "# Creating a DataFrame with the dummy data\n",
    "df = pd.DataFrame(X, columns=[\"Feature 1\", \"Feature 2\"])\n",
    "df[\"Target\"] = y\n",
    "df.head()"
   ]
  },
  {
   "cell_type": "code",
   "execution_count": 5,
   "metadata": {},
   "outputs": [
    {
     "data": {
      "text/plain": [
       "<matplotlib.axes._subplots.AxesSubplot at 0x197838f8188>"
      ]
     },
     "execution_count": 5,
     "metadata": {},
     "output_type": "execute_result"
    },
    {
     "data": {
      "image/png": "[encoded data removed]",
      "text/plain": [
       "<Figure size 432x288 with 2 Axes>"
      ]
     },
     "metadata": {
      "needs_background": "light"
     },
     "output_type": "display_data"
    }
   ],
   "source": [
    "# Plotting the dummy data\n",
    "df.plot.scatter(x=\"Feature 1\", y=\"Feature 2\", c=\"Target\", colormap=\"winter\")"
   ]
  },
  {
   "cell_type": "markdown",
   "metadata": {},
   "source": [
    " ### Data Preprocessing\n",
    "\n",
    " Use `train_test_split` to create training and testing data."
   ]
  },
  {
   "cell_type": "code",
   "execution_count": 6,
   "metadata": {},
   "outputs": [],
   "source": [
    "# Create training and testing datasets\n",
    "X_train, X_test, y_train, y_test = train_test_split(X, y, random_state=78)"
   ]
  },
  {
   "cell_type": "markdown",
   "metadata": {},
   "source": [
    " Scale the data using the `StandarScaler`."
   ]
  },
  {
   "cell_type": "code",
   "execution_count": 7,
   "metadata": {},
   "outputs": [],
   "source": [
    "# Create scaler instance\n",
    "X_scaler = StandardScaler()"
   ]
  },
  {
   "cell_type": "code",
   "execution_count": 8,
   "metadata": {},
   "outputs": [
    {
     "data": {
      "text/plain": [
       "StandardScaler(copy=True, with_mean=True, with_std=True)"
      ]
     },
     "execution_count": 8,
     "metadata": {},
     "output_type": "execute_result"
    }
   ],
   "source": [
    "# Fit the scaler\n",
    "X_scaler.fit(X_train)"
   ]
  },
  {
   "cell_type": "code",
   "execution_count": 9,
   "metadata": {},
   "outputs": [],
   "source": [
    "# Scale the data\n",
    "X_train_scaled = X_scaler.transform(X_train)\n",
    "X_test_scaled = X_scaler.transform(X_test)"
   ]
  },
  {
   "cell_type": "markdown",
   "metadata": {},
   "source": [
    " ### Neural Network Model Creation"
   ]
  },
  {
   "cell_type": "code",
   "execution_count": 10,
   "metadata": {},
   "outputs": [],
   "source": [
    "# Create a sequential model\n",
    "neuron = Sequential()"
   ]
  },
  {
   "cell_type": "markdown",
   "metadata": {},
   "source": [
    "The initial step is to add the first layer of our neural network.\n",
    "\n",
    "![First Layer](../Images/tensorflow-neuron-layer-1.png)"
   ]
  },
  {
   "cell_type": "code",
   "execution_count": 11,
   "metadata": {},
   "outputs": [],
   "source": [
    "# First layer\n",
    "number_inputs = 2\n",
    "number_hidden_nodes = 1\n",
    "\n",
    "neuron.add(Dense(units=number_hidden_nodes, activation=\"relu\", input_dim=number_inputs))"
   ]
  },
  {
   "cell_type": "markdown",
   "metadata": {},
   "source": [
    "We finish creating our neural network by adding the output layer.\n",
    "\n",
    "![Output layer](../Images/tensorflow-neuron-output-layer.png)"
   ]
  },
  {
   "cell_type": "code",
   "execution_count": 12,
   "metadata": {},
   "outputs": [],
   "source": [
    "# Output layer\n",
    "number_classes = 1\n",
    "\n",
    "neuron.add(Dense(units=number_classes, activation=\"sigmoid\"))"
   ]
  },
  {
   "cell_type": "code",
   "execution_count": 13,
   "metadata": {},
   "outputs": [
    {
     "name": "stdout",
     "output_type": "stream",
     "text": [
      "Model: \"sequential\"\n",
      "_________________________________________________________________\n",
      "Layer (type)                 Output Shape              Param #   \n",
      "=================================================================\n",
      "dense (Dense)                (None, 1)                 3         \n",
      "_________________________________________________________________\n",
      "dense_1 (Dense)              (None, 1)                 2         \n",
      "=================================================================\n",
      "Total params: 5\n",
      "Trainable params: 5\n",
      "Non-trainable params: 0\n",
      "_________________________________________________________________\n"
     ]
    }
   ],
   "source": [
    "# Model summary\n",
    "neuron.summary()"
   ]
  },
  {
   "cell_type": "markdown",
   "metadata": {},
   "source": [
    " ### Compile the Model"
   ]
  },
  {
   "cell_type": "code",
   "execution_count": 14,
   "metadata": {},
   "outputs": [],
   "source": [
    "# Compile model\n",
    "neuron.compile(loss=\"binary_crossentropy\", optimizer=\"adam\", metrics=[\"accuracy\"])"
   ]
  },
  {
   "cell_type": "markdown",
   "metadata": {},
   "source": [
    " ### Fit the Model"
   ]
  },
  {
   "cell_type": "code",
   "execution_count": 15,
   "metadata": {},
   "outputs": [
    {
     "name": "stdout",
     "output_type": "stream",
     "text": [
      "Train on 750 samples\n",
      "Epoch 1/100\n",
      "750/750 [==============================] - 1s 1ms/sample - loss: 0.7412 - accuracy: 0.0120\n",
      "Epoch 2/100\n",
      "750/750 [==============================] - 0s 49us/sample - loss: 0.7303 - accuracy: 0.0133\n",
      "Epoch 3/100\n",
      "750/750 [==============================] - 0s 69us/sample - loss: 0.7206 - accuracy: 0.0200\n",
      "Epoch 4/100\n",
      "750/750 [==============================] - 0s 50us/sample - loss: 0.7123 - accuracy: 0.0347\n",
      "Epoch 5/100\n",
      "750/750 [==============================] - 0s 56us/sample - loss: 0.7049 - accuracy: 0.0893\n",
      "Epoch 6/100\n",
      "750/750 [==============================] - 0s 49us/sample - loss: 0.6982 - accuracy: 0.3400\n",
      "Epoch 7/100\n",
      "750/750 [==============================] - 0s 57us/sample - loss: 0.6920 - accuracy: 0.5067\n",
      "Epoch 8/100\n",
      "750/750 [==============================] - 0s 52us/sample - loss: 0.6858 - accuracy: 0.5067\n",
      "Epoch 9/100\n",
      "750/750 [==============================] - 0s 51us/sample - loss: 0.6795 - accuracy: 0.5067\n",
      "Epoch 10/100\n",
      "750/750 [==============================] - 0s 65us/sample - loss: 0.6726 - accuracy: 0.5067\n",
      "Epoch 11/100\n",
      "750/750 [==============================] - 0s 47us/sample - loss: 0.6648 - accuracy: 0.5067\n",
      "Epoch 12/100\n",
      "750/750 [==============================] - 0s 50us/sample - loss: 0.6560 - accuracy: 0.5067\n",
      "Epoch 13/100\n",
      "750/750 [==============================] - 0s 48us/sample - loss: 0.6461 - accuracy: 0.5067\n",
      "Epoch 14/100\n",
      "750/750 [==============================] - 0s 52us/sample - loss: 0.6347 - accuracy: 0.5067\n",
      "Epoch 15/100\n",
      "750/750 [==============================] - 0s 47us/sample - loss: 0.6223 - accuracy: 0.8027\n",
      "Epoch 16/100\n",
      "750/750 [==============================] - 0s 48us/sample - loss: 0.6088 - accuracy: 0.9933\n",
      "Epoch 17/100\n",
      "750/750 [==============================] - 0s 48us/sample - loss: 0.5944 - accuracy: 0.9933\n",
      "Epoch 18/100\n",
      "750/750 [==============================] - 0s 52us/sample - loss: 0.5791 - accuracy: 0.9933\n",
      "Epoch 19/100\n",
      "750/750 [==============================] - 0s 56us/sample - loss: 0.5633 - accuracy: 0.9933\n",
      "Epoch 20/100\n",
      "750/750 [==============================] - 0s 64us/sample - loss: 0.5474 - accuracy: 0.9933\n",
      "Epoch 21/100\n",
      "750/750 [==============================] - 0s 72us/sample - loss: 0.5314 - accuracy: 0.9933\n",
      "Epoch 22/100\n",
      "750/750 [==============================] - 0s 61us/sample - loss: 0.5155 - accuracy: 0.9933\n",
      "Epoch 23/100\n",
      "750/750 [==============================] - 0s 60us/sample - loss: 0.4997 - accuracy: 0.9933\n",
      "Epoch 24/100\n",
      "750/750 [==============================] - 0s 60us/sample - loss: 0.4844 - accuracy: 0.9933\n",
      "Epoch 25/100\n",
      "750/750 [==============================] - 0s 49us/sample - loss: 0.4692 - accuracy: 0.9947\n",
      "Epoch 26/100\n",
      "750/750 [==============================] - 0s 43us/sample - loss: 0.4545 - accuracy: 0.9947\n",
      "Epoch 27/100\n",
      "750/750 [==============================] - 0s 53us/sample - loss: 0.4403 - accuracy: 0.9947\n",
      "Epoch 28/100\n",
      "750/750 [==============================] - 0s 52us/sample - loss: 0.4265 - accuracy: 0.9947\n",
      "Epoch 29/100\n",
      "750/750 [==============================] - 0s 78us/sample - loss: 0.4133 - accuracy: 0.9947\n",
      "Epoch 30/100\n",
      "750/750 [==============================] - 0s 65us/sample - loss: 0.4006 - accuracy: 0.9947\n",
      "Epoch 31/100\n",
      "750/750 [==============================] - 0s 56us/sample - loss: 0.3885 - accuracy: 0.9947\n",
      "Epoch 32/100\n",
      "750/750 [==============================] - 0s 80us/sample - loss: 0.3768 - accuracy: 0.9947\n",
      "Epoch 33/100\n",
      "750/750 [==============================] - 0s 45us/sample - loss: 0.3655 - accuracy: 0.9947\n",
      "Epoch 34/100\n",
      "750/750 [==============================] - 0s 50us/sample - loss: 0.3548 - accuracy: 0.9947\n",
      "Epoch 35/100\n",
      "750/750 [==============================] - 0s 48us/sample - loss: 0.3445 - accuracy: 0.9960\n",
      "Epoch 36/100\n",
      "750/750 [==============================] - 0s 52us/sample - loss: 0.3347 - accuracy: 0.9960\n",
      "Epoch 37/100\n",
      "750/750 [==============================] - 0s 61us/sample - loss: 0.3252 - accuracy: 0.9960\n",
      "Epoch 38/100\n",
      "750/750 [==============================] - 0s 47us/sample - loss: 0.3162 - accuracy: 0.9960\n",
      "Epoch 39/100\n",
      "750/750 [==============================] - 0s 48us/sample - loss: 0.3075 - accuracy: 0.9960\n",
      "Epoch 40/100\n",
      "750/750 [==============================] - 0s 45us/sample - loss: 0.2993 - accuracy: 0.9960\n",
      "Epoch 41/100\n",
      "750/750 [==============================] - 0s 52us/sample - loss: 0.2913 - accuracy: 0.9960\n",
      "Epoch 42/100\n",
      "750/750 [==============================] - 0s 61us/sample - loss: 0.2837 - accuracy: 0.9960\n",
      "Epoch 43/100\n",
      "750/750 [==============================] - 0s 60us/sample - loss: 0.2763 - accuracy: 0.9960\n",
      "Epoch 44/100\n",
      "750/750 [==============================] - 0s 61us/sample - loss: 0.2694 - accuracy: 0.9960\n",
      "Epoch 45/100\n",
      "750/750 [==============================] - 0s 52us/sample - loss: 0.2626 - accuracy: 0.9960\n",
      "Epoch 46/100\n",
      "750/750 [==============================] - 0s 58us/sample - loss: 0.2561 - accuracy: 0.9960\n",
      "Epoch 47/100\n",
      "750/750 [==============================] - 0s 60us/sample - loss: 0.2498 - accuracy: 0.9960\n",
      "Epoch 48/100\n",
      "750/750 [==============================] - 0s 56us/sample - loss: 0.2438 - accuracy: 0.9960\n",
      "Epoch 49/100\n",
      "750/750 [==============================] - 0s 57us/sample - loss: 0.2380 - accuracy: 0.9960\n",
      "Epoch 50/100\n",
      "750/750 [==============================] - 0s 52us/sample - loss: 0.2324 - accuracy: 0.9960\n",
      "Epoch 51/100\n",
      "750/750 [==============================] - 0s 44us/sample - loss: 0.2270 - accuracy: 0.9960\n",
      "Epoch 52/100\n",
      "750/750 [==============================] - 0s 43us/sample - loss: 0.2218 - accuracy: 0.9960\n",
      "Epoch 53/100\n",
      "750/750 [==============================] - 0s 43us/sample - loss: 0.2167 - accuracy: 0.9960\n",
      "Epoch 54/100\n",
      "750/750 [==============================] - 0s 68us/sample - loss: 0.2119 - accuracy: 0.9960\n",
      "Epoch 55/100\n",
      "750/750 [==============================] - 0s 69us/sample - loss: 0.2071 - accuracy: 0.9960\n",
      "Epoch 56/100\n",
      "750/750 [==============================] - 0s 52us/sample - loss: 0.2026 - accuracy: 0.9960\n",
      "Epoch 57/100\n",
      "750/750 [==============================] - 0s 76us/sample - loss: 0.1981 - accuracy: 0.9960\n",
      "Epoch 58/100\n",
      "750/750 [==============================] - 0s 52us/sample - loss: 0.1939 - accuracy: 0.9960\n",
      "Epoch 59/100\n",
      "750/750 [==============================] - 0s 41us/sample - loss: 0.1897 - accuracy: 0.9960\n",
      "Epoch 60/100\n",
      "750/750 [==============================] - 0s 48us/sample - loss: 0.1857 - accuracy: 0.9960\n",
      "Epoch 61/100\n",
      "750/750 [==============================] - 0s 48us/sample - loss: 0.1818 - accuracy: 0.9960\n",
      "Epoch 62/100\n",
      "750/750 [==============================] - 0s 44us/sample - loss: 0.1780 - accuracy: 0.9960\n",
      "Epoch 63/100\n",
      "750/750 [==============================] - 0s 44us/sample - loss: 0.1743 - accuracy: 0.9960\n",
      "Epoch 64/100\n",
      "750/750 [==============================] - 0s 45us/sample - loss: 0.1707 - accuracy: 0.9960\n",
      "Epoch 65/100\n",
      "750/750 [==============================] - 0s 49us/sample - loss: 0.1673 - accuracy: 0.9960\n",
      "Epoch 66/100\n",
      "750/750 [==============================] - 0s 69us/sample - loss: 0.1639 - accuracy: 0.9960\n",
      "Epoch 67/100\n",
      "750/750 [==============================] - 0s 57us/sample - loss: 0.1606 - accuracy: 0.9960\n",
      "Epoch 68/100\n",
      "750/750 [==============================] - 0s 53us/sample - loss: 0.1574 - accuracy: 0.9960\n",
      "Epoch 69/100\n",
      "750/750 [==============================] - 0s 53us/sample - loss: 0.1543 - accuracy: 0.9960\n",
      "Epoch 70/100\n",
      "750/750 [==============================] - 0s 53us/sample - loss: 0.1513 - accuracy: 0.9960\n",
      "Epoch 71/100\n",
      "750/750 [==============================] - 0s 57us/sample - loss: 0.1484 - accuracy: 0.9973\n",
      "Epoch 72/100\n",
      "750/750 [==============================] - 0s 58us/sample - loss: 0.1456 - accuracy: 0.9973\n",
      "Epoch 73/100\n",
      "750/750 [==============================] - 0s 58us/sample - loss: 0.1428 - accuracy: 0.9987\n",
      "Epoch 74/100\n",
      "750/750 [==============================] - 0s 53us/sample - loss: 0.1401 - accuracy: 1.0000\n",
      "Epoch 75/100\n",
      "750/750 [==============================] - 0s 52us/sample - loss: 0.1375 - accuracy: 1.0000\n",
      "Epoch 76/100\n",
      "750/750 [==============================] - 0s 46us/sample - loss: 0.1349 - accuracy: 1.0000\n",
      "Epoch 77/100\n",
      "750/750 [==============================] - 0s 40us/sample - loss: 0.1324 - accuracy: 1.0000\n",
      "Epoch 78/100\n",
      "750/750 [==============================] - 0s 44us/sample - loss: 0.1300 - accuracy: 1.0000\n",
      "Epoch 79/100\n",
      "750/750 [==============================] - 0s 45us/sample - loss: 0.1276 - accuracy: 1.0000\n",
      "Epoch 80/100\n",
      "750/750 [==============================] - 0s 73us/sample - loss: 0.1253 - accuracy: 1.0000\n",
      "Epoch 81/100\n",
      "750/750 [==============================] - 0s 78us/sample - loss: 0.1230 - accuracy: 1.0000\n",
      "Epoch 82/100\n",
      "750/750 [==============================] - 0s 50us/sample - loss: 0.1208 - accuracy: 1.0000\n",
      "Epoch 83/100\n",
      "750/750 [==============================] - 0s 43us/sample - loss: 0.1187 - accuracy: 1.0000\n",
      "Epoch 84/100\n",
      "750/750 [==============================] - 0s 43us/sample - loss: 0.1166 - accuracy: 1.0000\n",
      "Epoch 85/100\n",
      "750/750 [==============================] - 0s 49us/sample - loss: 0.1145 - accuracy: 1.0000\n",
      "Epoch 86/100\n",
      "750/750 [==============================] - 0s 47us/sample - loss: 0.1125 - accuracy: 1.0000\n",
      "Epoch 87/100\n",
      "750/750 [==============================] - 0s 45us/sample - loss: 0.1106 - accuracy: 1.0000\n",
      "Epoch 88/100\n",
      "750/750 [==============================] - 0s 44us/sample - loss: 0.1086 - accuracy: 1.0000\n",
      "Epoch 89/100\n",
      "750/750 [==============================] - 0s 46us/sample - loss: 0.1068 - accuracy: 1.0000\n",
      "Epoch 90/100\n",
      "750/750 [==============================] - 0s 47us/sample - loss: 0.1050 - accuracy: 1.0000\n",
      "Epoch 91/100\n",
      "750/750 [==============================] - 0s 52us/sample - loss: 0.1032 - accuracy: 1.0000\n",
      "Epoch 92/100\n",
      "750/750 [==============================] - 0s 41us/sample - loss: 0.1015 - accuracy: 1.0000\n",
      "Epoch 93/100\n",
      "750/750 [==============================] - 0s 49us/sample - loss: 0.0998 - accuracy: 1.0000\n",
      "Epoch 94/100\n",
      "750/750 [==============================] - 0s 66us/sample - loss: 0.0981 - accuracy: 1.0000\n",
      "Epoch 95/100\n",
      "750/750 [==============================] - 0s 52us/sample - loss: 0.0965 - accuracy: 1.0000\n",
      "Epoch 96/100\n",
      "750/750 [==============================] - 0s 43us/sample - loss: 0.0949 - accuracy: 1.0000\n",
      "Epoch 97/100\n",
      "750/750 [==============================] - 0s 48us/sample - loss: 0.0933 - accuracy: 1.0000\n",
      "Epoch 98/100\n",
      "750/750 [==============================] - 0s 45us/sample - loss: 0.0918 - accuracy: 1.0000\n",
      "Epoch 99/100\n",
      "750/750 [==============================] - 0s 60us/sample - loss: 0.0903 - accuracy: 1.0000\n",
      "Epoch 100/100\n",
      "750/750 [==============================] - 0s 56us/sample - loss: 0.0889 - accuracy: 1.0000\n"
     ]
    }
   ],
   "source": [
    "# Fitting the model with linear dummy data\n",
    "model = neuron.fit(X_train_scaled, y_train, epochs=100)"
   ]
  },
  {
   "cell_type": "markdown",
   "metadata": {},
   "source": [
    " ### Evaluate the Model\n",
    "\n",
    " #### Plotting the Loss Function and Accuracy"
   ]
  },
  {
   "cell_type": "code",
   "execution_count": 16,
   "metadata": {},
   "outputs": [
    {
     "data": {
      "text/plain": [
       "<matplotlib.axes._subplots.AxesSubplot at 0x1978746b0c8>"
      ]
     },
     "execution_count": 16,
     "metadata": {},
     "output_type": "execute_result"
    },
    {
     "data": {
      "image/png": "[encoded data removed]",
      "text/plain": [
       "<Figure size 432x288 with 1 Axes>"
      ]
     },
     "metadata": {
      "needs_background": "light"
     },
     "output_type": "display_data"
    }
   ],
   "source": [
    "# Create a DataFrame with the history dictionary\n",
    "df = pd.DataFrame(model.history, index=range(1, len(model.history[\"loss\"]) + 1))\n",
    "\n",
    "# Plot the loss\n",
    "df.plot(y=\"loss\")"
   ]
  },
  {
   "cell_type": "code",
   "execution_count": 17,
   "metadata": {},
   "outputs": [
    {
     "data": {
      "text/plain": [
       "<matplotlib.axes._subplots.AxesSubplot at 0x197874d37c8>"
      ]
     },
     "execution_count": 17,
     "metadata": {},
     "output_type": "execute_result"
    },
    {
     "data": {
      "image/png": "[encoded data removed]",
      "text/plain": [
       "<Figure size 432x288 with 1 Axes>"
      ]
     },
     "metadata": {
      "needs_background": "light"
     },
     "output_type": "display_data"
    }
   ],
   "source": [
    "# Plot the accuracy\n",
    "df.plot(y=\"accuracy\")"
   ]
  },
  {
   "cell_type": "markdown",
   "metadata": {},
   "source": [
    " #### Evaluating the Model Using Testing Data"
   ]
  },
  {
   "cell_type": "code",
   "execution_count": 18,
   "metadata": {},
   "outputs": [
    {
     "name": "stdout",
     "output_type": "stream",
     "text": [
      "250/1 - 0s - loss: 0.0766 - accuracy: 1.0000\n",
      "Loss: 0.08932421910762788, Accuracy: 1.0\n"
     ]
    }
   ],
   "source": [
    "# Evaluate the model fit with linear dummy data\n",
    "model_loss, model_accuracy = neuron.evaluate(X_test_scaled, y_test, verbose=2)\n",
    "print(f\"Loss: {model_loss}, Accuracy: {model_accuracy}\")"
   ]
  },
  {
   "cell_type": "markdown",
   "metadata": {},
   "source": [
    " ### Making Predictions with New Data"
   ]
  },
  {
   "cell_type": "code",
   "execution_count": 19,
   "metadata": {},
   "outputs": [],
   "source": [
    "# Create 10 new samples of dummy data\n",
    "new_X, new_y = make_blobs(n_samples=10, centers=2, n_features=2, random_state=78)"
   ]
  },
  {
   "cell_type": "code",
   "execution_count": 20,
   "metadata": {},
   "outputs": [
    {
     "data": {
      "text/html": [
       "<div>\n",
       "<style scoped>\n",
       "    .dataframe tbody tr th:only-of-type {\n",
       "        vertical-align: middle;\n",
       "    }\n",
       "\n",
       "    .dataframe tbody tr th {\n",
       "        vertical-align: top;\n",
       "    }\n",
       "\n",
       "    .dataframe thead th {\n",
       "        text-align: right;\n",
       "    }\n",
       "</style>\n",
       "<table border=\"1\" class=\"dataframe\">\n",
       "  <thead>\n",
       "    <tr style=\"text-align: right;\">\n",
       "      <th></th>\n",
       "      <th>predictions</th>\n",
       "      <th>actual</th>\n",
       "    </tr>\n",
       "  </thead>\n",
       "  <tbody>\n",
       "    <tr>\n",
       "      <th>0</th>\n",
       "      <td>0</td>\n",
       "      <td>0</td>\n",
       "    </tr>\n",
       "    <tr>\n",
       "      <th>1</th>\n",
       "      <td>1</td>\n",
       "      <td>1</td>\n",
       "    </tr>\n",
       "    <tr>\n",
       "      <th>2</th>\n",
       "      <td>0</td>\n",
       "      <td>0</td>\n",
       "    </tr>\n",
       "    <tr>\n",
       "      <th>3</th>\n",
       "      <td>1</td>\n",
       "      <td>1</td>\n",
       "    </tr>\n",
       "    <tr>\n",
       "      <th>4</th>\n",
       "      <td>0</td>\n",
       "      <td>0</td>\n",
       "    </tr>\n",
       "    <tr>\n",
       "      <th>5</th>\n",
       "      <td>0</td>\n",
       "      <td>0</td>\n",
       "    </tr>\n",
       "    <tr>\n",
       "      <th>6</th>\n",
       "      <td>1</td>\n",
       "      <td>1</td>\n",
       "    </tr>\n",
       "    <tr>\n",
       "      <th>7</th>\n",
       "      <td>1</td>\n",
       "      <td>1</td>\n",
       "    </tr>\n",
       "    <tr>\n",
       "      <th>8</th>\n",
       "      <td>1</td>\n",
       "      <td>1</td>\n",
       "    </tr>\n",
       "    <tr>\n",
       "      <th>9</th>\n",
       "      <td>0</td>\n",
       "      <td>0</td>\n",
       "    </tr>\n",
       "  </tbody>\n",
       "</table>\n",
       "</div>"
      ],
      "text/plain": [
       "   predictions  actual\n",
       "0            0       0\n",
       "1            1       1\n",
       "2            0       0\n",
       "3            1       1\n",
       "4            0       0\n",
       "5            0       0\n",
       "6            1       1\n",
       "7            1       1\n",
       "8            1       1\n",
       "9            0       0"
      ]
     },
     "execution_count": 20,
     "metadata": {},
     "output_type": "execute_result"
    }
   ],
   "source": [
    "# Making predictions\n",
    "predictions = neuron.predict_classes(new_X)\n",
    "results = pd.DataFrame({\"predictions\": predictions.ravel(), \"actual\": new_y})\n",
    "results.head(10)"
   ]
  },
  {
   "cell_type": "markdown",
   "metadata": {},
   "source": [
    "---"
   ]
  },
  {
   "cell_type": "markdown",
   "metadata": {},
   "source": [
    "# Using a Single Neuron for Non-Linear Data\n",
    "\n",
    "### Creating Demo Data:"
   ]
  },
  {
   "cell_type": "code",
   "execution_count": 21,
   "metadata": {},
   "outputs": [],
   "source": [
    "# Creating dummy non-linear data\n",
    "X_moons, y_moons = make_moons(n_samples=1000, noise=0.08, random_state=78)"
   ]
  },
  {
   "cell_type": "code",
   "execution_count": 22,
   "metadata": {},
   "outputs": [],
   "source": [
    "# Transforming y_moons to a vertical vector\n",
    "y_moons = y_moons.reshape(-1, 1)"
   ]
  },
  {
   "cell_type": "code",
   "execution_count": 23,
   "metadata": {},
   "outputs": [
    {
     "data": {
      "text/html": [
       "<div>\n",
       "<style scoped>\n",
       "    .dataframe tbody tr th:only-of-type {\n",
       "        vertical-align: middle;\n",
       "    }\n",
       "\n",
       "    .dataframe tbody tr th {\n",
       "        vertical-align: top;\n",
       "    }\n",
       "\n",
       "    .dataframe thead th {\n",
       "        text-align: right;\n",
       "    }\n",
       "</style>\n",
       "<table border=\"1\" class=\"dataframe\">\n",
       "  <thead>\n",
       "    <tr style=\"text-align: right;\">\n",
       "      <th></th>\n",
       "      <th>Feature 1</th>\n",
       "      <th>Feature 2</th>\n",
       "      <th>Target</th>\n",
       "    </tr>\n",
       "  </thead>\n",
       "  <tbody>\n",
       "    <tr>\n",
       "      <th>0</th>\n",
       "      <td>0.676217</td>\n",
       "      <td>0.815220</td>\n",
       "      <td>0</td>\n",
       "    </tr>\n",
       "    <tr>\n",
       "      <th>1</th>\n",
       "      <td>1.487143</td>\n",
       "      <td>-0.210519</td>\n",
       "      <td>1</td>\n",
       "    </tr>\n",
       "    <tr>\n",
       "      <th>2</th>\n",
       "      <td>-1.027709</td>\n",
       "      <td>0.354966</td>\n",
       "      <td>0</td>\n",
       "    </tr>\n",
       "    <tr>\n",
       "      <th>3</th>\n",
       "      <td>0.236012</td>\n",
       "      <td>1.025531</td>\n",
       "      <td>0</td>\n",
       "    </tr>\n",
       "    <tr>\n",
       "      <th>4</th>\n",
       "      <td>1.856695</td>\n",
       "      <td>-0.042783</td>\n",
       "      <td>1</td>\n",
       "    </tr>\n",
       "  </tbody>\n",
       "</table>\n",
       "</div>"
      ],
      "text/plain": [
       "   Feature 1  Feature 2  Target\n",
       "0   0.676217   0.815220       0\n",
       "1   1.487143  -0.210519       1\n",
       "2  -1.027709   0.354966       0\n",
       "3   0.236012   1.025531       0\n",
       "4   1.856695  -0.042783       1"
      ]
     },
     "execution_count": 23,
     "metadata": {},
     "output_type": "execute_result"
    }
   ],
   "source": [
    "# Creating a DataFrame to plot the non-linear dummy data\n",
    "df_moons = pd.DataFrame(X_moons, columns=[\"Feature 1\", \"Feature 2\"])\n",
    "df_moons[\"Target\"] = y_moons\n",
    "df_moons.head()"
   ]
  },
  {
   "cell_type": "code",
   "execution_count": 24,
   "metadata": {},
   "outputs": [
    {
     "data": {
      "text/plain": [
       "<matplotlib.axes._subplots.AxesSubplot at 0x19787771e88>"
      ]
     },
     "execution_count": 24,
     "metadata": {},
     "output_type": "execute_result"
    },
    {
     "data": {
      "image/png": "[encoded data removed]",
      "text/plain": [
       "<Figure size 432x288 with 2 Axes>"
      ]
     },
     "metadata": {
      "needs_background": "light"
     },
     "output_type": "display_data"
    }
   ],
   "source": [
    "# Plotting the non-linear dummy data\n",
    "df_moons.plot.scatter(x=\"Feature 1\", y=\"Feature 2\", c=\"Target\", colormap=\"winter\")"
   ]
  },
  {
   "cell_type": "markdown",
   "metadata": {},
   "source": [
    "### Data Preprocessing\n",
    "\n",
    "Use `train_test_split` to create training and testing data."
   ]
  },
  {
   "cell_type": "code",
   "execution_count": 25,
   "metadata": {},
   "outputs": [],
   "source": [
    "# Create training and testing sets\n",
    "X_moon_train, X_moon_test, y_moon_train, y_moon_test = train_test_split(\n",
    "    X_moons, y_moons, random_state=78\n",
    ")"
   ]
  },
  {
   "cell_type": "markdown",
   "metadata": {},
   "source": [
    " Scale the data"
   ]
  },
  {
   "cell_type": "code",
   "execution_count": 26,
   "metadata": {},
   "outputs": [],
   "source": [
    "# Create the scaler instance\n",
    "X_moon_scaler = StandardScaler()"
   ]
  },
  {
   "cell_type": "code",
   "execution_count": 27,
   "metadata": {},
   "outputs": [
    {
     "data": {
      "text/plain": [
       "StandardScaler(copy=True, with_mean=True, with_std=True)"
      ]
     },
     "execution_count": 27,
     "metadata": {},
     "output_type": "execute_result"
    }
   ],
   "source": [
    "# Fit the scaler\n",
    "X_moon_scaler.fit(X_moon_train)"
   ]
  },
  {
   "cell_type": "code",
   "execution_count": 28,
   "metadata": {},
   "outputs": [],
   "source": [
    "# Scale the data\n",
    "X_moon_train_scaled = X_moon_scaler.transform(X_moon_train)\n",
    "X_moon_test_scaled = X_moon_scaler.transform(X_moon_test)"
   ]
  },
  {
   "cell_type": "markdown",
   "metadata": {},
   "source": [
    " ### Fit the Model"
   ]
  },
  {
   "cell_type": "code",
   "execution_count": 29,
   "metadata": {},
   "outputs": [
    {
     "name": "stdout",
     "output_type": "stream",
     "text": [
      "Train on 750 samples\n",
      "Epoch 1/100\n",
      "750/750 [==============================] - 0s 284us/sample - loss: 1.2177 - accuracy: 0.4067\n",
      "Epoch 2/100\n",
      "750/750 [==============================] - 0s 56us/sample - loss: 1.1041 - accuracy: 0.4253\n",
      "Epoch 3/100\n",
      "750/750 [==============================] - 0s 48us/sample - loss: 1.0262 - accuracy: 0.4360\n",
      "Epoch 4/100\n",
      "750/750 [==============================] - 0s 49us/sample - loss: 0.9704 - accuracy: 0.4467\n",
      "Epoch 5/100\n",
      "750/750 [==============================] - 0s 51us/sample - loss: 0.9288 - accuracy: 0.4627\n",
      "Epoch 6/100\n",
      "750/750 [==============================] - 0s 58us/sample - loss: 0.8962 - accuracy: 0.4693\n",
      "Epoch 7/100\n",
      "750/750 [==============================] - 0s 52us/sample - loss: 0.8694 - accuracy: 0.4720\n",
      "Epoch 8/100\n",
      "750/750 [==============================] - 0s 45us/sample - loss: 0.8468 - accuracy: 0.4813\n",
      "Epoch 9/100\n",
      "750/750 [==============================] - 0s 56us/sample - loss: 0.8271 - accuracy: 0.4840\n",
      "Epoch 10/100\n",
      "750/750 [==============================] - 0s 52us/sample - loss: 0.8098 - accuracy: 0.4907\n",
      "Epoch 11/100\n",
      "750/750 [==============================] - 0s 52us/sample - loss: 0.7939 - accuracy: 0.4947\n",
      "Epoch 12/100\n",
      "750/750 [==============================] - 0s 54us/sample - loss: 0.7797 - accuracy: 0.5027\n",
      "Epoch 13/100\n",
      "750/750 [==============================] - 0s 66us/sample - loss: 0.7668 - accuracy: 0.5067\n",
      "Epoch 14/100\n",
      "750/750 [==============================] - 0s 72us/sample - loss: 0.7547 - accuracy: 0.5147\n",
      "Epoch 15/100\n",
      "750/750 [==============================] - 0s 72us/sample - loss: 0.7438 - accuracy: 0.5187\n",
      "Epoch 16/100\n",
      "750/750 [==============================] - 0s 72us/sample - loss: 0.7339 - accuracy: 0.5240\n",
      "Epoch 17/100\n",
      "750/750 [==============================] - 0s 61us/sample - loss: 0.7244 - accuracy: 0.5320\n",
      "Epoch 18/100\n",
      "750/750 [==============================] - 0s 64us/sample - loss: 0.7153 - accuracy: 0.5400\n",
      "Epoch 19/100\n",
      "750/750 [==============================] - 0s 70us/sample - loss: 0.7067 - accuracy: 0.5493\n",
      "Epoch 20/100\n",
      "750/750 [==============================] - 0s 47us/sample - loss: 0.6988 - accuracy: 0.5560\n",
      "Epoch 21/100\n",
      "750/750 [==============================] - 0s 52us/sample - loss: 0.6912 - accuracy: 0.5613\n",
      "Epoch 22/100\n",
      "750/750 [==============================] - 0s 56us/sample - loss: 0.6839 - accuracy: 0.5653\n",
      "Epoch 23/100\n",
      "750/750 [==============================] - 0s 50us/sample - loss: 0.6772 - accuracy: 0.5707\n",
      "Epoch 24/100\n",
      "750/750 [==============================] - 0s 44us/sample - loss: 0.6705 - accuracy: 0.5773\n",
      "Epoch 25/100\n",
      "750/750 [==============================] - 0s 47us/sample - loss: 0.6645 - accuracy: 0.5787\n",
      "Epoch 26/100\n",
      "750/750 [==============================] - 0s 49us/sample - loss: 0.6586 - accuracy: 0.5800\n",
      "Epoch 27/100\n",
      "750/750 [==============================] - 0s 56us/sample - loss: 0.6530 - accuracy: 0.5853\n",
      "Epoch 28/100\n",
      "750/750 [==============================] - 0s 44us/sample - loss: 0.6477 - accuracy: 0.5867\n",
      "Epoch 29/100\n",
      "750/750 [==============================] - 0s 52us/sample - loss: 0.6425 - accuracy: 0.5947\n",
      "Epoch 30/100\n",
      "750/750 [==============================] - 0s 56us/sample - loss: 0.6375 - accuracy: 0.5960\n",
      "Epoch 31/100\n",
      "750/750 [==============================] - 0s 49us/sample - loss: 0.6327 - accuracy: 0.6000\n",
      "Epoch 32/100\n",
      "750/750 [==============================] - 0s 50us/sample - loss: 0.6280 - accuracy: 0.6000\n",
      "Epoch 33/100\n",
      "750/750 [==============================] - 0s 53us/sample - loss: 0.6236 - accuracy: 0.6013\n",
      "Epoch 34/100\n",
      "750/750 [==============================] - 0s 48us/sample - loss: 0.6195 - accuracy: 0.6053\n",
      "Epoch 35/100\n",
      "750/750 [==============================] - 0s 60us/sample - loss: 0.6152 - accuracy: 0.6080\n",
      "Epoch 36/100\n",
      "750/750 [==============================] - 0s 45us/sample - loss: 0.6112 - accuracy: 0.6093\n",
      "Epoch 37/100\n",
      "750/750 [==============================] - 0s 48us/sample - loss: 0.6073 - accuracy: 0.6133\n",
      "Epoch 38/100\n",
      "750/750 [==============================] - 0s 62us/sample - loss: 0.6035 - accuracy: 0.6160\n",
      "Epoch 39/100\n",
      "750/750 [==============================] - 0s 54us/sample - loss: 0.5999 - accuracy: 0.6240\n",
      "Epoch 40/100\n",
      "750/750 [==============================] - 0s 72us/sample - loss: 0.5965 - accuracy: 0.6293\n",
      "Epoch 41/100\n",
      "750/750 [==============================] - 0s 59us/sample - loss: 0.5929 - accuracy: 0.6333\n",
      "Epoch 42/100\n",
      "750/750 [==============================] - 0s 62us/sample - loss: 0.5896 - accuracy: 0.6333\n",
      "Epoch 43/100\n",
      "750/750 [==============================] - 0s 62us/sample - loss: 0.5866 - accuracy: 0.6360\n",
      "Epoch 44/100\n",
      "750/750 [==============================] - 0s 60us/sample - loss: 0.5834 - accuracy: 0.6427\n",
      "Epoch 45/100\n",
      "750/750 [==============================] - 0s 65us/sample - loss: 0.5803 - accuracy: 0.6453\n",
      "Epoch 46/100\n",
      "750/750 [==============================] - 0s 52us/sample - loss: 0.5774 - accuracy: 0.6467\n",
      "Epoch 47/100\n",
      "750/750 [==============================] - 0s 44us/sample - loss: 0.5744 - accuracy: 0.6507\n",
      "Epoch 48/100\n",
      "750/750 [==============================] - 0s 47us/sample - loss: 0.5716 - accuracy: 0.6533\n",
      "Epoch 49/100\n",
      "750/750 [==============================] - 0s 45us/sample - loss: 0.5688 - accuracy: 0.6547\n",
      "Epoch 50/100\n",
      "750/750 [==============================] - 0s 43us/sample - loss: 0.5660 - accuracy: 0.6573\n",
      "Epoch 51/100\n",
      "750/750 [==============================] - 0s 44us/sample - loss: 0.5633 - accuracy: 0.6613\n",
      "Epoch 52/100\n",
      "750/750 [==============================] - 0s 43us/sample - loss: 0.5606 - accuracy: 0.6613\n",
      "Epoch 53/100\n",
      "750/750 [==============================] - 0s 45us/sample - loss: 0.5580 - accuracy: 0.6653\n",
      "Epoch 54/100\n",
      "750/750 [==============================] - 0s 41us/sample - loss: 0.5554 - accuracy: 0.6667\n",
      "Epoch 55/100\n",
      "750/750 [==============================] - 0s 45us/sample - loss: 0.5528 - accuracy: 0.6707\n",
      "Epoch 56/100\n",
      "750/750 [==============================] - 0s 47us/sample - loss: 0.5502 - accuracy: 0.6733\n",
      "Epoch 57/100\n",
      "750/750 [==============================] - 0s 54us/sample - loss: 0.5478 - accuracy: 0.6760\n",
      "Epoch 58/100\n",
      "750/750 [==============================] - 0s 51us/sample - loss: 0.5453 - accuracy: 0.6773\n",
      "Epoch 59/100\n",
      "750/750 [==============================] - 0s 44us/sample - loss: 0.5430 - accuracy: 0.6800\n",
      "Epoch 60/100\n",
      "750/750 [==============================] - 0s 48us/sample - loss: 0.5406 - accuracy: 0.6813\n",
      "Epoch 61/100\n",
      "750/750 [==============================] - 0s 44us/sample - loss: 0.5382 - accuracy: 0.6853\n",
      "Epoch 62/100\n",
      "750/750 [==============================] - 0s 54us/sample - loss: 0.5359 - accuracy: 0.6947\n",
      "Epoch 63/100\n",
      "750/750 [==============================] - 0s 47us/sample - loss: 0.5335 - accuracy: 0.6947\n",
      "Epoch 64/100\n",
      "750/750 [==============================] - 0s 66us/sample - loss: 0.5312 - accuracy: 0.6947\n",
      "Epoch 65/100\n",
      "750/750 [==============================] - 0s 60us/sample - loss: 0.5287 - accuracy: 0.6960\n",
      "Epoch 66/100\n",
      "750/750 [==============================] - 0s 62us/sample - loss: 0.5263 - accuracy: 0.6987\n",
      "Epoch 67/100\n",
      "750/750 [==============================] - 0s 56us/sample - loss: 0.5239 - accuracy: 0.7013\n",
      "Epoch 68/100\n",
      "750/750 [==============================] - 0s 53us/sample - loss: 0.5215 - accuracy: 0.7053\n",
      "Epoch 69/100\n",
      "750/750 [==============================] - 0s 54us/sample - loss: 0.5190 - accuracy: 0.7093\n",
      "Epoch 70/100\n",
      "750/750 [==============================] - 0s 48us/sample - loss: 0.5166 - accuracy: 0.7093\n",
      "Epoch 71/100\n",
      "750/750 [==============================] - 0s 45us/sample - loss: 0.5142 - accuracy: 0.7120\n",
      "Epoch 72/100\n",
      "750/750 [==============================] - 0s 76us/sample - loss: 0.5117 - accuracy: 0.7147\n",
      "Epoch 73/100\n",
      "750/750 [==============================] - 0s 60us/sample - loss: 0.5094 - accuracy: 0.7160\n",
      "Epoch 74/100\n",
      "750/750 [==============================] - 0s 57us/sample - loss: 0.5068 - accuracy: 0.7160\n",
      "Epoch 75/100\n",
      "750/750 [==============================] - 0s 53us/sample - loss: 0.5043 - accuracy: 0.7160\n",
      "Epoch 76/100\n",
      "750/750 [==============================] - 0s 41us/sample - loss: 0.5018 - accuracy: 0.7173\n",
      "Epoch 77/100\n",
      "750/750 [==============================] - 0s 52us/sample - loss: 0.4993 - accuracy: 0.7200\n",
      "Epoch 78/100\n",
      "750/750 [==============================] - 0s 45us/sample - loss: 0.4967 - accuracy: 0.7227\n",
      "Epoch 79/100\n",
      "750/750 [==============================] - 0s 48us/sample - loss: 0.4942 - accuracy: 0.7240\n",
      "Epoch 80/100\n",
      "750/750 [==============================] - 0s 62us/sample - loss: 0.4915 - accuracy: 0.7253\n",
      "Epoch 81/100\n",
      "750/750 [==============================] - 0s 60us/sample - loss: 0.4890 - accuracy: 0.7280\n",
      "Epoch 82/100\n",
      "750/750 [==============================] - 0s 64us/sample - loss: 0.4865 - accuracy: 0.7320\n",
      "Epoch 83/100\n",
      "750/750 [==============================] - 0s 51us/sample - loss: 0.4836 - accuracy: 0.7320\n",
      "Epoch 84/100\n",
      "750/750 [==============================] - 0s 47us/sample - loss: 0.4809 - accuracy: 0.7360\n",
      "Epoch 85/100\n",
      "750/750 [==============================] - 0s 56us/sample - loss: 0.4782 - accuracy: 0.7387\n",
      "Epoch 86/100\n",
      "750/750 [==============================] - 0s 56us/sample - loss: 0.4754 - accuracy: 0.7400\n",
      "Epoch 87/100\n",
      "750/750 [==============================] - 0s 53us/sample - loss: 0.4726 - accuracy: 0.7413\n",
      "Epoch 88/100\n",
      "750/750 [==============================] - 0s 47us/sample - loss: 0.4698 - accuracy: 0.7467\n",
      "Epoch 89/100\n",
      "750/750 [==============================] - 0s 44us/sample - loss: 0.4670 - accuracy: 0.7480\n",
      "Epoch 90/100\n",
      "750/750 [==============================] - 0s 48us/sample - loss: 0.4642 - accuracy: 0.7520\n",
      "Epoch 91/100\n",
      "750/750 [==============================] - 0s 42us/sample - loss: 0.4613 - accuracy: 0.7547\n",
      "Epoch 92/100\n",
      "750/750 [==============================] - 0s 50us/sample - loss: 0.4584 - accuracy: 0.7560\n",
      "Epoch 93/100\n",
      "750/750 [==============================] - 0s 50us/sample - loss: 0.4553 - accuracy: 0.7560\n",
      "Epoch 94/100\n",
      "750/750 [==============================] - 0s 60us/sample - loss: 0.4524 - accuracy: 0.7573\n",
      "Epoch 95/100\n",
      "750/750 [==============================] - 0s 53us/sample - loss: 0.4493 - accuracy: 0.7627\n",
      "Epoch 96/100\n",
      "750/750 [==============================] - 0s 59us/sample - loss: 0.4462 - accuracy: 0.7667\n",
      "Epoch 97/100\n",
      "750/750 [==============================] - 0s 45us/sample - loss: 0.4430 - accuracy: 0.7680\n",
      "Epoch 98/100\n",
      "750/750 [==============================] - 0s 61us/sample - loss: 0.4399 - accuracy: 0.7747\n",
      "Epoch 99/100\n",
      "750/750 [==============================] - 0s 62us/sample - loss: 0.4367 - accuracy: 0.7773\n",
      "Epoch 100/100\n",
      "750/750 [==============================] - 0s 45us/sample - loss: 0.4336 - accuracy: 0.7773\n"
     ]
    }
   ],
   "source": [
    "# Training the model with the non-linear data\n",
    "model_moon = neuron.fit(X_moon_train_scaled, y_moon_train, epochs=100)"
   ]
  },
  {
   "cell_type": "markdown",
   "metadata": {},
   "source": [
    " ### Evaluate the Model\n",
    "\n",
    " #### Plotting the Loss Function and Accuracy"
   ]
  },
  {
   "cell_type": "code",
   "execution_count": 30,
   "metadata": {},
   "outputs": [
    {
     "data": {
      "text/plain": [
       "<matplotlib.axes._subplots.AxesSubplot at 0x19787af7f08>"
      ]
     },
     "execution_count": 30,
     "metadata": {},
     "output_type": "execute_result"
    },
    {
     "data": {
      "image/png": "[encoded data removed]",
      "text/plain": [
       "<Figure size 432x288 with 1 Axes>"
      ]
     },
     "metadata": {
      "needs_background": "light"
     },
     "output_type": "display_data"
    }
   ],
   "source": [
    "# Create a DataFrame with the history dictionary\n",
    "df_moon = pd.DataFrame(\n",
    "    model_moon.history, index=range(1, len(model_moon.history[\"loss\"]) + 1)\n",
    ")\n",
    "\n",
    "# Plot the loss\n",
    "df_moon.plot(y=\"loss\")"
   ]
  },
  {
   "cell_type": "code",
   "execution_count": 31,
   "metadata": {},
   "outputs": [
    {
     "data": {
      "text/plain": [
       "<matplotlib.axes._subplots.AxesSubplot at 0x19787b55348>"
      ]
     },
     "execution_count": 31,
     "metadata": {},
     "output_type": "execute_result"
    },
    {
     "data": {
      "image/png": "[encoded data removed]",
      "text/plain": [
       "<Figure size 432x288 with 1 Axes>"
      ]
     },
     "metadata": {
      "needs_background": "light"
     },
     "output_type": "display_data"
    }
   ],
   "source": [
    "# Plot the accuracy\n",
    "df_moon.plot(y=\"accuracy\")"
   ]
  },
  {
   "cell_type": "markdown",
   "metadata": {},
   "source": [
    " #### Evaluating the Model Using Testing Data"
   ]
  },
  {
   "cell_type": "code",
   "execution_count": 32,
   "metadata": {},
   "outputs": [
    {
     "name": "stdout",
     "output_type": "stream",
     "text": [
      "250/1 - 0s - loss: 0.4874 - accuracy: 0.7760\n",
      "Loss: 0.4632601270675659, Accuracy: 0.7760000228881836\n"
     ]
    }
   ],
   "source": [
    "# Evaluate the model using non-linear data\n",
    "model_moon_loss, model_moon_accuracy = neuron.evaluate(\n",
    "    X_moon_test_scaled, y_moon_test, verbose=2\n",
    ")\n",
    "print(f\"Loss: {model_moon_loss}, Accuracy: {model_moon_accuracy}\")"
   ]
  },
  {
   "cell_type": "markdown",
   "metadata": {},
   "source": [
    " ### Making Predictions"
   ]
  },
  {
   "cell_type": "code",
   "execution_count": 33,
   "metadata": {},
   "outputs": [],
   "source": [
    "# Create demo data\n",
    "X_new_moons, y_new_moons = make_moons(n_samples=10, noise=0.08, random_state=78)"
   ]
  },
  {
   "cell_type": "code",
   "execution_count": 34,
   "metadata": {},
   "outputs": [
    {
     "data": {
      "text/html": [
       "<div>\n",
       "<style scoped>\n",
       "    .dataframe tbody tr th:only-of-type {\n",
       "        vertical-align: middle;\n",
       "    }\n",
       "\n",
       "    .dataframe tbody tr th {\n",
       "        vertical-align: top;\n",
       "    }\n",
       "\n",
       "    .dataframe thead th {\n",
       "        text-align: right;\n",
       "    }\n",
       "</style>\n",
       "<table border=\"1\" class=\"dataframe\">\n",
       "  <thead>\n",
       "    <tr style=\"text-align: right;\">\n",
       "      <th></th>\n",
       "      <th>predictions</th>\n",
       "      <th>actual</th>\n",
       "    </tr>\n",
       "  </thead>\n",
       "  <tbody>\n",
       "    <tr>\n",
       "      <th>0</th>\n",
       "      <td>0</td>\n",
       "      <td>0</td>\n",
       "    </tr>\n",
       "    <tr>\n",
       "      <th>1</th>\n",
       "      <td>0</td>\n",
       "      <td>0</td>\n",
       "    </tr>\n",
       "    <tr>\n",
       "      <th>2</th>\n",
       "      <td>0</td>\n",
       "      <td>0</td>\n",
       "    </tr>\n",
       "    <tr>\n",
       "      <th>3</th>\n",
       "      <td>1</td>\n",
       "      <td>1</td>\n",
       "    </tr>\n",
       "    <tr>\n",
       "      <th>4</th>\n",
       "      <td>1</td>\n",
       "      <td>1</td>\n",
       "    </tr>\n",
       "    <tr>\n",
       "      <th>5</th>\n",
       "      <td>1</td>\n",
       "      <td>0</td>\n",
       "    </tr>\n",
       "    <tr>\n",
       "      <th>6</th>\n",
       "      <td>1</td>\n",
       "      <td>0</td>\n",
       "    </tr>\n",
       "    <tr>\n",
       "      <th>7</th>\n",
       "      <td>1</td>\n",
       "      <td>1</td>\n",
       "    </tr>\n",
       "    <tr>\n",
       "      <th>8</th>\n",
       "      <td>1</td>\n",
       "      <td>1</td>\n",
       "    </tr>\n",
       "    <tr>\n",
       "      <th>9</th>\n",
       "      <td>0</td>\n",
       "      <td>1</td>\n",
       "    </tr>\n",
       "  </tbody>\n",
       "</table>\n",
       "</div>"
      ],
      "text/plain": [
       "   predictions  actual\n",
       "0            0       0\n",
       "1            0       0\n",
       "2            0       0\n",
       "3            1       1\n",
       "4            1       1\n",
       "5            1       0\n",
       "6            1       0\n",
       "7            1       1\n",
       "8            1       1\n",
       "9            0       1"
      ]
     },
     "execution_count": 34,
     "metadata": {},
     "output_type": "execute_result"
    }
   ],
   "source": [
    "# Making predictions\n",
    "predictions_moon = neuron.predict_classes(X_new_moons)\n",
    "results = pd.DataFrame({\"predictions\": predictions_moon.ravel(), \"actual\": y_new_moons})\n",
    "results.head(10)"
   ]
  },
  {
   "cell_type": "code",
   "execution_count": null,
   "metadata": {},
   "outputs": [],
   "source": []
  },
  {
   "cell_type": "code",
   "execution_count": null,
   "metadata": {},
   "outputs": [],
   "source": []
  }
 ],
 "metadata": {
  "file_extension": ".py",
  "kernelspec": {
   "display_name": "Python PyViz",
   "language": "python",
   "name": "pyviz"
  },
  "language_info": {
   "codemirror_mode": {
    "name": "ipython",
    "version": 3
   },
   "file_extension": ".py",
   "mimetype": "text/x-python",
   "name": "python",
   "nbconvert_exporter": "python",
   "pygments_lexer": "ipython3",
   "version": "3.7.7"
  },
  "mimetype": "text/x-python",
  "name": "python",
  "npconvert_exporter": "python",
  "pygments_lexer": "ipython3",
  "version": 3
 },
 "nbformat": 4,
 "nbformat_minor": 4
}
