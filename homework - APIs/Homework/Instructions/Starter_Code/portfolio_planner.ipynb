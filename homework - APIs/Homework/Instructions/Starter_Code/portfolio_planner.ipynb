{
 "cells": [
  {
   "cell_type": "code",
   "execution_count": 5,
   "metadata": {},
   "outputs": [],
   "source": [
    "import numpy as np\n",
    "import pandas as pd\n",
    "import os\n",
    "from datetime import datetime, timedelta\n",
    "import matplotlib.pyplot as plt\n",
    "%matplotlib inline"
   ]
  },
  {
   "cell_type": "code",
   "execution_count": 6,
   "metadata": {},
   "outputs": [],
   "source": [
    "np.random.seed(42)"
   ]
  },
  {
   "cell_type": "markdown",
   "metadata": {},
   "source": [
    "# Portfolio Planner\n",
    "\n",
    "In this activity, you will use the iexfinance api to grab historical data for a 60/40 portfolio using `SPY` to represent the stock portion and `AGG` to represent the bonds."
   ]
  },
  {
   "cell_type": "code",
   "execution_count": 7,
   "metadata": {},
   "outputs": [],
   "source": [
    "import alpaca_trade_api as tradeapi\n",
    "\n",
    "# Set Alpaca API key and secret\n",
    "alpaca_api_key = os.getenv(\"ALPACA_API_KEY\")\n",
    "alpaca_secret_key = os.getenv(\"ALPACA_SECRET_KEY\")\n",
    "\n",
    "# Initialize the API\n",
    "api = tradeapi.REST(alpaca_api_key, alpaca_secret_key, api_version='v2')"
   ]
  },
  {
   "cell_type": "markdown",
   "metadata": {},
   "source": [
    "# Data Collection\n",
    "\n",
    "In this step, you will need to use the IEX api to fetch closing prices for the `SPY` and `AGG` tickers. Save the results as a pandas DataFrame"
   ]
  },
  {
   "cell_type": "code",
   "execution_count": 8,
   "metadata": {},
   "outputs": [
    {
     "data": {
      "text/html": [
       "<div>\n",
       "<style scoped>\n",
       "    .dataframe tbody tr th:only-of-type {\n",
       "        vertical-align: middle;\n",
       "    }\n",
       "\n",
       "    .dataframe tbody tr th {\n",
       "        vertical-align: top;\n",
       "    }\n",
       "\n",
       "    .dataframe thead th {\n",
       "        text-align: right;\n",
       "    }\n",
       "</style>\n",
       "<table border=\"1\" class=\"dataframe\">\n",
       "  <thead>\n",
       "    <tr style=\"text-align: right;\">\n",
       "      <th></th>\n",
       "      <th>AGG</th>\n",
       "      <th>SPY</th>\n",
       "    </tr>\n",
       "  </thead>\n",
       "  <tbody>\n",
       "    <tr>\n",
       "      <th>2019-11-22</th>\n",
       "      <td>112.850</td>\n",
       "      <td>311.00</td>\n",
       "    </tr>\n",
       "    <tr>\n",
       "      <th>2019-11-25</th>\n",
       "      <td>112.980</td>\n",
       "      <td>313.35</td>\n",
       "    </tr>\n",
       "    <tr>\n",
       "      <th>2019-11-26</th>\n",
       "      <td>113.120</td>\n",
       "      <td>314.02</td>\n",
       "    </tr>\n",
       "    <tr>\n",
       "      <th>2019-11-27</th>\n",
       "      <td>112.995</td>\n",
       "      <td>315.46</td>\n",
       "    </tr>\n",
       "    <tr>\n",
       "      <th>2019-11-29</th>\n",
       "      <td>112.925</td>\n",
       "      <td>314.27</td>\n",
       "    </tr>\n",
       "  </tbody>\n",
       "</table>\n",
       "</div>"
      ],
      "text/plain": [
       "                AGG     SPY\n",
       "2019-11-22  112.850  311.00\n",
       "2019-11-25  112.980  313.35\n",
       "2019-11-26  113.120  314.02\n",
       "2019-11-27  112.995  315.46\n",
       "2019-11-29  112.925  314.27"
      ]
     },
     "execution_count": 8,
     "metadata": {},
     "output_type": "execute_result"
    }
   ],
   "source": [
    "tickers = [\"AGG\", \"SPY\"]\n",
    "\n",
    "timeframe = '1D'\n",
    "end_date = datetime.now()\n",
    "start_date = end_date + timedelta(-365)\n",
    "\n",
    "# Get 1 year's worth of historical data for AAPL\n",
    "df = api.get_barset(\n",
    "    tickers,\n",
    "    timeframe,\n",
    "    limit=None,\n",
    "    start=start_date,\n",
    "    end=end_date,\n",
    "    after=None,\n",
    "    until=None,\n",
    ").df\n",
    "df = df.droplevel(axis=1, level=0)\n",
    "df.drop(columns=['open', 'high', 'low', 'volume'], inplace=True)\n",
    "df.index = df.index.date\n",
    "#cross-referenced close dates to last year and subbed in correct tickers as column names\n",
    "columns=[\"AGG\", \"SPY\"]\n",
    "df.columns = columns\n",
    "df.head()"
   ]
  },
  {
   "cell_type": "markdown",
   "metadata": {},
   "source": [
    "# Monte Carlo Simulation\n",
    "\n",
    "In this step, you will run Monte Carlo Simulations for your portfolio to model portfolio performance at different retirement ages. \n",
    "\n",
    "Complete the following steps:\n",
    "1. Calculate the daily returns for the SPY and AGG closing prices.\n",
    "2. Calculate volatility for both the SPY and AGG closing prices.\n",
    "3. Find the last day's closing price for both stocks and save those as variables.\n",
    "4. Run a Monte Carlo Simulation of at least 500 iterations and generate at least 30 years of closing prices\n",
    "\n",
    "### HINTS:\n",
    "There are 252 trading days per year, so the number of records to generate for each Monte Carlo run will be 252 days * 30 years"
   ]
  },
  {
   "cell_type": "code",
   "execution_count": 9,
   "metadata": {},
   "outputs": [],
   "source": [
    "# Calculate the daily roi for the stocks\n",
    "daily_returns = df.pct_change()\n",
    "daily_returns_AGG = daily_returns['AGG']\n",
    "daily_returns_SPY = daily_returns['SPY']\n",
    "avg_return_AGG = daily_returns_AGG.mean()\n",
    "avg_return_SPY = daily_returns_SPY.mean()"
   ]
  },
  {
   "cell_type": "code",
   "execution_count": 10,
   "metadata": {},
   "outputs": [],
   "source": [
    "# Calculate volatility\n",
    "std_dev = daily_returns.std()\n",
    "std_dev_AGG = std_dev['AGG']\n",
    "std_dev_SPY = std_dev['SPY']"
   ]
  },
  {
   "cell_type": "code",
   "execution_count": 11,
   "metadata": {},
   "outputs": [
    {
     "name": "stdout",
     "output_type": "stream",
     "text": [
      "117.4685 283.43\n"
     ]
    }
   ],
   "source": [
    "# Save the last day's closing price\n",
    "last_close_AGG = df['AGG'][-1]\n",
    "last_close_SPY = df['SPY'][-1]\n",
    "print(last_close_AGG, last_close_SPY)"
   ]
  },
  {
   "cell_type": "code",
   "execution_count": 12,
   "metadata": {},
   "outputs": [],
   "source": [
    "# Setup the Monte Carlo Parameters\n",
    "number_simulations = 500\n",
    "number_records = 252 * 30\n",
    "monte_carlo_price_df = pd.DataFrame()\n",
    "monte_carlo_cum_returns_df = pd.DataFrame()\n"
   ]
  },
  {
   "cell_type": "code",
   "execution_count": 13,
   "metadata": {},
   "outputs": [
    {
     "data": {
      "text/html": [
       "<div>\n",
       "<style scoped>\n",
       "    .dataframe tbody tr th:only-of-type {\n",
       "        vertical-align: middle;\n",
       "    }\n",
       "\n",
       "    .dataframe tbody tr th {\n",
       "        vertical-align: top;\n",
       "    }\n",
       "\n",
       "    .dataframe thead th {\n",
       "        text-align: right;\n",
       "    }\n",
       "</style>\n",
       "<table border=\"1\" class=\"dataframe\">\n",
       "  <thead>\n",
       "    <tr style=\"text-align: right;\">\n",
       "      <th></th>\n",
       "      <th>0</th>\n",
       "      <th>1</th>\n",
       "      <th>2</th>\n",
       "      <th>3</th>\n",
       "      <th>4</th>\n",
       "      <th>5</th>\n",
       "      <th>6</th>\n",
       "      <th>7</th>\n",
       "      <th>8</th>\n",
       "      <th>9</th>\n",
       "      <th>...</th>\n",
       "      <th>490</th>\n",
       "      <th>491</th>\n",
       "      <th>492</th>\n",
       "      <th>493</th>\n",
       "      <th>494</th>\n",
       "      <th>495</th>\n",
       "      <th>496</th>\n",
       "      <th>497</th>\n",
       "      <th>498</th>\n",
       "      <th>499</th>\n",
       "    </tr>\n",
       "  </thead>\n",
       "  <tbody>\n",
       "    <tr>\n",
       "      <th>0</th>\n",
       "      <td>1.000000</td>\n",
       "      <td>1.000000</td>\n",
       "      <td>1.000000</td>\n",
       "      <td>1.000000</td>\n",
       "      <td>1.000000</td>\n",
       "      <td>1.000000</td>\n",
       "      <td>1.000000</td>\n",
       "      <td>1.000000</td>\n",
       "      <td>1.000000</td>\n",
       "      <td>1.000000</td>\n",
       "      <td>...</td>\n",
       "      <td>1.000000</td>\n",
       "      <td>1.000000</td>\n",
       "      <td>1.000000</td>\n",
       "      <td>1.000000</td>\n",
       "      <td>1.000000</td>\n",
       "      <td>1.000000</td>\n",
       "      <td>1.000000</td>\n",
       "      <td>1.000000</td>\n",
       "      <td>1.000000</td>\n",
       "      <td>1.000000</td>\n",
       "    </tr>\n",
       "    <tr>\n",
       "      <th>1</th>\n",
       "      <td>0.999068</td>\n",
       "      <td>0.999048</td>\n",
       "      <td>0.992289</td>\n",
       "      <td>1.017938</td>\n",
       "      <td>1.042860</td>\n",
       "      <td>0.975969</td>\n",
       "      <td>0.986859</td>\n",
       "      <td>1.048238</td>\n",
       "      <td>1.000549</td>\n",
       "      <td>0.979256</td>\n",
       "      <td>...</td>\n",
       "      <td>1.005183</td>\n",
       "      <td>0.968840</td>\n",
       "      <td>1.004342</td>\n",
       "      <td>1.007438</td>\n",
       "      <td>0.983433</td>\n",
       "      <td>1.009437</td>\n",
       "      <td>1.003316</td>\n",
       "      <td>1.023153</td>\n",
       "      <td>0.990190</td>\n",
       "      <td>0.976834</td>\n",
       "    </tr>\n",
       "    <tr>\n",
       "      <th>2</th>\n",
       "      <td>1.028754</td>\n",
       "      <td>1.012366</td>\n",
       "      <td>1.007755</td>\n",
       "      <td>0.981050</td>\n",
       "      <td>1.031135</td>\n",
       "      <td>0.972074</td>\n",
       "      <td>0.972234</td>\n",
       "      <td>1.020567</td>\n",
       "      <td>0.995168</td>\n",
       "      <td>0.967859</td>\n",
       "      <td>...</td>\n",
       "      <td>1.016669</td>\n",
       "      <td>0.973128</td>\n",
       "      <td>1.007440</td>\n",
       "      <td>1.018220</td>\n",
       "      <td>0.984471</td>\n",
       "      <td>0.962210</td>\n",
       "      <td>1.004774</td>\n",
       "      <td>1.014779</td>\n",
       "      <td>0.979556</td>\n",
       "      <td>0.989724</td>\n",
       "    </tr>\n",
       "    <tr>\n",
       "      <th>3</th>\n",
       "      <td>1.023451</td>\n",
       "      <td>1.007631</td>\n",
       "      <td>1.005691</td>\n",
       "      <td>0.983811</td>\n",
       "      <td>1.020982</td>\n",
       "      <td>0.944577</td>\n",
       "      <td>0.984733</td>\n",
       "      <td>0.994585</td>\n",
       "      <td>0.992324</td>\n",
       "      <td>0.996372</td>\n",
       "      <td>...</td>\n",
       "      <td>1.017704</td>\n",
       "      <td>0.947497</td>\n",
       "      <td>1.007823</td>\n",
       "      <td>1.032476</td>\n",
       "      <td>0.965498</td>\n",
       "      <td>0.969443</td>\n",
       "      <td>1.023328</td>\n",
       "      <td>0.987672</td>\n",
       "      <td>0.986421</td>\n",
       "      <td>1.003889</td>\n",
       "    </tr>\n",
       "    <tr>\n",
       "      <th>4</th>\n",
       "      <td>1.043074</td>\n",
       "      <td>1.013935</td>\n",
       "      <td>1.020937</td>\n",
       "      <td>0.997946</td>\n",
       "      <td>1.041226</td>\n",
       "      <td>0.953888</td>\n",
       "      <td>1.000950</td>\n",
       "      <td>0.969132</td>\n",
       "      <td>0.996722</td>\n",
       "      <td>1.011425</td>\n",
       "      <td>...</td>\n",
       "      <td>1.004811</td>\n",
       "      <td>0.958330</td>\n",
       "      <td>1.007228</td>\n",
       "      <td>1.005488</td>\n",
       "      <td>0.968760</td>\n",
       "      <td>0.964029</td>\n",
       "      <td>1.010198</td>\n",
       "      <td>0.996707</td>\n",
       "      <td>0.977306</td>\n",
       "      <td>1.004098</td>\n",
       "    </tr>\n",
       "  </tbody>\n",
       "</table>\n",
       "<p>5 rows × 500 columns</p>\n",
       "</div>"
      ],
      "text/plain": [
       "        0         1         2         3         4         5         6    \\\n",
       "0  1.000000  1.000000  1.000000  1.000000  1.000000  1.000000  1.000000   \n",
       "1  0.999068  0.999048  0.992289  1.017938  1.042860  0.975969  0.986859   \n",
       "2  1.028754  1.012366  1.007755  0.981050  1.031135  0.972074  0.972234   \n",
       "3  1.023451  1.007631  1.005691  0.983811  1.020982  0.944577  0.984733   \n",
       "4  1.043074  1.013935  1.020937  0.997946  1.041226  0.953888  1.000950   \n",
       "\n",
       "        7         8         9    ...       490       491       492       493  \\\n",
       "0  1.000000  1.000000  1.000000  ...  1.000000  1.000000  1.000000  1.000000   \n",
       "1  1.048238  1.000549  0.979256  ...  1.005183  0.968840  1.004342  1.007438   \n",
       "2  1.020567  0.995168  0.967859  ...  1.016669  0.973128  1.007440  1.018220   \n",
       "3  0.994585  0.992324  0.996372  ...  1.017704  0.947497  1.007823  1.032476   \n",
       "4  0.969132  0.996722  1.011425  ...  1.004811  0.958330  1.007228  1.005488   \n",
       "\n",
       "        494       495       496       497       498       499  \n",
       "0  1.000000  1.000000  1.000000  1.000000  1.000000  1.000000  \n",
       "1  0.983433  1.009437  1.003316  1.023153  0.990190  0.976834  \n",
       "2  0.984471  0.962210  1.004774  1.014779  0.979556  0.989724  \n",
       "3  0.965498  0.969443  1.023328  0.987672  0.986421  1.003889  \n",
       "4  0.968760  0.964029  1.010198  0.996707  0.977306  1.004098  \n",
       "\n",
       "[5 rows x 500 columns]"
      ]
     },
     "execution_count": 13,
     "metadata": {},
     "output_type": "execute_result"
    }
   ],
   "source": [
    "# Run the Monte Carlo Simulation\n",
    "    \n",
    "for x in range(number_simulations):\n",
    "    simulated_prices_AGG = [last_close_AGG]\n",
    "    simulated_prices_SPY = [last_close_SPY]\n",
    "    \n",
    "    for n in range(number_records):\n",
    "        \n",
    "\n",
    "        simulated_price_AGG = simulated_prices_AGG[-1] * (1 + np.random.normal(avg_return_AGG, std_dev_AGG))\n",
    "        simulated_price_SPY = simulated_prices_SPY[-1] * (1 + np.random.normal(avg_return_SPY, std_dev_SPY))\n",
    "        \n",
    "        \n",
    "        simulated_prices_AGG.append(simulated_price_AGG)\n",
    "        simulated_prices_SPY.append(simulated_price_SPY)\n",
    "    \n",
    "    \n",
    "    monte_carlo_price_df[\"AGG prices\"] = pd.Series(simulated_prices_AGG)\n",
    "    monte_carlo_price_df[\"SPY prices\"] = pd.Series(simulated_prices_SPY)\n",
    "    \n",
    "   \n",
    "    monte_carlo_daily_returns = monte_carlo_price_df.pct_change()\n",
    "    \n",
    "    #portfolio weights (40% AGG; 60% SPY for 40%/60% bond/stock portfolio\n",
    "    weights = [0.40, 0.60]\n",
    "\n",
    "    weighted_monte_carlo_daily_returns = monte_carlo_daily_returns.dot(weights)\n",
    "    \n",
    "    \n",
    "\n",
    "    monte_carlo_cum_returns_df[x] = (1 + weighted_monte_carlo_daily_returns.fillna(0)).cumprod()\n",
    "    \n",
    "\n",
    "# monte_carlo_cum_returns_df = pd.Series(monte_carlo_cum_returns)\n",
    "monte_carlo_cum_returns_df.head()"
   ]
  },
  {
   "cell_type": "code",
   "execution_count": 14,
   "metadata": {},
   "outputs": [
    {
     "data": {
      "text/plain": [
       "<matplotlib.axes._subplots.AxesSubplot at 0x1aaaf1a0b08>"
      ]
     },
     "execution_count": 14,
     "metadata": {},
     "output_type": "execute_result"
    },
    {
     "data": {
      "image/png": "[encoded data removed]",
      "text/plain": [
       "<Figure size 1080x360 with 1 Axes>"
      ]
     },
     "metadata": {
      "needs_background": "light"
     },
     "output_type": "display_data"
    }
   ],
   "source": [
    "# Visualize the Simulation\n",
    "\n",
    "monte_carlo_cum_returns_df.plot(legend=None, figsize=(15,5), title=f\"{number_simulations} Simulations of Cumulative Portfolio Return Trajectories Over the Next 30 Years\")"
   ]
  },
  {
   "cell_type": "code",
   "execution_count": 15,
   "metadata": {},
   "outputs": [
    {
     "data": {
      "text/plain": [
       "0    0.114462\n",
       "1    0.074608\n",
       "2    0.083582\n",
       "3    0.031048\n",
       "4    0.081640\n",
       "Name: 7560, dtype: float64"
      ]
     },
     "execution_count": 15,
     "metadata": {},
     "output_type": "execute_result"
    }
   ],
   "source": [
    "# Select the last row for the cumulative returns (cumulative returns at 30 years)\n",
    "cum_returns_30 = monte_carlo_cum_returns_df.iloc[-1,:]\n",
    "cum_returns_30.head()"
   ]
  },
  {
   "cell_type": "code",
   "execution_count": 16,
   "metadata": {},
   "outputs": [
    {
     "data": {
      "text/plain": [
       "0    0.115819\n",
       "1    0.076584\n",
       "2    0.075124\n",
       "3    0.031026\n",
       "4    0.084304\n",
       "Name: 7550, dtype: float64"
      ]
     },
     "execution_count": 16,
     "metadata": {},
     "output_type": "execute_result"
    }
   ],
   "source": [
    "# Select the last row for the cumulative returns (cumulative returns at 20 years)\n",
    "cum_returns_20 = monte_carlo_cum_returns_df.iloc[-11,:]\n",
    "cum_returns_20.head()"
   ]
  },
  {
   "cell_type": "code",
   "execution_count": 17,
   "metadata": {},
   "outputs": [
    {
     "name": "stdout",
     "output_type": "stream",
     "text": [
      "Our 90% confidence interval for our 20-year portfolio return is 0.05    0.010354\n",
      "0.95    1.542601\n",
      "Name: 7550, dtype: float64.\n",
      "Our 90% confidence interval for our 30-year portfolio return is 0.05    0.009954\n",
      "0.95    1.541449\n",
      "Name: 7560, dtype: float64.\n"
     ]
    }
   ],
   "source": [
    "# Display the 90% confidence interval for the ending returns\n",
    "ci90_20 = cum_returns_20.quantile(q=[0.05, 0.95])\n",
    "ci90_30 = cum_returns_30.quantile(q=[0.05, 0.95])\n",
    "print(f\"Our 90% confidence interval for our 20-year portfolio return is {ci90_20}.\")\n",
    "print(f\"Our 90% confidence interval for our 30-year portfolio return is {ci90_30}.\")"
   ]
  },
  {
   "cell_type": "code",
   "execution_count": 18,
   "metadata": {},
   "outputs": [
    {
     "data": {
      "text/plain": [
       "<matplotlib.lines.Line2D at 0x1aab205f948>"
      ]
     },
     "execution_count": 18,
     "metadata": {},
     "output_type": "execute_result"
    },
    {
     "data": {
      "image/png": "[encoded data removed]",
      "text/plain": [
       "<Figure size 720x360 with 1 Axes>"
      ]
     },
     "metadata": {
      "needs_background": "light"
     },
     "output_type": "display_data"
    }
   ],
   "source": [
    "# Visualize the distribution of the ending returns\n",
    "plt.figure();\n",
    "cum_returns_20.plot.hist(density=True, figsize=(10,5), bins=25)\n",
    "plt.axvline(ci90_20.iloc[0], color='r')\n",
    "plt.axvline(ci90_20.iloc[1], color='g')"
   ]
  },
  {
   "cell_type": "code",
   "execution_count": 19,
   "metadata": {},
   "outputs": [
    {
     "data": {
      "text/plain": [
       "<matplotlib.lines.Line2D at 0x1aab1e426c8>"
      ]
     },
     "execution_count": 19,
     "metadata": {},
     "output_type": "execute_result"
    },
    {
     "data": {
      "image/png": "[encoded data removed]",
      "text/plain": [
       "<Figure size 720x360 with 1 Axes>"
      ]
     },
     "metadata": {
      "needs_background": "light"
     },
     "output_type": "display_data"
    }
   ],
   "source": [
    "plt.figure();\n",
    "cum_returns_30.plot.hist(density=True, figsize=(10,5), bins=25)\n",
    "plt.axvline(ci90_30.iloc[0], color='r')\n",
    "plt.axvline(ci90_30.iloc[1], color='g')"
   ]
  },
  {
   "cell_type": "markdown",
   "metadata": {},
   "source": [
    "---"
   ]
  },
  {
   "cell_type": "markdown",
   "metadata": {},
   "source": [
    "# Retirement Analysis\n",
    "\n",
    "In this section, you will use the monte carlo model to answer the following retirement planning questions:\n",
    "\n",
    "1. What are the expected cumulative returns at 30 years for the 10th, 50th, and 90th percentiles?\n",
    "2. Given an initial investment of `$20,000`, what is the expected portfolio return in dollars at the 10th, 50th, and 90th percentiles?\n",
    "3. Given the current projected annual income from the Plaid analysis, will a 4% withdraw rate from the retirement portfolio meet or exceed that value at the 10th percentile?\n",
    "4. How would a 50% increase in the initial investment amount affect the 4% retirement withdrawal?"
   ]
  },
  {
   "cell_type": "markdown",
   "metadata": {},
   "source": [
    "### What are the expected cumulative returns at 30 years for the 10th, 50th, and 90th percentiles?"
   ]
  },
  {
   "cell_type": "code",
   "execution_count": 20,
   "metadata": {},
   "outputs": [
    {
     "name": "stdout",
     "output_type": "stream",
     "text": [
      "0.45    0.100616\n",
      "0.55    0.156483\n",
      "Name: 7560, dtype: float64 0.25    0.045901\n",
      "0.75    0.364811\n",
      "Name: 7560, dtype: float64 0.05    0.009954\n",
      "0.95    1.541449\n",
      "Name: 7560, dtype: float64\n"
     ]
    }
   ],
   "source": [
    "ci10_30 = cum_returns_30.quantile(q=[0.45, 0.55])\n",
    "ci50_30 = cum_returns_30.quantile(q=[0.25, 0.75])\n",
    "print(ci10_30, ci50_30, ci90_30)\n",
    "#The expected cumulative returns are between "
   ]
  },
  {
   "cell_type": "markdown",
   "metadata": {},
   "source": [
    "### Given an initial investment of `$20,000`, what is the expected portfolio return in dollars at the 10th, 50th, and 90th percentiles?"
   ]
  },
  {
   "cell_type": "code",
   "execution_count": 21,
   "metadata": {},
   "outputs": [],
   "source": [
    "\n",
    "investment = 20000\n",
    "\n",
    "investment_lower_10 = investment + (investment * ci10_30.iloc[0])\n",
    "investment_upper_10 = investment + (investment * ci10_30.iloc[1])\n",
    "\n",
    "investment_lower_50 = investment + (investment * ci50_30.iloc[0])\n",
    "investment_upper_50 = investment + (investment * ci50_30.iloc[1])\n",
    "\n",
    "investment_lower_90 = investment + (investment * ci90_30.iloc[0])\n",
    "investment_upper_90 = investment + (investment * ci90_30.iloc[1])\n",
    "\n",
    "inv_lower_10 = round(investment_lower_10,2)\n",
    "inv_upper_10 = round(investment_upper_10,2)\n",
    "inv_lower_50 = round(investment_lower_50,2)\n",
    "inv_upper_50 = round(investment_upper_50,2)\n",
    "inv_lower_90 = round(investment_lower_90,2)\n",
    "inv_upper_90 = round(investment_upper_90,2)\n",
    "\n"
   ]
  },
  {
   "cell_type": "code",
   "execution_count": 36,
   "metadata": {},
   "outputs": [
    {
     "name": "stdout",
     "output_type": "stream",
     "text": [
      "There is a 10% probability that an initial investment of $20,000 will produce a portfolio value between $22,012.31 and $23,129.67 in 30 years\n",
      "There is a 50% probability that an initial investment of $20,000 will produce a portfolio value between $20,918.01 and $27,296.22 in 30 years\n",
      "There is a 90% probability that an initial investment of $20,000 will produce a portfolio value between $20,199.09 and $50,828.98 in 30 years\n"
     ]
    }
   ],
   "source": [
    "print(f\"There is a 10% probability that an initial investment of ${investment:,} will produce a portfolio value between ${inv_lower_10:,} and ${inv_upper_10:,} in 30 years\")\n",
    "print(f\"There is a 50% probability that an initial investment of ${investment:,} will produce a portfolio value between ${inv_lower_50:,} and ${inv_upper_50:,} in 30 years\")\n",
    "print(f\"There is a 90% probability that an initial investment of ${investment:,} will produce a portfolio value between ${inv_lower_90:,} and ${inv_upper_90:,} in 30 years\")"
   ]
  },
  {
   "cell_type": "markdown",
   "metadata": {},
   "source": [
    "### Given the current projected annual income from the Plaid analysis, will a 4% withdraw rate from the retirement portfolio meet or exceed that value at the 10th percentile?\n",
    "\n",
    "Note: This is effectively saying that 90% of the expected returns will be greater than the return at the 10th percentile, so this can help measure the uncertainty about having enough funds at retirement"
   ]
  },
  {
   "cell_type": "code",
   "execution_count": 37,
   "metadata": {},
   "outputs": [
    {
     "name": "stdout",
     "output_type": "stream",
     "text": [
      "807.96 2033.16\n"
     ]
    }
   ],
   "source": [
    "#Interpreting the question as: if you retire in 30 years, can your annual income (assuming it remains constant) be replaced by an initial 4%\n",
    "    #withdrawal from the portfolio at year 30.\n",
    "#Assumption made:  \n",
    "#If initial 4% withdrawal rate is sufficient after 30 years, it will remain so for the remainder of retirement.\n",
    "\n",
    "annual_income = 6085\n",
    "#projected net income as calculated in 'account_summary' file\n",
    "withdrawal_lower_90 = round(inv_lower_90  *.04,2)\n",
    "withdrawal_upper_90 = round(inv_upper_90 * .04,2)\n",
    "\n",
    "print(withdrawal_lower_90, withdrawal_upper_90)   "
   ]
  },
  {
   "cell_type": "code",
   "execution_count": 38,
   "metadata": {},
   "outputs": [
    {
     "name": "stdout",
     "output_type": "stream",
     "text": [
      "There is a 90% probability that a 4% withdrawal rate at year 30 will generate between $807.96 and $2,033.16.\n",
      "Given projected annual net income of $6,085, there a very strong probability that a 4% withdrawal at year 30 with an initial\n",
      "investment of $20,000 will not be sufficient to replace projected net income.\n",
      "Therefore, a larger initial investment and/or a significant reduction in expenses should be undertaken to allow a 4% withdrawal\n",
      "to fully substitute income after retirement.\n"
     ]
    }
   ],
   "source": [
    "print(f\"There is a 90% probability that a 4% withdrawal rate at year 30 will generate between ${withdrawal_lower_90:,} and ${withdrawal_upper_90:,}.\")\n",
    "print(f\"Given projected annual net income of ${annual_income:,}, there a very strong probability that a 4% withdrawal at year 30 with an initial\")\n",
    "print(f\"investment of ${investment:,} will not be sufficient to replace projected net income.\")\n",
    "print(f\"Therefore, a larger initial investment and/or a significant reduction in expenses should be undertaken to allow a 4% withdrawal\")\n",
    "print(f\"to fully substitute income after retirement.\")"
   ]
  },
  {
   "cell_type": "markdown",
   "metadata": {},
   "source": [
    "### How would a 50% increase in the initial investment amount affect the 4% retirement withdrawal?"
   ]
  },
  {
   "cell_type": "code",
   "execution_count": 40,
   "metadata": {},
   "outputs": [
    {
     "name": "stdout",
     "output_type": "stream",
     "text": [
      "There is a 10% probability that an initial investment of $30,000 will produce a portfolio value between $33,018.47 and $34,694.5 in 30 years\n",
      "There is a 50% probability that an initial investment of $30,000 will produce a portfolio value between $31,377.02 and $40,944.33 in 30 years\n",
      "There is a 90% probability that an initial investment of $30,000 will produce a portfolio value between $30,298.63 and $76,243.47 in 30 years\n"
     ]
    }
   ],
   "source": [
    "investment = 30000\n",
    "\n",
    "investment_lower_10 = investment + (investment * ci10_30.iloc[0])\n",
    "investment_upper_10 = investment + (investment * ci10_30.iloc[1])\n",
    "\n",
    "investment_lower_50 = investment + (investment * ci50_30.iloc[0])\n",
    "investment_upper_50 = investment + (investment * ci50_30.iloc[1])\n",
    "\n",
    "investment_lower_90 = investment + (investment * ci90_30.iloc[0])\n",
    "investment_upper_90 = investment + (investment * ci90_30.iloc[1])\n",
    "\n",
    "inv_lower_10 = round(investment_lower_10,2)\n",
    "inv_upper_10 = round(investment_upper_10,2)\n",
    "inv_lower_50 = round(investment_lower_50,2)\n",
    "inv_upper_50 = round(investment_upper_50,2)\n",
    "inv_lower_90 = round(investment_lower_90,2)\n",
    "inv_upper_90 = round(investment_upper_90,2)\n",
    "\n",
    "print(f\"There is a 10% probability that an initial investment of ${investment:,} will produce a portfolio value between ${inv_lower_10:,} and ${inv_upper_10:,} in 30 years\")\n",
    "print(f\"There is a 50% probability that an initial investment of ${investment:,} will produce a portfolio value between ${inv_lower_50:,} and ${inv_upper_50:,} in 30 years\")\n",
    "print(f\"There is a 90% probability that an initial investment of ${investment:,} will produce a portfolio value between ${inv_lower_90:,} and ${inv_upper_90:,} in 30 years\")"
   ]
  },
  {
   "cell_type": "code",
   "execution_count": 41,
   "metadata": {},
   "outputs": [
    {
     "name": "stdout",
     "output_type": "stream",
     "text": [
      "1211.95 3049.74\n"
     ]
    }
   ],
   "source": [
    "annual_income = 6085\n",
    "#projected net income as calculated in 'account_summary' file\n",
    "withdrawal_lower_90 = round(inv_lower_90  *.04,2)\n",
    "withdrawal_upper_90 = round(inv_upper_90 * .04,2)\n",
    "\n",
    "print(withdrawal_lower_90, withdrawal_upper_90) "
   ]
  },
  {
   "cell_type": "code",
   "execution_count": 42,
   "metadata": {},
   "outputs": [
    {
     "name": "stdout",
     "output_type": "stream",
     "text": [
      "There is a 90% probability that a 4% withdrawal rate at year 30 will generate between $1,211.95 and $3,049.74.\n",
      "Given projected annual net income of $6,085, there a very strong probability that a 4% withdrawal at year 30 with an initial\n",
      "investment of $30,000 will not be sufficient to replace projected net income.\n",
      "Therefore, a larger initial investment and/or a significant reduction in expenses should be undertaken to allow a 4% withdrawal\n",
      "to fully substitute income after retirement.\n"
     ]
    }
   ],
   "source": [
    "print(f\"There is a 90% probability that a 4% withdrawal rate at year 30 will generate between ${withdrawal_lower_90:,} and ${withdrawal_upper_90:,}.\")\n",
    "print(f\"Given projected annual net income of ${annual_income:,}, there a very strong probability that a 4% withdrawal at year 30 with an initial\")\n",
    "print(f\"investment of ${investment:,} will not be sufficient to replace projected net income.\")\n",
    "print(f\"Therefore, a larger initial investment and/or a significant reduction in expenses should be undertaken to allow a 4% withdrawal\")\n",
    "print(f\"to fully substitute income after retirement.\")"
   ]
  },
  {
   "cell_type": "markdown",
   "metadata": {},
   "source": [
    "### Optional Challenge\n",
    "\n",
    "In this section, you will calculate and plot the cumulative returns for the median and 90% confidence intervals. This plot shows the expected cumulative returns for any given day between the first day and the last day of investment. "
   ]
  },
  {
   "cell_type": "code",
   "execution_count": null,
   "metadata": {},
   "outputs": [],
   "source": [
    "# YOUR CODE HERE"
   ]
  }
 ],
 "metadata": {
  "kernel_info": {
   "name": "dev"
  },
  "kernelspec": {
   "display_name": "Python PyViz",
   "language": "python",
   "name": "pyviz"
  },
  "language_info": {
   "codemirror_mode": {
    "name": "ipython",
    "version": 3
   },
   "file_extension": ".py",
   "mimetype": "text/x-python",
   "name": "python",
   "nbconvert_exporter": "python",
   "pygments_lexer": "ipython3",
   "version": "3.7.7"
  },
  "nteract": {
   "version": "0.12.3"
  }
 },
 "nbformat": 4,
 "nbformat_minor": 4
}
